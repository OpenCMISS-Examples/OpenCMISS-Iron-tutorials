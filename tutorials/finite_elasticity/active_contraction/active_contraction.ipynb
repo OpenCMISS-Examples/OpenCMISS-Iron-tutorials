{
 "cells": [
  {
   "cell_type": "markdown",
   "metadata": {},
   "source": [
    "# Finite elasticity - active contraction\n",
    "\n",
    "## Introduction\n",
    "\n",
    "This tutorial demonstrates how to setup and solve a nonlinear continuum mechanics problem along with active contraction using OpenCMISS-Iron in python. For the purpose of this tutorial, we will be solving a 3D finite elasticity problem. This tutorial has been set up to solve the deformation of a transversely isotropic unit cube.\n",
    "The simulation models a biaxial loading scenario, incorporating both passive and active mechanical responses. This is achieved through a combination of:\n",
    "\n",
    "1. Passive deformation: A 25% extension applied simultaneously in both the x and y directions.\n",
    "2. Active contraction: A prescribed contractile stress oriented along the predefined fibre direction.\n",
    "\n",
    "This approach allows for the examination of the material's behavior under complex loading conditions, simulating both external forces and internal active mechanisms typical in biological tissues.",
    "\n",

    "See the [OpenCMISS-Iron tutorial documenation page](https://opencmiss-iron-tutorials.readthedocs.io/en/latest/tutorials.html#how-to-run-tutorials) for instructions on how to run this tutorial.\n",
    "\n",
    "## Learning outcomes\n",
    "At the end of this tutorial, you will:\n",
    "\n",
    "- Know how to align a fibre field.\n",
    "\n",
    "- Learn to incorporate and utilize an active contraction field.\n",
    "\n",
    "## Problem summary\n",
    "\n",
    "### The finite elasticity stress equilibrium equation\n",
    "In this example, we solve the stress equilibrium equation for nonlinear finite elasticity. The stress equilibrium equation represents the principle of linear momentum as follows:\n",
    "\n",
    "$$\\displaystyle \\nabla \\sigma + \\rho \\mathbf{b}-\\rho \\mathbf {a}=0. \\qquad \\text{in} \\qquad  \\Omega $$\n",
    "\n",
    "where $\\sigma$ is the Cauchy stress tensor, $\\mathbf{b}$ is the body force vector and $\\mathbf{a}$ is the vector representing the acceleration due to any unbalanced forces.\n",
    "\n",
    "The boundary equations for the stress equilibrium equation are partitioned into the Dirichlet boundary conditions representing a fixed displacement $u_d$ over the boundary $\\Gamma_d$, and the Neumann boundary conditions representing the traction forces $\\mathbf{t}$ applied on the boundary $\\Gamma_t$ along the normal $\\mathbf{n}$ as follows:\n",
    "\n",
    "$$\n",
    "\\begin{aligned}\n",
    "\\displaystyle u &= u_d \\quad &\\text{on} \\quad \\Gamma_d \\\\\n",
    "\\displaystyle \\sigma^T \\mathbf{n} &= \\mathbf{t} \\quad &\\text{on} \\quad \\Gamma_t \n",
    "\\end{aligned}\n",
    "$$\n",
    "\n",
    "In this example, we will solve the stress equilibrium equation for an incompressible material, which we shall perform using **the incompressibility constraint**:\n",
    "\n",
    "$$\\displaystyle (I_3-1) = 0$$\n",
    "\n",
    "We will use the Guccione constitutive equation to describe the transversely isotropic behaviour of the material.\n",
    "\n",
    "### Solution variables\n",
    "The problem we are about to solve includes 4 dependent variables. The first three variables represent each of the 3D coordinates $(x,y,z)$ of the mesh nodes in the deformed state. The incompressibility constraint is satisfied using Lagrange multipliers, which are represented as a scalar variable, $p$. This variable is often referred to as the **hydrostatic pressure**.\n",
    "\n",
    "### Constitutive relationship\n",
    "Another important set of equations that need to be included when solving a mechanics problem is the stress-strain relationships or **constitutive relationships**. There is a set of constitutive equations that have already been included within the OpenCMISS-Iron library as [EquationSet subtypes](http://cmiss.bioeng.auckland.ac.nz/OpenCMISS/doc/user/group___o_p_e_n_c_m_i_s_s___equations_set_subtypes.html).\n",
    "\n"
   ]
  },
  {
   "cell_type": "markdown",
   "metadata": {},
   "source": [
    "## Setup\n",
    "\n",
    "### Loading the OpenCMISS-Iron library\n",
    "In order to use OpenCMISS-Iron, we first have to import the opencmiss.iron module from the OpenCMISS-Iron package."
   ]
  },
  {
   "cell_type": "code",
   "execution_count": 1,
   "metadata": {},
   "outputs": [],
   "source": [
    "import numpy\n",
    "\n",
    "# Intialise OpenCMISS-Iron.\n",
    "from opencmiss.iron import iron"
   ]
  },
  {
   "cell_type": "markdown",
   "metadata": {},
   "source": [
    "### Set up parameters\n",
    "We first specify a set of variables that will be used throughout the tutorial. This is a common practice among experienced users to set these variables up at the start because we can then change these easily and re-run the rest of the code as required."
   ]
  },
  {
   "cell_type": "code",
   "execution_count": 2,
   "metadata": {
    "pycharm": {
     "name": "#%%\n"
    }
   },
   "outputs": [],
   "source": [
    "# Set constants\n",
    "X, Y, Z = (1, 2, 3)\n",
    "\n",
    "# Specify the number of local element directions.\n",
    "number_of_xi = 3\n",
    "\n",
    "# Specify the number of elements along each element direction.\n",
    "number_global_x_elements = 1\n",
    "number_global_y_elements = 1\n",
    "number_global_z_elements = 1\n",
    "\n",
    "# Set dimensions of the cube.\n",
    "width = 1.0\n",
    "length = 1.0\n",
    "height = 1.0\n",
    "\n",
    "number_of_dimensions = 3\n",
    "interpolation_type = 1\n",
    "number_of_gauss_per_xi = 2 # Gauss points along each local element coordinate direction (xi).\n",
    "use_pressure_basis = False\n",
    "number_of_load_increments = 1"
   ]
  },
  {
   "cell_type": "markdown",
   "metadata": {},
   "source": [
    "- `interpolation_type` is an integer variable that can be changed to choose one of the nine basis interpolation types defined in OpenCMISS-Iron [Basis Interpolation Specifications Constants](http://opencmiss.org/documentation/apidoc/iron/latest/python/classiron_1_1_basis_interpolation_specifications.html)\n",
    "\n",
    "- `number_of_gauss_per_xi` is the number of Gauss points used along a given local element direction for integrating the equilibrium equations. Note that there is a minimum number of Gauss points required for a given interpolation scheme (e.g. linear Lagrange interpolation requires at least 2 Gauss points along each local element direction). Using less than the minimum number will result in the solver not converging.\n",
    "\n",
    "- `use_pressure_basis` is a boolean variable that we can set to true to set up a node-based interpolation scheme for the incompressibility constraint or set to false if we want the pressure basis to be only varying between elements. This choice is typically determined by the basis function used to interpolate the geometric variables. The pressure basis is typically one order lower than the geometric and displacement field interpolation schemes. If you choose linear Lagrange for displacements, then the lower order is a constant, element-based interpolation. If you choose quadratic Lagrange for the geometry, then a linear interpolation can be chosen.  \n",
    "\n",
    "- `number_of_load_increments` sets the number of load steps to be taken to solve the nonlinear mechanics problem. This concept is briefly explained below.\n",
    "\n",
    "  The weak form finite element matrix equations for the stress equilibrium equations above have been implemented in the OpenCMISS-Iron libraries. Numerical treatment of the equations will show that the equations are nonlinear and, specifically, the determination of the deformed configuration coordinates turns out to be like a root finding exercise. We need to find the deformed coordinates $\\mathbf{x}$ such that $f(x)=0$. These equations are therefore solved using a nonlinear iterative solver, **Newton Raphson technique** to be exact. Nonlinear solvers require an initial guess at the root of the equation and if we are far away from the actual solution then the solvers can diverge and give spurious $x$ values. Therefore, in most simulations, it is best to split an entire mechanical load into lots of smaller loads. This is what `number_of_load_increments` allows us to do. You will see it come to use in the control loop section of the tutorial below."
   ]
  },
  {
   "cell_type": "markdown",
   "metadata": {},
   "source": [
    "The next section describes how we can interact with the OpenCMISS-Iron library through it's object-oriented API to create and solve the mechanics problem.\n",
    "\n",
    "## Step by step guide\n",
    "\n",
    "### 1. Creating a coordinate system\n",
    "\n",
    "First we construct a coordinate system that will be used to describe the geometry in our problem. The 3D geometry will exist in a 3D space, so we need a 3D coordinate system."
   ]
  },
  {
   "cell_type": "code",
   "execution_count": 3,
   "metadata": {},
   "outputs": [],
   "source": [
    "# Create a 3D rectangular cartesian coordinate system.\n",
    "coordinate_system_user_number = 1\n",
    "coordinate_system = iron.CoordinateSystem()\n",
    "coordinate_system.CreateStart(coordinate_system_user_number)\n",
    "coordinate_system.DimensionSet(3)\n",
    "coordinate_system.CreateFinish()"
   ]
  },
  {
   "cell_type": "markdown",
   "metadata": {},
   "source": [
    "### 2. Creating basis functions\n",
    "\n",
    "The finite element description of our fields requires a basis function to interpolate field values over elements. In OpenCMISS-Iron, we start by initalising a `basis` object on which can specific an interpolation scheme. In the following section, you can choose from a number of basis function interpolation types. These are defined in the OpenCMISS-Iron [Basis Interpolation Specifications Constants](http://opencmiss.org/documentation/apidoc/iron/latest/python/classiron_1_1_basis_interpolation_specifications.html). The `interpolation_type` variable that was set at the top of the tutorial will be used to determine which basis interpolation will be used in this simulation. Note that you will need to ensure that an appropriate `number_of_gauss_per_xi` has been set if you change the basis interpolation.\n",
    "\n",
    "We have also initialised a second `pressure_basis` object for the hydrostatic pressure. In mechanics theory, it is generally well understood that the interpolation scheme for the hydrostatic pressure basis should be one order lower than the geometric basis. `use_pressure_basis`, which is set at the top of the tutorial, determines whether the incompressibility constraint equation will be interpolated using a nodally based interpolation scheme or interpolated as a constant within elements. If the pressure basis is not defined, then the simulation is set up with element-based interpolation. \n",
    "\n",
    "Note that if you want to describe nearly incompressible or compressible materials, then you need to choose a different equation subtype that describes a constitutive equation for compressible/nearly incompressible materials. "
   ]
  },
  {
   "cell_type": "code",
   "execution_count": 4,
   "metadata": {},
   "outputs": [],
   "source": [
    "basis_user_number = 1\n",
    "pressure_basis_user_number = 2\n",
    "\n",
    "xi_interpolation = [\n",
    "        iron.BasisInterpolationSpecifications.LINEAR_LAGRANGE,\n",
    "        iron.BasisInterpolationSpecifications.LINEAR_LAGRANGE,\n",
    "        iron.BasisInterpolationSpecifications.LINEAR_LAGRANGE]\n",
    "number_of_guass_xi = [3, 3, 3]\n",
    "\n",
    "# Define geometric basis.\n",
    "basis = iron.Basis()\n",
    "basis.CreateStart(basis_user_number)\n",
    "basis.TypeSet(iron.BasisTypes.LAGRANGE_HERMITE_TP)\n",
    "basis.NumberOfXiSet(number_of_xi)\n",
    "basis.InterpolationXiSet(xi_interpolation)\n",
    "basis.QuadratureNumberOfGaussXiSet(number_of_guass_xi)\n",
    "basis.CreateFinish()\n",
    "\n",
    "if use_pressure_basis:\n",
    "    # Define hydrostatic pressure basis.\n",
    "    pressure_basis = iron.Basis()\n",
    "    pressure_basis.CreateStart(pressure_basis_user_number)\n",
    "    pressure_basis.TypeSet(iron.BasisTypes.LAGRANGE_HERMITE_TP)\n",
    "    pressure_basis.NumberOfXiSet(number_of_xi)\n",
    "    pressure_basis.InterpolationXiSet(xi_interpolation)\n",
    "    pressure_basis.QuadratureNumberOfGaussXiSet(number_of_guass_xi)\n",
    "    pressure_basis.CreateFinish()"
   ]
  },
  {
   "cell_type": "markdown",
   "metadata": {},
   "source": [
    "### 3. Creating a region\n",
    "\n",
    "Next, we create a region that our fields will be defined on and tell it to use the 3D coordinate system we created previously."
   ]
  },
  {
   "cell_type": "code",
   "execution_count": 5,
   "metadata": {},
   "outputs": [],
   "source": [
    "# Create a region and assign the coordinate system to the region.\n",
    "region_user_number = 1\n",
    "region = iron.Region()\n",
    "region.CreateStart(region_user_number,iron.WorldRegion)\n",
    "region.LabelSet(\"Region\")\n",
    "region.CoordinateSystemSet(coordinate_system)\n",
    "region.CreateFinish()"
   ]
  },
  {
   "cell_type": "markdown",
   "metadata": {},
   "source": [
    "### 4. Setting up a simple cuboid mesh\n",
    "\n",
    "In this example, we will use the `iron.GeneratedMesh()` class of OpenCMISS to automatically create a 3D geometric mesh on which to solve the mechanics problem. We will create a regular mesh of size `width` (defined along x), `height` (defined along y) and `depth` (defined along z) and divide the mesh into `number_global_x_elements` in the X direction, `number_global_y_elements` in the Y direction and  `number_global_z_elements` in the Z direction. We will then tell it to use the basis we created previously."
   ]
  },
  {
   "cell_type": "code",
   "execution_count": 6,
   "metadata": {},
   "outputs": [],
   "source": [
    "# Start the creation of a generated mesh in the region.\n",
    "generated_mesh_user_number = 1\n",
    "generated_mesh = iron.GeneratedMesh()\n",
    "generated_mesh.CreateStart(generated_mesh_user_number, region)\n",
    "generated_mesh.TypeSet(iron.GeneratedMeshTypes.REGULAR)\n",
    "if use_pressure_basis:\n",
    "    generated_mesh.BasisSet([basis, pressure_basis])\n",
    "else:\n",
    "    generated_mesh.BasisSet([basis])\n",
    "    generated_mesh.ExtentSet([width, length, height])\n",
    "    generated_mesh.NumberOfElementsSet(\n",
    "        [number_global_x_elements,\n",
    "         number_global_y_elements,\n",
    "         number_global_z_elements])\n",
    "# Finish the creation of a generated mesh in the region.\n",
    "mesh_user_number = 1\n",
    "mesh = iron.Mesh()\n",
    "generated_mesh.CreateFinish(mesh_user_number,mesh)"
   ]
  },
  {
   "cell_type": "markdown",
   "metadata": {},
   "source": [
    "### 5. Decomposing the mesh\n",
    "Once the mesh has been created we can decompose it into a number of domains in order to allow for parallelism. We choose the options to let OpenCMISS-Iron to calculate the best way to break up the mesh. We also set the number of domains to be equal to the number of computational nodes this example is running on. In this example, we will only be using a single domain. Look for our parallelisation example for a demonstration of how to execute simulations using parallel processing techniques."
   ]
  },
  {
   "cell_type": "code",
   "execution_count": 7,
   "metadata": {},
   "outputs": [],
   "source": [
    "# Get the number of computational nodes.\n",
    "number_of_computational_nodes = iron.ComputationalNumberOfNodesGet()\n",
    "\n",
    "# Create a decomposition for the mesh.\n",
    "decomposition_user_number = 1\n",
    "decomposition = iron.Decomposition()\n",
    "decomposition.CreateStart(decomposition_user_number,mesh)\n",
    "decomposition.TypeSet(iron.DecompositionTypes.CALCULATED)\n",
    "decomposition.NumberOfDomainsSet(number_of_computational_nodes)\n",
    "decomposition.CreateFinish()"
   ]
  },
  {
   "cell_type": "markdown",
   "metadata": {},
   "source": [
    "### 6. Creating a geometric field\n",
    "Now that the mesh has been decomposed we are in a position to create fields. The first field we need to create is the geometric field. Once we have finished creating the field, we can change the field degrees of freedom (DOFs) to give us our geometry. Since the mesh was constructed using the OpenCMISS-Iron `GenerateMesh` class, we can use its `GeometricParametersCalculate` method to automatically calculate and populate the geometric field parameters of the regular mesh."
   ]
  },
  {
   "cell_type": "code",
   "execution_count": 8,
   "metadata": {},
   "outputs": [],
   "source": [
    "# Create a field for the geometry.\n",
    "geometric_field_user_number = 1\n",
    "\n",
    "geometric_field = iron.Field()\n",
    "geometric_field.CreateStart(geometric_field_user_number,region)\n",
    "geometric_field.MeshDecompositionSet(decomposition)\n",
    "geometric_field.TypeSet(iron.FieldTypes.GEOMETRIC)\n",
    "geometric_field.VariableLabelSet(iron.FieldVariableTypes.U,\"Geometry\")\n",
    "geometric_field.ComponentMeshComponentSet(iron.FieldVariableTypes.U,1,1)\n",
    "geometric_field.ComponentMeshComponentSet(iron.FieldVariableTypes.U,2,1)\n",
    "geometric_field.ComponentMeshComponentSet(iron.FieldVariableTypes.U,3,1)\n",
    "if interpolation_type == 4:\n",
    "    # Set arc length scaling for cubic-Hermite elements.\n",
    "    geometric_field.FieldScalingTypeSet(iron.FieldScalingTypes.ARITHMETIC_MEAN)\n",
    "geometric_field.CreateFinish()\n",
    "\n",
    "# Update the geometric field parameters from the generated mesh.\n",
    "generated_mesh.GeometricParametersCalculate(geometric_field)"
   ]
  },
  {
   "cell_type": "markdown",
   "metadata": {},
   "source": [
    "### 7. Creating fields\n",
    "\n",
    "#### Dependent field\n",
    "\n",
    "When solving the mechanics equations set, we require somewhere to store the deformed geometry (our solution). In OpenCMISS-Iron, we store the solutions to equation sets in a dependent field that contains our dependent variables. Note that the dependent field has been pre-defined in the OpenCMISS-Iron library to contain four components when solving `ProblemTypes.FINITE_ELASTICITY` with a `EquationsSetSubTypes.GUCCIONE_ACTIVECONTRACTION` subtype. The first three components store the deformed coordinates and the fourth stores the hydrostatic pressure.\n",
    "\n",
    "Remember that `use_pressure_basis` can be set to true or false to switch between element-based or nodally-based interpolation for the incompressibility constraint.\n",
    "\n",
    "One can either make the hydrostatic pressure constant within an element by calling the `dependent_field.ComponentInterpolationSet` method with the `iron.FieldInterpolationTypes.ELEMENT_BASED` option. Alternatively, we can make the hydrostatic pressure variable across different nodes by calling the `dependent_field.ComponentInterpolationSet` method with the `iron.FieldInterpolationTypes.NODE_BASED` option. In this tutorial, we have chosen the hydrostatic pressure to be nodally interpolated if `use_pressure_basis` is true, or use element-based interpolation if `use_pressure_basis` is false."
   ]
  },
  {
   "cell_type": "code",
   "execution_count": 9,
   "metadata": {
    "pycharm": {
     "name": "#%%\n"
    }
   },
   "outputs": [],
   "source": [
    "dependent_field_user_number = 2\n",
    "\n",
    "dependent_field = iron.Field()\n",
    "dependent_field.CreateStart(dependent_field_user_number, region)\n",
    "dependent_field.MeshDecompositionSet(decomposition)\n",
    "dependent_field.TypeSet(iron.FieldTypes.GEOMETRIC_GENERAL)\n",
    "dependent_field.GeometricFieldSet(geometric_field)\n",
    "dependent_field.DependentTypeSet(iron.FieldDependentTypes.DEPENDENT)\n",
    "dependent_field.VariableLabelSet(iron.FieldVariableTypes.U, \"Dependent\")\n",
    "dependent_field.NumberOfVariablesSet(2)\n",
    "\n",
    "# Set the number of components for the U variable (position) and the DELUDELN\n",
    "# (forces).\n",
    "dependent_field.NumberOfComponentsSet(iron.FieldVariableTypes.U, 4)\n",
    "dependent_field.NumberOfComponentsSet(iron.FieldVariableTypes.DELUDELN, 4)\n",
    "\n",
    "if use_pressure_basis:\n",
    "    # Set the hydrostatic pressure to be nodally based and use the second mesh component.\n",
    "    # U variable (position)\n",
    "    dependent_field.ComponentInterpolationSet(\n",
    "        iron.FieldVariableTypes.U, 4, iron.FieldInterpolationTypes.NODE_BASED)\n",
    "    dependent_field.ComponentMeshComponentSet(\n",
    "        iron.FieldVariableTypes.U, 4, 2)\n",
    "\n",
    "    # DELUDELN variable (forces)\n",
    "    dependent_field.ComponentInterpolationSet(\n",
    "        iron.FieldVariableTypes.DELUDELN, 4,\n",
    "        iron.FieldInterpolationTypes.NODE_BASED)\n",
    "    dependent_field.ComponentMeshComponentSet(\n",
    "        iron.FieldVariableTypes.DELUDELN, 4, 2)\n",
    "\n",
    "    if interpolation_type == 4:\n",
    "        # Set arc length scaling for cubic-Hermite elements.\n",
    "        dependent_field.FieldScalingTypeSet(\n",
    "            iron.FieldScalingTypes.ARITHMETIC_MEAN)\n",
    "else:\n",
    "    # Set the hydrostatic pressure to be constant within each element.\n",
    "    dependent_field.ComponentInterpolationSet(\n",
    "        iron.FieldVariableTypes.U, 4,\n",
    "        iron.FieldInterpolationTypes.ELEMENT_BASED)\n",
    "    dependent_field.ComponentInterpolationSet(\n",
    "        iron.FieldVariableTypes.DELUDELN, 4,\n",
    "        iron.FieldInterpolationTypes.ELEMENT_BASED)\n",
    "dependent_field.CreateFinish()"
   ]
  },
  {
   "cell_type": "markdown",
   "metadata": {
    "pycharm": {
     "name": "#%% md\n"
    }
   },
   "source": [
    "This dependent field needs to be initialised before the simulation is run. To this end, we copy the values of the coordinates from the geometric field into the dependent field in the below code snippet. The hydrostatic pressure field is set to 0.0."
   ]
  },
  {
   "cell_type": "code",
   "execution_count": 10,
   "metadata": {
    "pycharm": {
     "name": "#%%\n"
    }
   },
   "outputs": [],
   "source": [
    "# Initialise dependent field from undeformed geometry and displacement bcs and set hydrostatic pressure.\n",
    "iron.Field.ParametersToFieldParametersComponentCopy(\n",
    "    geometric_field, iron.FieldVariableTypes.U, iron.FieldParameterSetTypes.VALUES, 1,\n",
    "    dependent_field, iron.FieldVariableTypes.U, iron.FieldParameterSetTypes.VALUES, 1)\n",
    "iron.Field.ParametersToFieldParametersComponentCopy(\n",
    "    geometric_field, iron.FieldVariableTypes.U, iron.FieldParameterSetTypes.VALUES, 2,\n",
    "    dependent_field, iron.FieldVariableTypes.U, iron.FieldParameterSetTypes.VALUES, 2)\n",
    "iron.Field.ParametersToFieldParametersComponentCopy(\n",
    "    geometric_field, iron.FieldVariableTypes.U, iron.FieldParameterSetTypes.VALUES, 3,\n",
    "    dependent_field, iron.FieldVariableTypes.U, iron.FieldParameterSetTypes.VALUES, 3)\n",
    "iron.Field.ComponentValuesInitialiseDP(\n",
    "    dependent_field, iron.FieldVariableTypes.U, iron.FieldParameterSetTypes.VALUES, 4, 0.0)"
   ]
  },
  {
   "cell_type": "markdown",
   "metadata": {},
   "source": [
    "#### Fibre field\n",
    "Using transversely isotropic Guccione constitutive law, we need to specify the direction of the fibre. In this example, we assume a simplified fibre orientation where the fibres are aligned at a 45-degree angle with respect to the x-direction. This corresponds to approximately 0.7854 radians. To implement this in the model, we add a new field for the fibre orientation:"
   ]
  },
 {
  "cell_type": "code",
  "execution_count": 11,
  "metadata": {},
  "outputs": [],
  "source": [
    "# Create the fibre field\n",
    "fibre_field_user_number = 3\n",
    "fibre_field = iron.Field()\n",
    "fibre_field.CreateStart(fibre_field_user_number, region)\n",
    "fibre_field.TypeSet(iron.FieldTypes.FIBRE)\n",
    "fibre_field.MeshDecompositionSet(decomposition)\n",
    "fibre_field.GeometricFieldSet(geometric_field)\n",
    "fibre_field.VariableLabelSet(iron.FieldVariableTypes.U, \"Fibre\")\n",
    "for i in range(1, number_of_xi + 1):\n",
    "    fibre_field.ComponentInterpolationSet(iron.FieldVariableTypes.U, i, iron.FieldInterpolationTypes.CONSTANT)\n",
    "fibre_field.ScalingTypeSet(iron.FieldScalingTypes.ARITHMETIC_MEAN)\n",
    "fibre_field.CreateFinish()\n",
    "fibre_field.ComponentValuesInitialiseDP(iron.FieldVariableTypes.U, iron.FieldParameterSetTypes.VALUES, 1, 0.785398)\n",
    "fibre_field.ComponentValuesInitialiseDP(iron.FieldVariableTypes.U, iron.FieldParameterSetTypes.VALUES, 2, 0)\n",
    "fibre_field.ComponentValuesInitialiseDP(iron.FieldVariableTypes.U, iron.FieldParameterSetTypes.VALUES, 3, 0)"
   ]
},
  {
   "cell_type": "markdown",
   "metadata": {},
   "source": [
    "#### Material field\n",
    "We now set up the material field to store the constitutive equation parameters of the transversely isotropic Guccione law, with the following parameters: C= 0.002 kPa, bf=8, bt=2 and bfs=4."
   ]
  },
  {
   "cell_type": "code",
   "execution_count": 12,
   "metadata": {
   "pycharm": {
    "name": "#%%\n"
   }
  },
   "outputs": [],
   "source": [
    "# Create the material field.\n",
    "material_field_user_number = 4\n",
    "\n",
    "material_field = iron.Field()\n",
    "material_field.CreateStart(material_field_user_number, region)\n",
    "material_field.TypeSet(iron.FieldTypes.MATERIAL)\n",
    "material_field.MeshDecompositionSet(decomposition)\n",
    "material_field.GeometricFieldSet(geometric_field)\n",
    "material_field.VariableLabelSet(iron.FieldVariableTypes.U, \"Material\")\n",
    "material_field.NumberOfVariablesSet(1)\n",
    "material_field.NumberOfComponentsSet(iron.FieldVariableTypes.U, 4)\n",
    "material_field.ComponentInterpolationSet(iron.FieldVariableTypes.U, 1, iron.FieldInterpolationTypes.CONSTANT)\n",
    "material_field.ComponentInterpolationSet(iron.FieldVariableTypes.U, 2, iron.FieldInterpolationTypes.CONSTANT)\n",
    "material_field.ComponentInterpolationSet(iron.FieldVariableTypes.U, 3, iron.FieldInterpolationTypes.CONSTANT)\n",
    "material_field.ComponentInterpolationSet(iron.FieldVariableTypes.U, 4, iron.FieldInterpolationTypes.CONSTANT)\n",
    "material_field.ScalingTypeSet(iron.FieldScalingTypes.ARITHMETIC_MEAN)\n",
    "material_field.CreateFinish()\n",
    "# Guccione parameters\n",
    "material_field.ComponentValuesInitialiseDP(iron.FieldVariableTypes.U, iron.FieldParameterSetTypes.VALUES, 1, 0.002)\n",
    "material_field.ComponentValuesInitialiseDP(iron.FieldVariableTypes.U, iron.FieldParameterSetTypes.VALUES, 2, 8.0)\n",
    "material_field.ComponentValuesInitialiseDP(iron.FieldVariableTypes.U, iron.FieldParameterSetTypes.VALUES, 3, 2.0)\n",
    "material_field.ComponentValuesInitialiseDP(iron.FieldVariableTypes.U, iron.FieldParameterSetTypes.VALUES, 4, 4.0)\n"
   ]
  },
  {
  "cell_type": "markdown",
  "metadata": {},
  "source": [
    "#### Active contraction Field\n",
    "\n",
    "In this section, we create the active contraction field, representing the contractile force within the cube. Active contraction parameter will be assigned after the creation of the equation set.\n"
  ]
},
  {
  "cell_type": "code",
  "execution_count": 13,
  "metadata": {},
  "outputs": [],
  "source": [
    "# Create Active contraction field\n",
    "active_contraction_field_user_number = 5\n",
    "active_contraction_field = iron.Field()\n"
  ]
  },
  {
   "cell_type": "markdown",
   "metadata": {},
   "source": [
    "#### Equation set field"
   ]
  },
  {
   "cell_type": "code",
   "execution_count": 14,
   "metadata": {
    "pycharm": {
     "name": "#%%\n"
    }
   },
   "outputs": [],
   "source": [
    "# Equation set field\n",
    "equations_set_field_user_number = 6\n",
    "equations_set_field = iron.Field()\n",
    "# Equation set\n",
    "equations_set = iron.EquationsSet()"
   ]
  },
  {
   "cell_type": "markdown",
   "metadata": {},
   "source": [
    "### 8. Defining the finite elasticity equations set\n",
    "We now specify that we want to solve a finite elasticity equation and identify the specific material constitutive equation that we wish to use to describe the mechanical behaviour of the cube.\n",
    "\n",
    "The key constants used to define the equation set are:\n",
    "- `ProblemClasses.ELASTICITY` defines that the equation set is of the elasticity class.\n",
    "- `ProblemTypes.FINITE_ELASTICITY` defines that the finite elasticity equations set will be used.\n",
    "- `EquationsSetSubTypes.GUCCIONE_ACTIVECONTRACTION` defines the Guccione constitutive equation that should be used from the range of constitutive equations that are implemented within the OpenCMISS-Iron library. This particular subtype is notable for its capability to incorporate active contraction. You can find more information on these by browsing the OpenCMISS-Iron [Equations Set Subtypes Constants](http://opencmiss.org/documentation/apidoc/iron/latest/python/classiron_1_1_equations_set_subtypes.html)."
   ]
  },
  {
   "cell_type": "code",
   "execution_count": 15,
   "metadata": {},
   "outputs": [],
   "source": [
    "equations_set_user_number = 1\n",
    "\n",
    "# Finite elasticity equation specification.\n",
    "equations_set_specification = [iron.ProblemClasses.ELASTICITY,\n",
    "    iron.ProblemTypes.FINITE_ELASTICITY,\n",
    "    iron.EquationsSetSubtypes.GUCCIONE_ACTIVECONTRACTION]\n",
    "\n",
    "# Add the geometric field and equations set field that we created earlier (note\n",
    "# that while we defined the geometric field above, we only initialised an empty\n",
    "# field for the equations_set_field. When an empty field is provided to the \n",
    "# equations_set, it will automatically populate it with default values).\n",
    "equations_set.CreateStart(\n",
    "    equations_set_user_number, region, fibre_field, equations_set_specification,\n",
    "    equations_set_field_user_number, equations_set_field)\n",
    "equations_set.CreateFinish()\n",
    "# Add the material field.\n",
    "equations_set.MaterialsCreateStart(material_field_user_number, material_field)\n",
    "equations_set.MaterialsCreateFinish()\n",
    "# Add the dependent field that we created earlier.\n",
    "equations_set.DependentCreateStart(dependent_field_user_number, dependent_field)\n",
    "equations_set.DependentCreateFinish()\n"
   ]
  },
  {
   "cell_type": "markdown",
   "metadata": {},
   "source": [
   "At this stage, we define the parameter for active contraction. In this model, we configure the active contraction stress to act exclusively along the fibre direction.\n"
   ]
  },
  {
  "cell_type": "code",
  "execution_count": 16,
  "metadata": {},
  "outputs": [],
  "source": [
    "# Add the active contraction field\n",
    "equations_set.IndependentCreateStart(active_contraction_field_user_number, active_contraction_field)\n",
    "active_contraction_field.VariableLabelSet(iron.FieldVariableTypes.U, \"Active_contraction\")\n",
    "active_contraction_field.ScalingTypeSet(iron.FieldScalingTypes.ARITHMETIC_MEAN)\n",
    "equations_set.IndependentCreateFinish()\n",
    "active_contraction_field.ComponentValuesInitialiseDP(iron.FieldVariableTypes.U, iron.FieldParameterSetTypes.VALUES, 1, 3.0)\n",
    "active_contraction_field.ComponentValuesInitialiseDP(iron.FieldVariableTypes.U, iron.FieldParameterSetTypes.VALUES, 2, 0.0)\n",
    "active_contraction_field.ComponentValuesInitialiseDP(iron.FieldVariableTypes.U, iron.FieldParameterSetTypes.VALUES, 3, 0.0)\n"
  ]
},
  {
   "cell_type": "markdown",
   "metadata": {},
   "source": [
    "Once the equations set is defined, we create the equations that use our fields to construct equations matrices and vectors."
   ]
  },
  {
   "cell_type": "code",
   "execution_count": 17,
   "metadata": {},
   "outputs": [],
   "source": [
    "# Create equations.\n",
    "equations = iron.Equations()\n",
    "equations_set.EquationsCreateStart(equations)\n",
    "equations.SparsityTypeSet(iron.EquationsSparsityTypes.SPARSE)\n",
    "equations.OutputTypeSet(iron.EquationsOutputTypes.NONE)\n",
    "equations_set.EquationsCreateFinish()"
   ]
  },
  {
   "cell_type": "markdown",
   "metadata": {},
   "source": [
    "### 9. Defining the problem\n",
    "\n",
    "Now that we have defined the equations we can now create our problem to be solved by OpenCMISS-Iron. We create a standard finite elasticity problem, which is a member of the elasticity field problem class. The problem control loop uses the default load increment loop and hence does not require a subtype."
   ]
  },
  {
   "cell_type": "code",
   "execution_count": 18,
   "metadata": {},
   "outputs": [],
   "source": [
    "# Define the problem.\n",
    "problem_user_number = 1\n",
    "\n",
    "problem = iron.Problem()\n",
    "problem_specification = (\n",
    "  [iron.ProblemClasses.ELASTICITY,\n",
    "   iron.ProblemTypes.FINITE_ELASTICITY,\n",
    "   iron.ProblemSubtypes.NONE])\n",
    "problem.CreateStart(problem_user_number, problem_specification)\n",
    "problem.CreateFinish()"
   ]
  },
  {
   "cell_type": "markdown",
   "metadata": {},
   "source": [
    "### 10. Defining control loops\n",
    "\n",
    "The problem type defines a control loop structure that is used when solving the problem. The OpenCMISS-Iron control loop is a \"supervisor\" for the computational process. We may have multiple control loops with nested subloops, and control loops can have different types, for example, load-incremented loops or time loops for dynamic problems. These control loops have been defined in the OpenCMISS-Iron library for the finite elasticity type of equations as a load increment loop. If we wanted to access the control loop and modify it we would use the `problem.ControlLoopGet` method before finishing the creation of the control loops. In the below code snippet we get the control loop to set the number of load increments to be used to solve the problem using the variable `number_of_load_increments`."
   ]
  },
  {
   "cell_type": "code",
   "execution_count": 19,
   "metadata": {},
   "outputs": [],
   "source": [
    "# Create the problem control loop.\n",
    "problem.ControlLoopCreateStart()\n",
    "control_loop = iron.ControlLoop()\n",
    "problem.ControlLoopGet([iron.ControlLoopIdentifiers.NODE], control_loop)\n",
    "control_loop.MaximumIterationsSet(number_of_load_increments)\n",
    "problem.ControlLoopCreateFinish()\n"
   ]
  },
  {
   "cell_type": "markdown",
   "metadata": {},
   "source": [
    "### 11. Defining solvers\n",
    "\n",
    "After defining the problem structure we can create the solvers that will be run to actually solve our problem. As the finite elasticity equations are nonlinear, we require a nonlinear solver. Nonlinear solvers typically involve a linearisation step, and therefore a linear solver is also required. In OpenCMISS-Iron, we can start the creation of solvers by calling the `problem.SolversCreateStart()` method, whose properties can be specified, before they are finalised using a call to the `problem.SolversCreateFinish()` method. Once finalised, only solver parameter (.e.g tolerances) can be changed, however, fundamental properties (e.g. which solver library to use) cannot be changed. If an additional solver is required, the existing solver can be destroyed and recreated, or another solver can be constructed."
   ]
  },
  {
   "cell_type": "code",
   "execution_count": 20,
   "metadata": {},
   "outputs": [],
   "source": [
    "nonlinear_solver = iron.Solver()\n",
    "linear_solver = iron.Solver()\n",
    "problem.SolversCreateStart()\n",
    "problem.SolverGet([iron.ControlLoopIdentifiers.NODE], 1, nonlinear_solver)\n",
    "nonlinear_solver.OutputTypeSet(iron.SolverOutputTypes.NONE)\n",
    "nonlinear_solver.NewtonJacobianCalculationTypeSet(\n",
    "  iron.JacobianCalculationTypes.FD)\n",
    "nonlinear_solver.NewtonLinearSolverGet(linear_solver)\n",
    "linear_solver.LinearTypeSet(iron.LinearSolverTypes.DIRECT)\n",
    "problem.SolversCreateFinish()"
   ]
  },
  {
   "cell_type": "markdown",
   "metadata": {},
   "source": [
    "### 12. Defining solver equations\n",
    "After defining our solver we can create the equations for the solver to solve. This is achived by adding our equations sets to an OpenCMISS-Iron `solver_equations` object. In this example, we have just one equations set to add, however, for coupled problems, we may have multiple equations sets in the solver equations."
   ]
  },
  {
   "cell_type": "code",
   "execution_count": 21,
   "metadata": {},
   "outputs": [],
   "source": [
    "solver = iron.Solver()\n",
    "solver_equations = iron.SolverEquations()\n",
    "problem.SolverEquationsCreateStart()\n",
    "problem.SolverGet([iron.ControlLoopIdentifiers.NODE], 1, solver)\n",
    "solver.SolverEquationsGet(solver_equations)\n",
    "solver_equations.SparsityTypeSet(iron.SolverEquationsSparsityTypes.SPARSE)\n",
    "_ = solver_equations.EquationsSetAdd(equations_set)\n",
    "problem.SolverEquationsCreateFinish()"
   ]
  },
  {
   "cell_type": "markdown",
   "metadata": {},
   "source": [
    "### 13. Defining the boundary conditions\n",
    "\n",
    "The final step in configuring the problem is to define the boundary conditions for the simulations.\n",
    "The constant `iron.BoundaryConditionsTypes.FIXED` indicates that the value needs to be fixed to a certain value specified in the final argument of the `boundary_conditions.AddNode` method."
   ]
  },
  {
   "cell_type": "code",
   "execution_count": 22,
   "metadata": {},
   "outputs": [],
   "source": [
    "# Prescribe boundary conditions (absolute nodal parameters).\n",
    "boundary_conditions = iron.BoundaryConditions()\n",
    "solver_equations.BoundaryConditionsCreateStart(boundary_conditions)\n",
    "boundary_conditions.AddNode(dependent_field, iron.FieldVariableTypes.U,1,1,1,X,iron.BoundaryConditionsTypes.FIXED,0.0)\n",
    "boundary_conditions.AddNode(dependent_field, iron.FieldVariableTypes.U,1,1,3,X,iron.BoundaryConditionsTypes.FIXED,0.0)\n",
    "boundary_conditions.AddNode(dependent_field, iron.FieldVariableTypes.U,1,1,5,X,iron.BoundaryConditionsTypes.FIXED,0.0)\n",
    "boundary_conditions.AddNode(dependent_field, iron.FieldVariableTypes.U,1,1,7,X,iron.BoundaryConditionsTypes.FIXED,0.0)\n",
    "boundary_conditions.AddNode(dependent_field, iron.FieldVariableTypes.U,1,1,2,X,iron.BoundaryConditionsTypes.FIXED,0.25)\n",
    "boundary_conditions.AddNode(dependent_field, iron.FieldVariableTypes.U,1,1,4,X,iron.BoundaryConditionsTypes.FIXED,0.25)\n",
    "boundary_conditions.AddNode(dependent_field, iron.FieldVariableTypes.U,1,1,6,X,iron.BoundaryConditionsTypes.FIXED,0.25)\n",
    "boundary_conditions.AddNode(dependent_field, iron.FieldVariableTypes.U,1,1,8,X,iron.BoundaryConditionsTypes.FIXED,0.25)\n",
    "boundary_conditions.AddNode(dependent_field, iron.FieldVariableTypes.U,1,1,1,Y,iron.BoundaryConditionsTypes.FIXED,0.0)\n",
    "boundary_conditions.AddNode(dependent_field, iron.FieldVariableTypes.U,1,1,2,Y,iron.BoundaryConditionsTypes.FIXED,0.0)\n",
    "boundary_conditions.AddNode(dependent_field, iron.FieldVariableTypes.U,1,1,5,Y,iron.BoundaryConditionsTypes.FIXED,0.0)\n",
    "boundary_conditions.AddNode(dependent_field, iron.FieldVariableTypes.U,1,1,6,Y,iron.BoundaryConditionsTypes.FIXED,0.0)\n",
    "boundary_conditions.AddNode(dependent_field, iron.FieldVariableTypes.U,1,1,3,Y,iron.BoundaryConditionsTypes.FIXED,0.25)\n",
    "boundary_conditions.AddNode(dependent_field, iron.FieldVariableTypes.U,1,1,4,Y,iron.BoundaryConditionsTypes.FIXED,0.25)\n",
    "boundary_conditions.AddNode(dependent_field, iron.FieldVariableTypes.U,1,1,7,Y,iron.BoundaryConditionsTypes.FIXED,0.25)\n",
    "boundary_conditions.AddNode(dependent_field, iron.FieldVariableTypes.U,1,1,8,Y,iron.BoundaryConditionsTypes.FIXED,0.25)\n",
    "boundary_conditions.AddNode(dependent_field, iron.FieldVariableTypes.U,1,1,1,Z,iron.BoundaryConditionsTypes.FIXED,0.0)\n",
    "boundary_conditions.AddNode(dependent_field, iron.FieldVariableTypes.U,1,1,2,Z,iron.BoundaryConditionsTypes.FIXED,0.0)\n",
    "boundary_conditions.AddNode(dependent_field, iron.FieldVariableTypes.U,1,1,3,Z,iron.BoundaryConditionsTypes.FIXED,0.0)\n",
    "boundary_conditions.AddNode(dependent_field, iron.FieldVariableTypes.U,1,1,4,Z,iron.BoundaryConditionsTypes.FIXED,0.0)\n"
   ]
  },


  {
   "cell_type": "markdown",
   "metadata": {},
   "source": [
   "Force can be used instead of displacement as the loading condition using iron.FieldVariableTypes.DELUDELN.\n",
   "\n", 
   "We then construct the solver matrices and vectors by making a call to the `solver_equations.BoundaryConditionsCreateFinish()` method."
   ]
  },
  {
   "cell_type": "code",
   "execution_count": 23,
   "metadata": {
    "pycharm": {
     "name": "#%%\n"
    }
   },
   "outputs": [],
   "source": [
    "solver_equations.BoundaryConditionsCreateFinish()"
   ]
  },
  {
   "cell_type": "markdown",
   "metadata": {},
   "source": [
    "### 14. Solving the problem\n",
    "After our problem solver equations have been fully defined, we are now ready to solve our problem. When we call the Solve method of the problem it will loop over the control loops and control loop solvers to solve our problem."
   ]
  },
  {
   "cell_type": "code",
   "execution_count": 24,
   "metadata": {},
   "outputs": [],
   "source": [
    "# Solve the problem.\n",
    "problem.Solve()"
   ]
  },
  {
   "cell_type": "markdown",
   "metadata": {},
   "source": [
    "## Exporting results\n",
    "Before we export the results in Cmgui format, we will first create a new `deformed_field` and `pressure_field` to separately hold the solution for the deformed geometry and hydrostatic pressure for visualisation in Cmgui (this enables simplified access to these fields in Cmgui visualisation scripts)."
   ]
  },
  {
   "cell_type": "code",
   "execution_count": 25,
   "metadata": {
    "pycharm": {
     "name": "#%%\n"
    }
   },
   "outputs": [],
   "source": [
    "deformed_field_user_number = 7\n",
    "deformed_field = iron.Field()\n",
    "deformed_field.CreateStart(deformed_field_user_number, region)\n",
    "deformed_field.MeshDecompositionSet(decomposition)\n",
    "deformed_field.TypeSet(iron.FieldTypes.GEOMETRIC)\n",
    "deformed_field.VariableLabelSet(iron.FieldVariableTypes.U, \"DeformedGeometry\")\n",
    "for component in [1, 2, 3]:\n",
    "    deformed_field.ComponentMeshComponentSet(\n",
    "            iron.FieldVariableTypes.U, component, 1)\n",
    "if interpolation_type == 4:\n",
    "    # Set arc length scaling for cubic-Hermite elements.\n",
    "    deformed_field.ScalingTypeSet(iron.FieldScalingTypes.ARITHMETIC_MEAN)\n",
    "deformed_field.CreateFinish()\n",
    "\n",
    "pressure_field_user_number = 8\n",
    "pressure_field = iron.Field()\n",
    "pressure_field.CreateStart(pressure_field_user_number, region)\n",
    "pressure_field.MeshDecompositionSet(decomposition)\n",
    "pressure_field.VariableLabelSet(iron.FieldVariableTypes.U, \"Pressure\")\n",
    "pressure_field.ComponentMeshComponentSet(iron.FieldVariableTypes.U, 1, 1)\n",
    "pressure_field.ComponentInterpolationSet(\n",
    "  iron.FieldVariableTypes.U, 1, iron.FieldInterpolationTypes.ELEMENT_BASED)\n",
    "pressure_field.NumberOfComponentsSet(iron.FieldVariableTypes.U, 1)\n",
    "pressure_field.CreateFinish()\n",
    "\n",
    "# Copy deformed geometry into the deformed field.\n",
    "for component in [1, 2, 3]:\n",
    "    dependent_field.ParametersToFieldParametersComponentCopy(\n",
    "        iron.FieldVariableTypes.U,\n",
    "        iron.FieldParameterSetTypes.VALUES, component,\n",
    "        deformed_field, iron.FieldVariableTypes.U,\n",
    "        iron.FieldParameterSetTypes.VALUES, component)\n",
    "\n",
    "# Copy the hydrostatic pressure solutions from the dependent field into the\n",
    "# pressure field.\n",
    "dependent_field.ParametersToFieldParametersComponentCopy(\n",
    "  iron.FieldVariableTypes.U,\n",
    "  iron.FieldParameterSetTypes.VALUES, 4,\n",
    "  pressure_field, iron.FieldVariableTypes.U,\n",
    "  iron.FieldParameterSetTypes.VALUES, 1)\n",
    "\n",
    "# Export results to exnode and exelem format.\n",
    "fields = iron.Fields()\n",
    "fields.CreateRegion(region)\n",
    "fields.NodesExport(\"cube\", \"FORTRAN\")\n",
    "fields.ElementsExport(\"cube\", \"FORTRAN\")\n",
    "fields.Finalise()"
   ]
  },
  {
   "cell_type": "markdown",
   "metadata": {
    "pycharm": {
     "name": "#%% md\n"
    }
   },
   "source": [
    "## Finalising session"
   ]
  },
  {
   "cell_type": "code",
   "execution_count": 26,
   "metadata": {},
   "outputs": [],
   "source": [
    "problem.Destroy()\n",
    "coordinate_system.Destroy()\n",
    "region.Destroy()\n",
    "basis.Destroy()\n",
    "iron.Finalise()"
   ]
  }
 ],
 "metadata": {
  "kernelspec": {
   "display_name": "Python 3",
   "language": "python",
   "name": "python3"
  },
  "language_info": {
   "codemirror_mode": {
    "name": "ipython",
    "version": 3
   },
   "file_extension": ".py",
   "mimetype": "text/x-python",
   "name": "python",
   "nbconvert_exporter": "python",
   "pygments_lexer": "ipython3",
   "version": "3.5.2"
  },
  "widgets": {
   "application/vnd.jupyter.widget-state+json": {
    "state": {
     "0022f1bd0f8f4e9098194ca43968e0fa": {
      "model_module": "jupyter-threejs",
      "model_module_version": "^2.1.0",
      "model_name": "OrbitControlsModel",
      "state": {
       "_view_module": null,
       "_view_module_version": "",
       "controlling": "IPY_MODEL_9e52ee56442f47e0b842d266d7ca8c1b",
       "maxAzimuthAngle": "inf",
       "maxDistance": "inf",
       "maxZoom": "inf",
       "minAzimuthAngle": "-inf",
       "target": [
        0.5,
        0.5,
        0.5
       ]
      }
     },
     "00adb5381e05461184c96b2951771643": {
      "model_module": "jupyter-threejs",
      "model_module_version": "^2.1.0",
      "model_name": "TextTextureModel",
      "state": {
       "_view_module": null,
       "_view_module_version": "",
       "size": 100,
       "squareTexture": false,
       "string": "5",
       "version": 2
      }
     },
     "00c0a00c2184455598df994bb50cfefc": {
      "model_module": "jupyter-threejs",
      "model_module_version": "^2.1.0",
      "model_name": "TextTextureModel",
      "state": {
       "_view_module": null,
       "_view_module_version": "",
       "size": 100,
       "squareTexture": false,
       "string": "y",
       "version": 2
      }
     },
     "0176af86ec3243eaa08beb52515406a7": {
      "model_module": "jupyter-threejs",
      "model_module_version": "^2.1.0",
      "model_name": "WebGLShadowMapModel",
      "state": {
       "_view_module": null,
       "_view_module_version": ""
      }
     },
     "02331941b4d24d6cada6e024ac20c9f2": {
      "model_module": "jupyter-threejs",
      "model_module_version": "^2.1.0",
      "model_name": "TextTextureModel",
      "state": {
       "_view_module": null,
       "_view_module_version": "",
       "size": 100,
       "squareTexture": false,
       "string": "x",
       "version": 2
      }
     },
     "024d83559212494ebad28444147b0d6d": {
      "model_module": "jupyter-threejs",
      "model_module_version": "^2.1.0",
      "model_name": "BufferGeometryModel",
      "state": {
       "_view_module": null,
       "_view_module_version": "",
       "attributes": {
        "color": "IPY_MODEL_03137c9fc5f149b1904983eed0d80869",
        "position": "IPY_MODEL_157bb6983baf4e39920a497be9d2905b"
       },
       "index": "IPY_MODEL_1d3340c7d17e493399f352b5c4da38bc"
      }
     },
     "028040e4dc364ce886f6e408babe692a": {
      "model_module": "jupyter-threejs",
      "model_module_version": "^2.1.0",
      "model_name": "OrbitControlsModel",
      "state": {
       "_view_module": null,
       "_view_module_version": "",
       "controlling": "IPY_MODEL_8bc69af689534b2bac99bec2545948a7",
       "maxAzimuthAngle": "inf",
       "maxDistance": "inf",
       "maxZoom": "inf",
       "minAzimuthAngle": "-inf"
      }
     },
     "02856647d7944bcda63049f97b31f5f0": {
      "model_module": "jupyter-threejs",
      "model_module_version": "^2.1.0",
      "model_name": "PerspectiveCameraModel",
      "state": {
       "_view_module": null,
       "_view_module_version": "",
       "matrix": [
        -0.7071067811865475,
        0.7071067811865475,
        5.551115123125783E-17,
        0,
        -0.40824829046386296,
        -0.4082482904638629,
        0.8164965809277259,
        0,
        0.5773502691896257,
        0.5773502691896256,
        0.577350269189626,
        0,
        3,
        3,
        3,
        1
       ],
       "matrixWorld": [
        -0.7071067811865475,
        0.7071067811865475,
        5.551115123125783E-17,
        0,
        -0.40824829046386296,
        -0.4082482904638629,
        0.8164965809277259,
        0,
        0.5773502691896257,
        0.5773502691896256,
        0.577350269189626,
        0,
        3,
        3,
        3,
        1
       ],
       "position": [
        3,
        3,
        3
       ],
       "projectionMatrix": [
        2.1445069205095586,
        0,
        0,
        0,
        0,
        2.1445069205095586,
        0,
        0,
        0,
        0,
        -1.00010000500025,
        -1,
        0,
        0,
        -0.200010000500025,
        0
       ],
       "quaternion": [
        0.17591989660616114,
        0.4247082002778668,
        0.8204732385702833,
        0.3398511429799873
       ],
       "rotation": [
        -0.7853981633974481,
        0.6154797086703874,
        2.6179938779914944,
        "XYZ"
       ],
       "up": [
        0,
        0,
        1
       ]
      }
     },
     "03137c9fc5f149b1904983eed0d80869": {
      "buffers": [
       {
        "data": "AAAAPwAAAD8AAAA/AAAAPwAAAD8AAAA/AAAAPwAAAD8AAAA/AAAAPwAAAD8AAAA/AAAAPwAAAD8AAAA/AAAAPwAAAD8AAAA/AAAAPwAAAD8AAAA/AAAAPwAAAD8AAAA/AAAAPwAAAD8AAAA/AAAAPwAAAD8AAAA/AAAAPwAAAD8AAAA/AAAAPwAAAD8AAAA/AAAAPwAAAD8AAAA/AAAAPwAAAD8AAAA/AAAAPwAAAD8AAAA/AAAAPwAAAD8AAAA/AAAAPwAAAD8AAAA/AAAAPwAAAD8AAAA/AAAAPwAAAD8AAAA/AAAAPwAAAD8AAAA/AAAAPwAAAD8AAAA/AAAAPwAAAD8AAAA/AAAAPwAAAD8AAAA/AAAAPwAAAD8AAAA/",
        "encoding": "base64",
        "path": [
         "array",
         "buffer"
        ]
       }
      ],
      "model_module": "jupyter-threejs",
      "model_module_version": "^2.1.0",
      "model_name": "BufferAttributeModel",
      "state": {
       "_view_module": null,
       "_view_module_version": "",
       "array": {
        "dtype": "float32",
        "shape": [
         24,
         3
        ]
       },
       "normalized": true,
       "version": 2
      }
     },
     "037df055650243e7a3da80e2ce81cb4f": {
      "model_module": "jupyter-threejs",
      "model_module_version": "^2.1.0",
      "model_name": "AxesHelperModel",
      "state": {
       "_view_module": null,
       "_view_module_version": "",
       "size": 2,
       "type": "LineSegments"
      }
     },
     "03979811178b4fa395d6ce6f15b7aecb": {
      "model_module": "jupyter-threejs",
      "model_module_version": "^2.1.0",
      "model_name": "SpriteModel",
      "state": {
       "_view_module": null,
       "_view_module_version": "",
       "material": "IPY_MODEL_9714710c4c384e3cb9ca5099278a27ae",
       "matrix": [
        0.05,
        0,
        0,
        0,
        0,
        0.07500000000000001,
        0,
        0,
        0,
        0,
        0.05,
        0,
        0,
        1,
        1,
        1
       ],
       "position": [
        0,
        1,
        1
       ],
       "scale": [
        0.05,
        0.07500000000000001,
        0.05
       ]
      }
     },
     "0526b3ccd8144c728f0339f0b36c01eb": {
      "model_module": "jupyter-threejs",
      "model_module_version": "^2.1.0",
      "model_name": "RendererModel",
      "state": {
       "_height": 600,
       "_webgl_version": 2,
       "_width": 600,
       "camera": "IPY_MODEL_3762fe54575e4f6abf7c263380b32bb4",
       "controls": [
        "IPY_MODEL_4819a2c74c7a46ef8b6b9fc2ae48321e"
       ],
       "layout": "IPY_MODEL_2eba9b46c9804a0cbf5834b39971e3e4",
       "scene": "IPY_MODEL_059f35511b5f439f863abca538ca43ba",
       "shadowMap": "IPY_MODEL_9d13431c954149f2a4a557e3eeb986bb"
      }
     },
     "059f35511b5f439f863abca538ca43ba": {
      "model_module": "jupyter-threejs",
      "model_module_version": "^2.1.0",
      "model_name": "SceneModel",
      "state": {
       "_view_module": null,
       "_view_module_version": "",
       "children": [
        "IPY_MODEL_9fb75c99c5f84933a3a12d999b2a7eba",
        "IPY_MODEL_e7af6a6118d8458ab1ce69bb127371ee",
        "IPY_MODEL_3762fe54575e4f6abf7c263380b32bb4",
        "IPY_MODEL_2d4274c335214243938be578b1c60b4d",
        "IPY_MODEL_6a395b2d31a24b288b86ead4fb8f3b0a",
        "IPY_MODEL_55bad71521a347f786d906d496ef4950"
       ]
      }
     },
     "061938aca7494ee3af6d951e0599e107": {
      "model_module": "jupyter-threejs",
      "model_module_version": "^2.1.0",
      "model_name": "SpriteModel",
      "state": {
       "_view_module": null,
       "_view_module_version": "",
       "material": "IPY_MODEL_abf5e12c24944c929dccf4e1b7107fb8",
       "matrix": [
        0.05,
        0,
        0,
        0,
        0,
        0.07500000000000001,
        0,
        0,
        0,
        0,
        0.05,
        0,
        1,
        1,
        0,
        1
       ],
       "position": [
        1,
        1,
        0
       ],
       "scale": [
        0.05,
        0.07500000000000001,
        0.05
       ]
      }
     },
     "08d41788a3c1408a951c533059199b37": {
      "model_module": "jupyter-threejs",
      "model_module_version": "^2.1.0",
      "model_name": "SpriteModel",
      "state": {
       "_view_module": null,
       "_view_module_version": "",
       "material": "IPY_MODEL_4d35765fa62e42c29bef649247f5b0ce",
       "matrix": [
        0.05,
        0,
        0,
        0,
        0,
        0.07500000000000001,
        0,
        0,
        0,
        0,
        0.05,
        0,
        1,
        1,
        0,
        1
       ],
       "position": [
        1,
        1,
        0
       ],
       "scale": [
        0.05,
        0.07500000000000001,
        0.05
       ]
      }
     },
     "0b356a5616ff4b9fb19c2865d1875fc3": {
      "model_module": "jupyter-threejs",
      "model_module_version": "^2.1.0",
      "model_name": "TextTextureModel",
      "state": {
       "_view_module": null,
       "_view_module_version": "",
       "size": 100,
       "squareTexture": false,
       "string": "6",
       "version": 2
      }
     },
     "0b89591dcffa4d1d8cae320586855d5d": {
      "model_module": "jupyter-threejs",
      "model_module_version": "^2.1.0",
      "model_name": "PerspectiveCameraModel",
      "state": {
       "_view_module": null,
       "_view_module_version": "",
       "matrix": [
        -0.7071067811865475,
        0.7071067811865475,
        5.551115123125783E-17,
        0,
        -0.40824829046386296,
        -0.4082482904638629,
        0.8164965809277259,
        0,
        0.5773502691896257,
        0.5773502691896256,
        0.577350269189626,
        0,
        3,
        3,
        3,
        1
       ],
       "matrixWorld": [
        -0.7071067811865475,
        0.7071067811865475,
        5.551115123125783E-17,
        0,
        -0.40824829046386296,
        -0.4082482904638629,
        0.8164965809277259,
        0,
        0.5773502691896257,
        0.5773502691896256,
        0.577350269189626,
        0,
        3,
        3,
        3,
        1
       ],
       "position": [
        3,
        3,
        3
       ],
       "projectionMatrix": [
        2.1445069205095586,
        0,
        0,
        0,
        0,
        2.1445069205095586,
        0,
        0,
        0,
        0,
        -1.00010000500025,
        -1,
        0,
        0,
        -0.200010000500025,
        0
       ],
       "quaternion": [
        0.17591989660616114,
        0.4247082002778668,
        0.8204732385702833,
        0.3398511429799873
       ],
       "rotation": [
        -0.7853981633974481,
        0.6154797086703874,
        2.6179938779914944,
        "XYZ"
       ],
       "up": [
        0,
        0,
        1
       ]
      }
     },
     "0d06fb1d17d94746b4cd1b66793b9e1c": {
      "model_module": "jupyter-threejs",
      "model_module_version": "^2.1.0",
      "model_name": "TextTextureModel",
      "state": {
       "_view_module": null,
       "_view_module_version": "",
       "size": 100,
       "squareTexture": false,
       "string": "7",
       "version": 2
      }
     },
     "0d196ca51f7047c19f1d6c368a69f268": {
      "model_module": "jupyter-threejs",
      "model_module_version": "^2.1.0",
      "model_name": "SpriteModel",
      "state": {
       "_view_module": null,
       "_view_module_version": "",
       "material": "IPY_MODEL_9e0690891bf54542932bd8a067c025c8",
       "matrix": [
        0.05,
        0,
        0,
        0,
        0,
        0.07500000000000001,
        0,
        0,
        0,
        0,
        0.05,
        0,
        0,
        0,
        0,
        1
       ],
       "scale": [
        0.05,
        0.07500000000000001,
        0.05
       ]
      }
     },
     "0e0d772d75754653ac1364b2fb35ecd7": {
      "model_module": "jupyter-threejs",
      "model_module_version": "^2.1.0",
      "model_name": "MeshModel",
      "state": {
       "_view_module": null,
       "_view_module_version": "",
       "geometry": "IPY_MODEL_1e72a1dce3034bfda2b162be31f15f20",
       "material": "IPY_MODEL_85e1763dc5004b4c8d439d9ed76cb1be",
       "name": "B"
      }
     },
     "0ee9f979-bf6f-42b4-8b6b-59c06b707269": {
      "model_module": "jupyter-threejs",
      "model_module_version": "^2.1.0",
      "model_name": "DirectionalLightShadowModel",
      "state": {
       "camera": "IPY_MODEL_c2637e67-9b55-4de8-8667-8090cdb43bb2"
      }
     },
     "1238cc8a2b2047c7a980d0f0946da276": {
      "model_module": "jupyter-threejs",
      "model_module_version": "^2.1.0",
      "model_name": "SpriteMaterialModel",
      "state": {
       "_view_module": null,
       "_view_module_version": "",
       "map": "IPY_MODEL_19d8268013e14892b2bcd9cb321ec9b3"
      }
     },
     "131086c5988d45139afdfe8618ea9f4e": {
      "model_module": "jupyter-threejs",
      "model_module_version": "^2.1.0",
      "model_name": "RendererModel",
      "state": {
       "_height": 600,
       "_webgl_version": 2,
       "_width": 600,
       "camera": "IPY_MODEL_dbc2de201cdf4e3d89d3f399fba8b6d7",
       "controls": [
        "IPY_MODEL_9292f2fbc32949bfb5225d145486594d"
       ],
       "layout": "IPY_MODEL_56e89032a6ae4b22adab81b821be00e3",
       "scene": "IPY_MODEL_97dc1005f06147fbb7007660a9f9187f",
       "shadowMap": "IPY_MODEL_783cae4500d4456bbe0f84e94f43a449"
      }
     },
     "13f1879bd3f74eaf82643ddb6749a593": {
      "buffers": [
       {
        "data": "AAAAAAEAAAA=",
        "encoding": "base64",
        "path": [
         "values",
         "buffer"
        ]
       },
       {
        "data": "AAAAAAMAAAA=",
        "encoding": "base64",
        "path": [
         "times",
         "buffer"
        ]
       }
      ],
      "model_module": "jupyter-threejs",
      "model_module_version": "^2.1.0",
      "model_name": "NumberKeyframeTrackModel",
      "state": {
       "_view_module": null,
       "_view_module_version": "",
       "name": "scene/B.morphTargetInfluences[0]",
       "times": {
        "dtype": "int32",
        "shape": [
         2
        ]
       },
       "values": {
        "dtype": "int32",
        "shape": [
         2
        ]
       }
      }
     },
     "157bb6983baf4e39920a497be9d2905b": {
      "buffers": [
       {
        "data": "AAAAAAAAAAAAAAAAAACAPwAAAAAAAAAAAAAAAAAAgD8AAAAAAACAPwAAgD8AAAAAAAAAAAAAAAAAAIA/AACAPwAAAAAAAIA/AAAAAAAAgD8AAIA/AACAPwAAgD8AAIA/AAAAAAAAAAAAAAAAAACAPwAAAAAAAAAAAAAAAAAAAAAAAIA/AACAPwAAAAAAAIA/AAAAAAAAgD8AAAAAAACAPwAAgD8AAAAAAAAAAAAAgD8AAIA/AACAPwAAgD8AAIA/AAAAAAAAAAAAAAAAAAAAAAAAgD8AAAAAAAAAAAAAAAAAAIA/AAAAAAAAgD8AAIA/AACAPwAAAAAAAAAAAACAPwAAgD8AAAAAAACAPwAAAAAAAIA/AACAPwAAgD8AAIA/",
        "encoding": "base64",
        "path": [
         "array",
         "buffer"
        ]
       }
      ],
      "model_module": "jupyter-threejs",
      "model_module_version": "^2.1.0",
      "model_name": "BufferAttributeModel",
      "state": {
       "_view_module": null,
       "_view_module_version": "",
       "array": {
        "dtype": "float32",
        "shape": [
         24,
         3
        ]
       },
       "version": 2
      }
     },
     "16030ddda29c49568737e398496cd1ed": {
      "model_module": "jupyter-threejs",
      "model_module_version": "^2.1.0",
      "model_name": "SpriteModel",
      "state": {
       "_view_module": null,
       "_view_module_version": "",
       "material": "IPY_MODEL_8a0c0884ce4041be96c4badc1dbeba26",
       "matrix": [
        0.05,
        0,
        0,
        0,
        0,
        0.07500000000000001,
        0,
        0,
        0,
        0,
        0.05,
        0,
        1,
        0,
        0,
        1
       ],
       "position": [
        1,
        0,
        0
       ],
       "scale": [
        0.05,
        0.07500000000000001,
        0.05
       ]
      }
     },
     "1873768e1afb46b0b5f4a2567ba18fc6": {
      "model_module": "jupyter-threejs",
      "model_module_version": "^2.1.0",
      "model_name": "SpriteMaterialModel",
      "state": {
       "_view_module": null,
       "_view_module_version": "",
       "map": "IPY_MODEL_327f05f1153445ad8dd7e542199e65f9"
      }
     },
     "18ea5cc69cec4ae59bf3d07ec7dbebe0": {
      "model_module": "jupyter-threejs",
      "model_module_version": "^2.1.0",
      "model_name": "SpriteModel",
      "state": {
       "_view_module": null,
       "_view_module_version": "",
       "material": "IPY_MODEL_1238cc8a2b2047c7a980d0f0946da276",
       "matrix": [
        0.05,
        0,
        0,
        0,
        0,
        0.07500000000000001,
        0,
        0,
        0,
        0,
        0.05,
        0,
        2,
        0,
        0,
        1
       ],
       "position": [
        2,
        0,
        0
       ],
       "scale": [
        0.05,
        0.07500000000000001,
        0.05
       ]
      }
     },
     "1916277c1fe64cb89f7132a15888375d": {
      "model_module": "jupyter-threejs",
      "model_module_version": "^2.1.0",
      "model_name": "AnimationActionModel",
      "state": {
       "_model_module": "jupyter-threejs",
       "_model_module_version": "^2.1.0",
       "_model_name": "AnimationActionModel",
       "_view_module_version": "^2.1.0",
       "clip": "IPY_MODEL_bb480ca4e7fb43b8a043a7bb4c486dc3",
       "layout": "IPY_MODEL_19ef89acd6ec42689c3452c92e050836",
       "localRoot": "IPY_MODEL_8ab55041df6a40f9a95ce7cf6ded5bed",
       "mixer": "IPY_MODEL_c76b80a6f36b4c3287ac5692f316a3d3",
       "repititions": "inf"
      }
     },
     "19d8268013e14892b2bcd9cb321ec9b3": {
      "model_module": "jupyter-threejs",
      "model_module_version": "^2.1.0",
      "model_name": "TextTextureModel",
      "state": {
       "_view_module": null,
       "_view_module_version": "",
       "size": 100,
       "squareTexture": false,
       "string": "x",
       "version": 2
      }
     },
     "19ef89acd6ec42689c3452c92e050836": {
      "model_module": "@jupyter-widgets/base",
      "model_module_version": "1.2.0",
      "model_name": "LayoutModel",
      "state": {}
     },
     "19f191f8a8b04d0dafaa622f5870f085": {
      "model_module": "@jupyter-widgets/base",
      "model_module_version": "1.2.0",
      "model_name": "LayoutModel",
      "state": {}
     },
     "1a392a224b654f11a438b46a36740919": {
      "model_module": "jupyter-threejs",
      "model_module_version": "^2.1.0",
      "model_name": "SpriteModel",
      "state": {
       "_view_module": null,
       "_view_module_version": "",
       "material": "IPY_MODEL_f7fe6190dac14945b5847be63da12f63",
       "matrix": [
        0.05,
        0,
        0,
        0,
        0,
        0.07500000000000001,
        0,
        0,
        0,
        0,
        0.05,
        0,
        0,
        2,
        0,
        1
       ],
       "position": [
        0,
        2,
        0
       ],
       "scale": [
        0.05,
        0.07500000000000001,
        0.05
       ]
      }
     },
     "1b64ad3075984646833cbf8f6fe4bfb4": {
      "model_module": "jupyter-threejs",
      "model_module_version": "^2.1.0",
      "model_name": "MeshModel",
      "state": {
       "_view_module": null,
       "_view_module_version": "",
       "geometry": "IPY_MODEL_bc73ae1d0bf14b4eb64e008a0b8e3e5a",
       "material": "IPY_MODEL_3d91048234fa45deb914a2d618293ce1",
       "morphTargetInfluences": []
      }
     },
     "1bb3b05795ab48b9b53b9151b4292a7c": {
      "model_module": "jupyter-threejs",
      "model_module_version": "^2.1.0",
      "model_name": "MeshPhongMaterialModel",
      "state": {
       "_view_module": null,
       "_view_module_version": "",
       "color": "#ff3333",
       "morphTargets": true,
       "shininess": 150,
       "side": "BackSide"
      }
     },
     "1c11562f1458477ba1b78d52ff3d4fdd": {
      "model_module": "jupyter-threejs",
      "model_module_version": "^2.1.0",
      "model_name": "GroupModel",
      "state": {
       "_view_module": null,
       "_view_module_version": "",
       "children": [
        "IPY_MODEL_9fb75c99c5f84933a3a12d999b2a7eba",
        "IPY_MODEL_e7af6a6118d8458ab1ce69bb127371ee"
       ]
      }
     },
     "1c4661c12f4b42dd8d993545fa6fa64d": {
      "buffers": [
       {
        "data": "AAAAAAAAAAAAAAAAAACAPwAAAAAAAAAAAAAAAAAAgD8AAAAAAACAPwAAgD8AAAAAAAAAAAAAAAAAAIA/AACAPwAAAAAAAIA/AAAAAAAAgD8AAIA/AACAPwAAgD8AAIA/AAAAAAAAAAAAAAAAAACAPwAAAAAAAAAAAAAAAAAAAAAAAIA/AACAPwAAAAAAAIA/AAAAAAAAgD8AAAAAAACAPwAAgD8AAAAAAAAAAAAAgD8AAIA/AACAPwAAgD8AAIA/AAAAAAAAAAAAAAAAAAAAAAAAgD8AAAAAAAAAAAAAAAAAAIA/AAAAAAAAgD8AAIA/AACAPwAAAAAAAAAAAACAPwAAgD8AAAAAAACAPwAAAAAAAIA/AACAPwAAgD8AAIA/",
        "encoding": "base64",
        "path": [
         "array",
         "buffer"
        ]
       }
      ],
      "model_module": "jupyter-threejs",
      "model_module_version": "^2.1.0",
      "model_name": "BufferAttributeModel",
      "state": {
       "_view_module": null,
       "_view_module_version": "",
       "array": {
        "dtype": "float32",
        "shape": [
         24,
         3
        ]
       },
       "version": 2
      }
     },
     "1d3340c7d17e493399f352b5c4da38bc": {
      "buffers": [
       {
        "data": "AAABAAIAAQADAAIABAAFAAYABQAHAAYACAAJAAoACQALAAoADAANAA4ADQAPAA4AEAARABIAEQATABIAFAAVABYAFQAXABYA",
        "encoding": "base64",
        "path": [
         "array",
         "buffer"
        ]
       }
      ],
      "model_module": "jupyter-threejs",
      "model_module_version": "^2.1.0",
      "model_name": "BufferAttributeModel",
      "state": {
       "_view_module": null,
       "_view_module_version": "",
       "array": {
        "dtype": "uint16",
        "shape": [
         36
        ]
       },
       "version": 2
      }
     },
     "1d3b06a499ab4e77a55d8bf48bd01786": {
      "model_module": "jupyter-threejs",
      "model_module_version": "^2.1.0",
      "model_name": "SpriteModel",
      "state": {
       "_view_module": null,
       "_view_module_version": "",
       "material": "IPY_MODEL_d496d858ccb14c509e8a8725162170cd",
       "matrix": [
        0.05,
        0,
        0,
        0,
        0,
        0.07500000000000001,
        0,
        0,
        0,
        0,
        0.05,
        0,
        0,
        0,
        2,
        1
       ],
       "position": [
        0,
        0,
        2
       ],
       "scale": [
        0.05,
        0.07500000000000001,
        0.05
       ]
      }
     },
     "1d45bc765a414c618c4269a89293a771": {
      "model_module": "jupyter-threejs",
      "model_module_version": "^2.1.0",
      "model_name": "AnimationClipModel",
      "state": {
       "_view_module": null,
       "_view_module_version": "",
       "duration": 3,
       "tracks": [
        "IPY_MODEL_3b6a560cc12041f482a023fbaefc5e3b",
        "IPY_MODEL_13f1879bd3f74eaf82643ddb6749a593"
       ]
      }
     },
     "1d5fdcc370c348e6b0bed38a1e38c053": {
      "model_module": "jupyter-threejs",
      "model_module_version": "^2.1.0",
      "model_name": "SpriteModel",
      "state": {
       "_view_module": null,
       "_view_module_version": "",
       "material": "IPY_MODEL_a138ed9db60149b89cd42ef17d10f97c",
       "matrix": [
        0.05,
        0,
        0,
        0,
        0,
        0.07500000000000001,
        0,
        0,
        0,
        0,
        0.05,
        0,
        2,
        0,
        0,
        1
       ],
       "position": [
        2,
        0,
        0
       ],
       "scale": [
        0.05,
        0.07500000000000001,
        0.05
       ]
      }
     },
     "1e72a1dce3034bfda2b162be31f15f20": {
      "model_module": "jupyter-threejs",
      "model_module_version": "^2.1.0",
      "model_name": "BufferGeometryModel",
      "state": {
       "_view_module": null,
       "_view_module_version": "",
       "attributes": {
        "color": "IPY_MODEL_b9fef630329344cfa23a06912b6e2268",
        "position": "IPY_MODEL_7120f2849ff04324a798621a84732e11"
       },
       "index": "IPY_MODEL_bd1c79588e0a4e739499c0c273ca45df",
       "morphAttributes": {
        "position": [
         "IPY_MODEL_c4d53ecb589744af9479d286436b6a7e"
        ]
       }
      }
     },
     "2049725fad2d4c6b94d3e542ff4d39f1": {
      "model_module": "jupyter-threejs",
      "model_module_version": "^2.1.0",
      "model_name": "OrbitControlsModel",
      "state": {
       "_view_module": null,
       "_view_module_version": "",
       "controlling": "IPY_MODEL_0b89591dcffa4d1d8cae320586855d5d",
       "maxAzimuthAngle": "inf",
       "maxDistance": "inf",
       "maxZoom": "inf",
       "minAzimuthAngle": "-inf"
      }
     },
     "206dce37d77a4c07864658cb73939260": {
      "model_module": "jupyter-threejs",
      "model_module_version": "^2.1.0",
      "model_name": "SpriteModel",
      "state": {
       "_view_module": null,
       "_view_module_version": "",
       "material": "IPY_MODEL_2419fe7177ca4607a7a64fb541793d60",
       "matrix": [
        0.05,
        0,
        0,
        0,
        0,
        0.07500000000000001,
        0,
        0,
        0,
        0,
        0.05,
        0,
        1,
        1,
        1,
        1
       ],
       "position": [
        1,
        1,
        1
       ],
       "scale": [
        0.05,
        0.07500000000000001,
        0.05
       ]
      }
     },
     "208a36dc37d7456aaecfa1270af86b58": {
      "model_module": "jupyter-threejs",
      "model_module_version": "^2.1.0",
      "model_name": "SpriteModel",
      "state": {
       "_view_module": null,
       "_view_module_version": "",
       "material": "IPY_MODEL_97667fb015e5404582dc1663fd0cd17c",
       "matrix": [
        0.05,
        0,
        0,
        0,
        0,
        0.07500000000000001,
        0,
        0,
        0,
        0,
        0.05,
        0,
        0,
        0,
        2,
        1
       ],
       "position": [
        0,
        0,
        2
       ],
       "scale": [
        0.05,
        0.07500000000000001,
        0.05
       ]
      }
     },
     "21bcccf3-1c4d-4ece-a14c-0db03b92c4d4": {
      "model_module": "jupyter-threejs",
      "model_module_version": "^2.1.0",
      "model_name": "DirectionalLightShadowModel",
      "state": {
       "camera": "IPY_MODEL_54318ca3-b070-4eea-990b-d41af8270365"
      }
     },
     "22c371bbdd8b44b98894cba1bc6b048b": {
      "model_module": "jupyter-threejs",
      "model_module_version": "^2.1.0",
      "model_name": "SpriteMaterialModel",
      "state": {
       "_view_module": null,
       "_view_module_version": "",
       "map": "IPY_MODEL_0d06fb1d17d94746b4cd1b66793b9e1c"
      }
     },
     "234b160315784f94a6ee0106825556cd": {
      "model_module": "jupyter-threejs",
      "model_module_version": "^2.1.0",
      "model_name": "SceneModel",
      "state": {
       "_view_module": null,
       "_view_module_version": "",
       "children": [
        "IPY_MODEL_d427b15d229744b8a0d8bf15953ae122",
        "IPY_MODEL_3739a66f085c4e749163e0a8dbaec864",
        "IPY_MODEL_a82283355a214f728c941c2213f69f00",
        "IPY_MODEL_54386123d2b144a5a56b0f98a8e57941",
        "IPY_MODEL_d17e9040e801448ea8d8a2f4dabc3c54",
        "IPY_MODEL_afe0ac591bb449da81b75d7c26dc2601",
        "IPY_MODEL_16030ddda29c49568737e398496cd1ed",
        "IPY_MODEL_40b714fd92604e1396201288705b2a38",
        "IPY_MODEL_2b7b9ffdbcad4ce9b0089a8a481b3e51",
        "IPY_MODEL_aa9b72c30ba041ae875e8bcb41a36e45",
        "IPY_MODEL_4466f1650aaf47f4ac5c20f36ba818d3",
        "IPY_MODEL_03979811178b4fa395d6ce6f15b7aecb",
        "IPY_MODEL_c6fd5257502943999ccfc2ee2690a249",
        "IPY_MODEL_b98a689d4269478ca24f72f00e395c01",
        "IPY_MODEL_1a392a224b654f11a438b46a36740919",
        "IPY_MODEL_208a36dc37d7456aaecfa1270af86b58"
       ]
      }
     },
     "23e98c3dcdaf48648a80ab748b1ad489": {
      "model_module": "jupyter-threejs",
      "model_module_version": "^2.1.0",
      "model_name": "TextTextureModel",
      "state": {
       "_view_module": null,
       "_view_module_version": "",
       "size": 100,
       "squareTexture": false,
       "string": "8",
       "version": 2
      }
     },
     "2419fe7177ca4607a7a64fb541793d60": {
      "model_module": "jupyter-threejs",
      "model_module_version": "^2.1.0",
      "model_name": "SpriteMaterialModel",
      "state": {
       "_view_module": null,
       "_view_module_version": "",
       "map": "IPY_MODEL_ca78fb21a9764310a40c683e8f407244"
      }
     },
     "242d805139644748ad89b46ff9a5a0c7": {
      "model_module": "jupyter-threejs",
      "model_module_version": "^2.1.0",
      "model_name": "GroupModel",
      "state": {
       "_view_module": null,
       "_view_module_version": "",
       "children": [
        "IPY_MODEL_3739a66f085c4e749163e0a8dbaec864",
        "IPY_MODEL_a82283355a214f728c941c2213f69f00"
       ]
      }
     },
     "2466645ce40b4b0e922be26992027213": {
      "model_module": "jupyter-threejs",
      "model_module_version": "^2.1.0",
      "model_name": "TextTextureModel",
      "state": {
       "_view_module": null,
       "_view_module_version": "",
       "size": 100,
       "squareTexture": false,
       "string": "7",
       "version": 2
      }
     },
     "24993794-29a4-4773-81ac-beb7b97b6b32": {
      "model_module": "jupyter-threejs",
      "model_module_version": "^2.1.0",
      "model_name": "DirectionalLightShadowModel",
      "state": {
       "camera": "IPY_MODEL_3353aa52-a1fe-4f02-8935-1fc485d4cc56"
      }
     },
     "258c6004934b4cf7b9a481f62aa6734d": {
      "model_module": "jupyter-threejs",
      "model_module_version": "^2.1.0",
      "model_name": "SpriteMaterialModel",
      "state": {
       "_view_module": null,
       "_view_module_version": "",
       "map": "IPY_MODEL_6fcd8ae442b14adb872ff14e3f907e21"
      }
     },
     "25b862f24b254ec88e3573f8a3afa740": {
      "model_module": "jupyter-threejs",
      "model_module_version": "^2.1.0",
      "model_name": "SpriteMaterialModel",
      "state": {
       "_view_module": null,
       "_view_module_version": "",
       "map": "IPY_MODEL_f383674e7c8340efbb878410133ab2f8"
      }
     },
     "271c35b32f0640b88346a57883d30e17": {
      "model_module": "jupyter-threejs",
      "model_module_version": "^2.1.0",
      "model_name": "SpriteModel",
      "state": {
       "_view_module": null,
       "_view_module_version": "",
       "material": "IPY_MODEL_81aacf5ddbf84b15b523560a4e5414f7",
       "matrix": [
        0.05,
        0,
        0,
        0,
        0,
        0.07500000000000001,
        0,
        0,
        0,
        0,
        0.05,
        0,
        1,
        0,
        0,
        1
       ],
       "position": [
        1,
        0,
        0
       ],
       "scale": [
        0.05,
        0.07500000000000001,
        0.05
       ]
      }
     },
     "28ad941fc6a2420ebb716cfc52dc3446": {
      "buffers": [
       {
        "data": "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",
        "encoding": "base64",
        "path": [
         "array",
         "buffer"
        ]
       }
      ],
      "model_module": "jupyter-threejs",
      "model_module_version": "^2.1.0",
      "model_name": "BufferAttributeModel",
      "state": {
       "_view_module": null,
       "_view_module_version": "",
       "array": {
        "dtype": "float32",
        "shape": [
         486,
         3
        ]
       },
       "version": 2
      }
     },
     "299f7afd485f4e85b546605dc1f5230e": {
      "buffers": [
       {
        "data": "AAAAAAEAAAA=",
        "encoding": "base64",
        "path": [
         "values",
         "buffer"
        ]
       },
       {
        "data": "AAAAAAMAAAA=",
        "encoding": "base64",
        "path": [
         "times",
         "buffer"
        ]
       }
      ],
      "model_module": "jupyter-threejs",
      "model_module_version": "^2.1.0",
      "model_name": "NumberKeyframeTrackModel",
      "state": {
       "_view_module": null,
       "_view_module_version": "",
       "name": "scene/A.morphTargetInfluences[0]",
       "times": {
        "dtype": "int32",
        "shape": [
         2
        ]
       },
       "values": {
        "dtype": "int32",
        "shape": [
         2
        ]
       }
      }
     },
     "29ade10cb0714a8290f36f2f6c524aba": {
      "model_module": "jupyter-threejs",
      "model_module_version": "^2.1.0",
      "model_name": "SpriteModel",
      "state": {
       "_view_module": null,
       "_view_module_version": "",
       "material": "IPY_MODEL_530289b799fe4b77aa9358d2a178cc1e",
       "matrix": [
        0.05,
        0,
        0,
        0,
        0,
        0.07500000000000001,
        0,
        0,
        0,
        0,
        0.05,
        0,
        0,
        1,
        0,
        1
       ],
       "position": [
        0,
        1,
        0
       ],
       "scale": [
        0.05,
        0.07500000000000001,
        0.05
       ]
      }
     },
     "29fec4854dc7481eb23c7d5dfd0453cb": {
      "model_module": "jupyter-threejs",
      "model_module_version": "^2.1.0",
      "model_name": "GroupModel",
      "state": {
       "_view_module": null,
       "_view_module_version": "",
       "children": [
        "IPY_MODEL_4cba73bdf051494c9fe4510a62a2e3e6",
        "IPY_MODEL_b0807410b83e4e49a1f3514a90ac47fd"
       ]
      }
     },
     "2a2d00b9b5b24a2987443bc06fb4ba32": {
      "model_module": "jupyter-threejs",
      "model_module_version": "^2.1.0",
      "model_name": "SpriteMaterialModel",
      "state": {
       "_view_module": null,
       "_view_module_version": "",
       "map": "IPY_MODEL_cccbfc28820245a791bf900bc697ca5a"
      }
     },
     "2a99f8f75698466dba102d57dd6b33b8": {
      "model_module": "jupyter-threejs",
      "model_module_version": "^2.1.0",
      "model_name": "AmbientLightModel",
      "state": {
       "_view_module": null,
       "_view_module_version": "",
       "intensity": 0.5
      }
     },
     "2b7b9ffdbcad4ce9b0089a8a481b3e51": {
      "model_module": "jupyter-threejs",
      "model_module_version": "^2.1.0",
      "model_name": "SpriteModel",
      "state": {
       "_view_module": null,
       "_view_module_version": "",
       "material": "IPY_MODEL_cf11cf34ff4045709cda6e4f795f86b5",
       "matrix": [
        0.05,
        0,
        0,
        0,
        0,
        0.07500000000000001,
        0,
        0,
        0,
        0,
        0.05,
        0,
        1,
        1,
        0,
        1
       ],
       "position": [
        1,
        1,
        0
       ],
       "scale": [
        0.05,
        0.07500000000000001,
        0.05
       ]
      }
     },
     "2cf65b6fc9754ee0b84c5a73f8154070": {
      "model_module": "jupyter-threejs",
      "model_module_version": "^2.1.0",
      "model_name": "SceneModel",
      "state": {
       "_view_module": null,
       "_view_module_version": "",
       "children": [
        "IPY_MODEL_3e41609cce134fbbafdceee71ed44bf6",
        "IPY_MODEL_ac9fcceb4f7245d3b4e64a7f826b1a46",
        "IPY_MODEL_55b5e0d8a0784c22b50d637afa1f8d64",
        "IPY_MODEL_3878c7dd2f11480cb311b0a6d90f0b53",
        "IPY_MODEL_6ca3f9e224a44873a3b9cf3f99b8048d",
        "IPY_MODEL_e7d3fa10f53e4624b89a642119fcb357"
       ]
      }
     },
     "2d3c9df978d143ed87c33432c0d2de7c": {
      "model_module": "jupyter-threejs",
      "model_module_version": "^2.1.0",
      "model_name": "SpriteModel",
      "state": {
       "_view_module": null,
       "_view_module_version": "",
       "material": "IPY_MODEL_36eee179def845dfbf34092efefd3ead",
       "matrix": [
        0.05,
        0,
        0,
        0,
        0,
        0.07500000000000001,
        0,
        0,
        0,
        0,
        0.05,
        0,
        0,
        0,
        1,
        1
       ],
       "position": [
        0,
        0,
        1
       ],
       "scale": [
        0.05,
        0.07500000000000001,
        0.05
       ]
      }
     },
     "2d4274c335214243938be578b1c60b4d": {
      "model_module": "jupyter-threejs",
      "model_module_version": "^2.1.0",
      "model_name": "DirectionalLightModel",
      "state": {
       "_view_module": null,
       "_view_module_version": "",
       "intensity": 0.6,
       "matrixWorldNeedsUpdate": true,
       "position": [
        3,
        5,
        1
       ],
       "shadow": "IPY_MODEL_9202107a-db71-42b3-999b-77f1e5322adb",
       "target": "IPY_MODEL_eb11b3a0-df03-41cb-90a9-85357611afff"
      }
     },
     "2dc602cb71b84d40a71536ebef46059b": {
      "model_module": "jupyter-threejs",
      "model_module_version": "^2.1.0",
      "model_name": "AxesHelperModel",
      "state": {
       "_view_module": null,
       "_view_module_version": "",
       "size": 2,
       "type": "LineSegments"
      }
     },
     "2e9c63a72e2749d8967cb8bde67259ee": {
      "model_module": "jupyter-threejs",
      "model_module_version": "^2.1.0",
      "model_name": "SpriteModel",
      "state": {
       "_view_module": null,
       "_view_module_version": "",
       "material": "IPY_MODEL_a7958846fbfe4441b3f76d479cb07ee9",
       "matrix": [
        0.05,
        0,
        0,
        0,
        0,
        0.07500000000000001,
        0,
        0,
        0,
        0,
        0.05,
        0,
        0,
        2,
        0,
        1
       ],
       "position": [
        0,
        2,
        0
       ],
       "scale": [
        0.05,
        0.07500000000000001,
        0.05
       ]
      }
     },
     "2eba9b46c9804a0cbf5834b39971e3e4": {
      "model_module": "@jupyter-widgets/base",
      "model_module_version": "1.2.0",
      "model_name": "LayoutModel",
      "state": {}
     },
     "2f333b1effc6427aa8c4feb8236e4aa7": {
      "model_module": "jupyter-threejs",
      "model_module_version": "^2.1.0",
      "model_name": "RendererModel",
      "state": {
       "_height": 600,
       "_webgl_version": 2,
       "_width": 600,
       "camera": "IPY_MODEL_55b5e0d8a0784c22b50d637afa1f8d64",
       "controls": [
        "IPY_MODEL_9193abc6a66f46749c7c05f12e68e71a"
       ],
       "layout": "IPY_MODEL_67378105c7b448b6906859bdc51cbd68",
       "scene": "IPY_MODEL_2cf65b6fc9754ee0b84c5a73f8154070",
       "shadowMap": "IPY_MODEL_0176af86ec3243eaa08beb52515406a7"
      }
     },
     "2f43c0a80f444440a6d7bc3de69fbd73": {
      "buffers": [
       {
        "data": "AAAAPwAAAD8AAAA/AAAAPwAAAD8AAAA/AAAAPwAAAD8AAAA/AAAAPwAAAD8AAAA/AAAAPwAAAD8AAAA/AAAAPwAAAD8AAAA/AAAAPwAAAD8AAAA/AAAAPwAAAD8AAAA/AAAAPwAAAD8AAAA/AAAAPwAAAD8AAAA/AAAAPwAAAD8AAAA/AAAAPwAAAD8AAAA/AAAAPwAAAD8AAAA/AAAAPwAAAD8AAAA/AAAAPwAAAD8AAAA/AAAAPwAAAD8AAAA/AAAAPwAAAD8AAAA/AAAAPwAAAD8AAAA/AAAAPwAAAD8AAAA/AAAAPwAAAD8AAAA/AAAAPwAAAD8AAAA/AAAAPwAAAD8AAAA/AAAAPwAAAD8AAAA/AAAAPwAAAD8AAAA/",
        "encoding": "base64",
        "path": [
         "array",
         "buffer"
        ]
       }
      ],
      "model_module": "jupyter-threejs",
      "model_module_version": "^2.1.0",
      "model_name": "BufferAttributeModel",
      "state": {
       "_view_module": null,
       "_view_module_version": "",
       "array": {
        "dtype": "float32",
        "shape": [
         24,
         3
        ]
       },
       "normalized": true,
       "version": 2
      }
     },
     "306d32995ada411fa7a3874acf18f32b": {
      "model_module": "jupyter-threejs",
      "model_module_version": "^2.1.0",
      "model_name": "RendererModel",
      "state": {
       "_height": 600,
       "_webgl_version": 2,
       "_width": 600,
       "camera": "IPY_MODEL_77566ccfed2f4c62b2fb65e5c3f12108",
       "controls": [
        "IPY_MODEL_bac68f476e6a4a9a86871e759e6b3c72"
       ],
       "layout": "IPY_MODEL_9f099829a1b240b6b9b655c187c2d554",
       "scene": "IPY_MODEL_234b160315784f94a6ee0106825556cd",
       "shadowMap": "IPY_MODEL_f40d092142384d24a86e362dae4e8234"
      }
     },
     "31c25b64b1ff4cd2b491a02534179f09": {
      "model_module": "jupyter-threejs",
      "model_module_version": "^2.1.0",
      "model_name": "TextTextureModel",
      "state": {
       "_view_module": null,
       "_view_module_version": "",
       "size": 100,
       "squareTexture": false,
       "string": "1",
       "version": 2
      }
     },
     "327f05f1153445ad8dd7e542199e65f9": {
      "model_module": "jupyter-threejs",
      "model_module_version": "^2.1.0",
      "model_name": "TextTextureModel",
      "state": {
       "_view_module": null,
       "_view_module_version": "",
       "size": 100,
       "squareTexture": false,
       "string": "8",
       "version": 2
      }
     },
     "32f229d2aaf24cb8a0ead0fe212644c3": {
      "model_module": "jupyter-threejs",
      "model_module_version": "^2.1.0",
      "model_name": "SpriteMaterialModel",
      "state": {
       "_view_module": null,
       "_view_module_version": "",
       "map": "IPY_MODEL_73c6d7a04d0043efbee8b9cee9beb70f"
      }
     },
     "3353aa52-a1fe-4f02-8935-1fc485d4cc56": {
      "model_module": "jupyter-threejs",
      "model_module_version": "^2.1.0",
      "model_name": "OrthographicCameraModel",
      "state": {
       "bottom": -5,
       "far": 500,
       "left": -5,
       "near": 0.5,
       "projectionMatrix": [
        0.2,
        0,
        0,
        0,
        0,
        0.2,
        0,
        0,
        0,
        0,
        -0.004004004004004004,
        0,
        0,
        0,
        -1.002002002002002,
        1
       ],
       "right": 5,
       "top": 5
      }
     },
     "341e67b8530a4fd1a930ce497d00e04d": {
      "model_module": "jupyter-threejs",
      "model_module_version": "^2.1.0",
      "model_name": "SpriteModel",
      "state": {
       "_view_module": null,
       "_view_module_version": "",
       "material": "IPY_MODEL_f5762eeaf01e418798f9e068d36c5771",
       "matrix": [
        0.05,
        0,
        0,
        0,
        0,
        0.07500000000000001,
        0,
        0,
        0,
        0,
        0.05,
        0,
        0,
        0,
        1,
        1
       ],
       "position": [
        0,
        0,
        1
       ],
       "scale": [
        0.05,
        0.07500000000000001,
        0.05
       ]
      }
     },
     "3574eb6fde1b4ab9a3c0835f2a670c6a": {
      "model_module": "jupyter-threejs",
      "model_module_version": "^2.1.0",
      "model_name": "TextTextureModel",
      "state": {
       "_view_module": null,
       "_view_module_version": "",
       "size": 100,
       "squareTexture": false,
       "string": "4",
       "version": 2
      }
     },
     "35a187e9-6696-43c9-ad6d-98e606df98ca": {
      "model_module": "jupyter-threejs",
      "model_module_version": "^2.1.0",
      "model_name": "DirectionalLightShadowModel",
      "state": {
       "_view_module": null,
       "_view_module_version": "",
       "camera": "IPY_MODEL_6dfcf133-4b62-449a-92c1-48d892e037d9"
      }
     },
     "36eee179def845dfbf34092efefd3ead": {
      "model_module": "jupyter-threejs",
      "model_module_version": "^2.1.0",
      "model_name": "SpriteMaterialModel",
      "state": {
       "_view_module": null,
       "_view_module_version": "",
       "map": "IPY_MODEL_00adb5381e05461184c96b2951771643"
      }
     },
     "3739a66f085c4e749163e0a8dbaec864": {
      "model_module": "jupyter-threejs",
      "model_module_version": "^2.1.0",
      "model_name": "MeshModel",
      "state": {
       "_view_module": null,
       "_view_module_version": "",
       "geometry": "IPY_MODEL_024d83559212494ebad28444147b0d6d",
       "material": "IPY_MODEL_b7df5329659147c59ab369be661e7d35",
       "morphTargetInfluences": []
      }
     },
     "374048d9-bcbd-432d-a9e7-4a699d4f07f1": {
      "model_module": "jupyter-threejs",
      "model_module_version": "^2.1.0",
      "model_name": "OrthographicCameraModel",
      "state": {
       "bottom": -5,
       "far": 500,
       "left": -5,
       "near": 0.5,
       "projectionMatrix": [
        0.2,
        0,
        0,
        0,
        0,
        0.2,
        0,
        0,
        0,
        0,
        -0.004004004004004004,
        0,
        0,
        0,
        -1.002002002002002,
        1
       ],
       "right": 5,
       "top": 5
      }
     },
     "375d4ba4d40c42d9a401167315020df0": {
      "model_module": "jupyter-threejs",
      "model_module_version": "^2.1.0",
      "model_name": "WebGLShadowMapModel",
      "state": {
       "_view_module": null,
       "_view_module_version": ""
      }
     },
     "3762fe54575e4f6abf7c263380b32bb4": {
      "model_module": "jupyter-threejs",
      "model_module_version": "^2.1.0",
      "model_name": "PerspectiveCameraModel",
      "state": {
       "_view_module": null,
       "_view_module_version": "",
       "matrix": [
        -0.7071067811865475,
        0.7071067811865475,
        5.551115123125783E-17,
        0,
        -0.40824829046386296,
        -0.4082482904638629,
        0.8164965809277259,
        0,
        0.5773502691896257,
        0.5773502691896256,
        0.577350269189626,
        0,
        3,
        3,
        3,
        1
       ],
       "matrixWorld": [
        -0.7071067811865475,
        0.7071067811865475,
        5.551115123125783E-17,
        0,
        -0.40824829046386296,
        -0.4082482904638629,
        0.8164965809277259,
        0,
        0.5773502691896257,
        0.5773502691896256,
        0.577350269189626,
        0,
        3,
        3,
        3,
        1
       ],
       "position": [
        3,
        3,
        3
       ],
       "projectionMatrix": [
        2.1445069205095586,
        0,
        0,
        0,
        0,
        2.1445069205095586,
        0,
        0,
        0,
        0,
        -1.00010000500025,
        -1,
        0,
        0,
        -0.200010000500025,
        0
       ],
       "quaternion": [
        0.17591989660616114,
        0.4247082002778668,
        0.8204732385702833,
        0.3398511429799873
       ],
       "rotation": [
        -0.7853981633974481,
        0.6154797086703874,
        2.6179938779914944,
        "XYZ"
       ],
       "up": [
        0,
        0,
        1
       ]
      }
     },
     "378d02a4a3234be0ab6a2c524ca3419e": {
      "model_module": "jupyter-threejs",
      "model_module_version": "^2.1.0",
      "model_name": "AnimationMixerModel",
      "state": {
       "_view_module": null,
       "_view_module_version": "",
       "rootObject": "IPY_MODEL_059f35511b5f439f863abca538ca43ba",
       "time": 3.549999964889139E-4
      }
     },
     "3878c7dd2f11480cb311b0a6d90f0b53": {
      "model_module": "jupyter-threejs",
      "model_module_version": "^2.1.0",
      "model_name": "DirectionalLightModel",
      "state": {
       "_view_module": null,
       "_view_module_version": "",
       "intensity": 0.6,
       "matrixWorldNeedsUpdate": true,
       "position": [
        3,
        5,
        1
       ],
       "shadow": "IPY_MODEL_24993794-29a4-4773-81ac-beb7b97b6b32",
       "target": "IPY_MODEL_98deb552-7b17-404b-becd-33c9934d0324"
      }
     },
     "389abd7d99b74ba2bb9592754cd2d711": {
      "model_module": "jupyter-threejs",
      "model_module_version": "^2.1.0",
      "model_name": "TextTextureModel",
      "state": {
       "_view_module": null,
       "_view_module_version": "",
       "size": 100,
       "squareTexture": false,
       "string": "7",
       "version": 2
      }
     },
     "38a9dc8f1b6d4e9fa14c92c8579117eb": {
      "model_module": "jupyter-threejs",
      "model_module_version": "^2.1.0",
      "model_name": "SpriteMaterialModel",
      "state": {
       "_view_module": null,
       "_view_module_version": "",
       "map": "IPY_MODEL_ba5ea57922bb41cb9f4a608bcebb714a"
      }
     },
     "394f0ecfaa13479f9e4a22e1bb5e5048": {
      "model_module": "jupyter-threejs",
      "model_module_version": "^2.1.0",
      "model_name": "SpriteModel",
      "state": {
       "_view_module": null,
       "_view_module_version": "",
       "material": "IPY_MODEL_c0860af3b8a142059c9c2b4e9a99f1e7",
       "matrix": [
        0.05,
        0,
        0,
        0,
        0,
        0.07500000000000001,
        0,
        0,
        0,
        0,
        0.05,
        0,
        1,
        0,
        1,
        1
       ],
       "position": [
        1,
        0,
        1
       ],
       "scale": [
        0.05,
        0.07500000000000001,
        0.05
       ]
      }
     },
     "3975f4fe0f3c4acc85e0d3bb4d9be767": {
      "model_module": "jupyter-threejs",
      "model_module_version": "^2.1.0",
      "model_name": "SpriteModel",
      "state": {
       "_view_module": null,
       "_view_module_version": "",
       "material": "IPY_MODEL_22c371bbdd8b44b98894cba1bc6b048b",
       "matrix": [
        0.05,
        0,
        0,
        0,
        0,
        0.07500000000000001,
        0,
        0,
        0,
        0,
        0.05,
        0,
        0,
        1,
        1,
        1
       ],
       "position": [
        0,
        1,
        1
       ],
       "scale": [
        0.05,
        0.07500000000000001,
        0.05
       ]
      }
     },
     "3b6a560cc12041f482a023fbaefc5e3b": {
      "buffers": [
       {
        "data": "AAAAAAEAAAA=",
        "encoding": "base64",
        "path": [
         "values",
         "buffer"
        ]
       },
       {
        "data": "AAAAAAMAAAA=",
        "encoding": "base64",
        "path": [
         "times",
         "buffer"
        ]
       }
      ],
      "model_module": "jupyter-threejs",
      "model_module_version": "^2.1.0",
      "model_name": "NumberKeyframeTrackModel",
      "state": {
       "_view_module": null,
       "_view_module_version": "",
       "name": "scene/A.morphTargetInfluences[0]",
       "times": {
        "dtype": "int32",
        "shape": [
         2
        ]
       },
       "values": {
        "dtype": "int32",
        "shape": [
         2
        ]
       }
      }
     },
     "3d91048234fa45deb914a2d618293ce1": {
      "model_module": "jupyter-threejs",
      "model_module_version": "^2.1.0",
      "model_name": "MeshLambertMaterialModel",
      "state": {
       "_view_module": null,
       "_view_module_version": "",
       "vertexColors": "VertexColors"
      }
     },
     "3e41609cce134fbbafdceee71ed44bf6": {
      "model_module": "jupyter-threejs",
      "model_module_version": "^2.1.0",
      "model_name": "MeshModel",
      "state": {
       "_view_module": null,
       "_view_module_version": "",
       "geometry": "IPY_MODEL_f8d09e3bce8f48b9b73f651eddea11b8",
       "material": "IPY_MODEL_583e5c5b49b9466f870c42aabd874663",
       "name": "A"
      }
     },
     "3ea78598cf9a464dbcab8594c8e4ace0": {
      "model_module": "jupyter-threejs",
      "model_module_version": "^2.1.0",
      "model_name": "DirectionalLightModel",
      "state": {
       "_view_module": null,
       "_view_module_version": "",
       "intensity": 0.5,
       "matrixWorldNeedsUpdate": true,
       "position": [
        16,
        12,
        17
       ],
       "shadow": "IPY_MODEL_21bcccf3-1c4d-4ece-a14c-0db03b92c4d4",
       "target": "IPY_MODEL_e57cf8d9-2eb6-4b51-9364-6ef40858fbcf"
      }
     },
     "3edaa86718594e7ba473b80b51d5cae7": {
      "model_module": "jupyter-threejs",
      "model_module_version": "^2.1.0",
      "model_name": "MeshPhongMaterialModel",
      "state": {
       "_view_module": null,
       "_view_module_version": "",
       "color": "#ff3333",
       "morphTargets": true,
       "shininess": 150
      }
     },
     "3f4e0073952d4737b8b7228fe9fbe82d": {
      "model_module": "jupyter-threejs",
      "model_module_version": "^2.1.0",
      "model_name": "SceneModel",
      "state": {
       "_view_module": null,
       "_view_module_version": "",
       "children": [
        "IPY_MODEL_4cba73bdf051494c9fe4510a62a2e3e6",
        "IPY_MODEL_b0807410b83e4e49a1f3514a90ac47fd",
        "IPY_MODEL_0b89591dcffa4d1d8cae320586855d5d",
        "IPY_MODEL_a1aa8d053c0341339a05dbd49d78507b",
        "IPY_MODEL_a4beeee5e6fb4607884e9a63c280f0e3",
        "IPY_MODEL_4d0249395c634fc38d30c4f917054995"
       ]
      }
     },
     "40a5f64e8a384503bee1bacb35893ffc": {
      "model_module": "jupyter-threejs",
      "model_module_version": "^2.1.0",
      "model_name": "MeshLambertMaterialModel",
      "state": {
       "_view_module": null,
       "_view_module_version": "",
       "side": "BackSide",
       "vertexColors": "VertexColors"
      }
     },
     "40b714fd92604e1396201288705b2a38": {
      "model_module": "jupyter-threejs",
      "model_module_version": "^2.1.0",
      "model_name": "SpriteModel",
      "state": {
       "_view_module": null,
       "_view_module_version": "",
       "material": "IPY_MODEL_ce9164e8f8464e26b465cb7b3ef966f5",
       "matrix": [
        0.05,
        0,
        0,
        0,
        0,
        0.07500000000000001,
        0,
        0,
        0,
        0,
        0.05,
        0,
        0,
        1,
        0,
        1
       ],
       "position": [
        0,
        1,
        0
       ],
       "scale": [
        0.05,
        0.07500000000000001,
        0.05
       ]
      }
     },
     "4382611eb224457981220c40651f797e": {
      "model_module": "jupyter-threejs",
      "model_module_version": "^2.1.0",
      "model_name": "TextTextureModel",
      "state": {
       "_view_module": null,
       "_view_module_version": "",
       "size": 100,
       "squareTexture": false,
       "string": "z",
       "version": 2
      }
     },
     "4466f1650aaf47f4ac5c20f36ba818d3": {
      "model_module": "jupyter-threejs",
      "model_module_version": "^2.1.0",
      "model_name": "SpriteModel",
      "state": {
       "_view_module": null,
       "_view_module_version": "",
       "material": "IPY_MODEL_4a418c83f3a344669806c9f4954ca259",
       "matrix": [
        0.05,
        0,
        0,
        0,
        0,
        0.07500000000000001,
        0,
        0,
        0,
        0,
        0.05,
        0,
        1,
        0,
        1,
        1
       ],
       "position": [
        1,
        0,
        1
       ],
       "scale": [
        0.05,
        0.07500000000000001,
        0.05
       ]
      }
     },
     "4510e576f20f4a7296d8b344a1919242": {
      "model_module": "jupyter-threejs",
      "model_module_version": "^2.1.0",
      "model_name": "GroupModel",
      "state": {
       "_view_module": null,
       "_view_module_version": "",
       "children": [
        "IPY_MODEL_1b64ad3075984646833cbf8f6fe4bfb4",
        "IPY_MODEL_f8276ba56d3c41f883723e9330be91bd"
       ]
      }
     },
     "46388f650ef54132ab976146ad704a8b": {
      "model_module": "jupyter-threejs",
      "model_module_version": "^2.1.0",
      "model_name": "OrbitControlsModel",
      "state": {
       "_view_module": null,
       "_view_module_version": "",
       "controlling": "IPY_MODEL_02856647d7944bcda63049f97b31f5f0",
       "maxAzimuthAngle": "inf",
       "maxDistance": "inf",
       "maxZoom": "inf",
       "minAzimuthAngle": "-inf",
       "target": [
        0.5,
        0.5,
        0.5
       ]
      }
     },
     "46b34b78e24c48a8b94e923a20359ec5": {
      "model_module": "jupyter-threejs",
      "model_module_version": "^2.1.0",
      "model_name": "SpriteModel",
      "state": {
       "_view_module": null,
       "_view_module_version": "",
       "material": "IPY_MODEL_1873768e1afb46b0b5f4a2567ba18fc6",
       "matrix": [
        0.05,
        0,
        0,
        0,
        0,
        0.07500000000000001,
        0,
        0,
        0,
        0,
        0.05,
        0,
        1,
        1,
        1,
        1
       ],
       "position": [
        1,
        1,
        1
       ],
       "scale": [
        0.05,
        0.07500000000000001,
        0.05
       ]
      }
     },
     "4819a2c74c7a46ef8b6b9fc2ae48321e": {
      "model_module": "jupyter-threejs",
      "model_module_version": "^2.1.0",
      "model_name": "OrbitControlsModel",
      "state": {
       "_view_module": null,
       "_view_module_version": "",
       "controlling": "IPY_MODEL_3762fe54575e4f6abf7c263380b32bb4",
       "maxAzimuthAngle": "inf",
       "maxDistance": "inf",
       "maxZoom": "inf",
       "minAzimuthAngle": "-inf"
      }
     },
     "497f0f762a714a419b5a65f091611f07": {
      "model_module": "jupyter-threejs",
      "model_module_version": "^2.1.0",
      "model_name": "MeshLambertMaterialModel",
      "state": {
       "_view_module": null,
       "_view_module_version": "",
       "vertexColors": "VertexColors"
      }
     },
     "4a418c83f3a344669806c9f4954ca259": {
      "model_module": "jupyter-threejs",
      "model_module_version": "^2.1.0",
      "model_name": "SpriteMaterialModel",
      "state": {
       "_view_module": null,
       "_view_module_version": "",
       "map": "IPY_MODEL_e3b5b3dcfaf446618f5027fae2e35da9"
      }
     },
     "4cba73bdf051494c9fe4510a62a2e3e6": {
      "model_module": "jupyter-threejs",
      "model_module_version": "^2.1.0",
      "model_name": "MeshModel",
      "state": {
       "_view_module": null,
       "_view_module_version": "",
       "geometry": "IPY_MODEL_93c196ecfe2942c883ebe48219df6cbd",
       "material": "IPY_MODEL_3edaa86718594e7ba473b80b51d5cae7",
       "name": "A"
      }
     },
     "4d0249395c634fc38d30c4f917054995": {
      "model_module": "jupyter-threejs",
      "model_module_version": "^2.1.0",
      "model_name": "AxesHelperModel",
      "state": {
       "_view_module": null,
       "_view_module_version": "",
       "size": 2,
       "type": "LineSegments"
      }
     },
     "4d35765fa62e42c29bef649247f5b0ce": {
      "model_module": "jupyter-threejs",
      "model_module_version": "^2.1.0",
      "model_name": "SpriteMaterialModel",
      "state": {
       "_view_module": null,
       "_view_module_version": "",
       "map": "IPY_MODEL_3574eb6fde1b4ab9a3c0835f2a670c6a"
      }
     },
     "4d93c1593a0f42ffa658e49e56219cde": {
      "model_module": "jupyter-threejs",
      "model_module_version": "^2.1.0",
      "model_name": "BufferGeometryModel",
      "state": {
       "_view_module": null,
       "_view_module_version": "",
       "attributes": {
        "color": "IPY_MODEL_ba59f69e11194b93a091903fe2630aa1",
        "position": "IPY_MODEL_9de0c03f9dfc4db8989e3f1376bfabd0"
       },
       "index": "IPY_MODEL_f6a79cd18f62428e89ee72d562e208a3",
       "morphAttributes": {
        "position": [
         "IPY_MODEL_7f16a87e20e14221b19b2597976857f8"
        ]
       }
      }
     },
     "4fecc2f0db0546968d14bafe6140639a": {
      "model_module": "jupyter-threejs",
      "model_module_version": "^2.1.0",
      "model_name": "MeshPhongMaterialModel",
      "state": {
       "_view_module": null,
       "_view_module_version": "",
       "color": "#ff3333",
       "morphTargets": true,
       "shininess": 150
      }
     },
     "5027456ff3994e93b09c47c1c11a6e35": {
      "model_module": "jupyter-threejs",
      "model_module_version": "^2.1.0",
      "model_name": "SpriteMaterialModel",
      "state": {
       "_view_module": null,
       "_view_module_version": "",
       "map": "IPY_MODEL_77a33dff4bbb437b87f99cdd9ac0489e"
      }
     },
     "50ffcea5576449d9af92e6cef67f82fa": {
      "buffers": [
       {
        "data": "AAAAPwAAAD8AAAA/AAAAPwAAAD8AAAA/AAAAPwAAAD8AAAA/AAAAPwAAAD8AAAA/AAAAPwAAAD8AAAA/AAAAPwAAAD8AAAA/AAAAPwAAAD8AAAA/AAAAPwAAAD8AAAA/AAAAPwAAAD8AAAA/AAAAPwAAAD8AAAA/AAAAPwAAAD8AAAA/AAAAPwAAAD8AAAA/AAAAPwAAAD8AAAA/AAAAPwAAAD8AAAA/AAAAPwAAAD8AAAA/AAAAPwAAAD8AAAA/AAAAPwAAAD8AAAA/AAAAPwAAAD8AAAA/AAAAPwAAAD8AAAA/AAAAPwAAAD8AAAA/AAAAPwAAAD8AAAA/AAAAPwAAAD8AAAA/AAAAPwAAAD8AAAA/AAAAPwAAAD8AAAA/",
        "encoding": "base64",
        "path": [
         "array",
         "buffer"
        ]
       }
      ],
      "model_module": "jupyter-threejs",
      "model_module_version": "^2.1.0",
      "model_name": "BufferAttributeModel",
      "state": {
       "_view_module": null,
       "_view_module_version": "",
       "array": {
        "dtype": "float32",
        "shape": [
         24,
         3
        ]
       },
       "normalized": true,
       "version": 2
      }
     },
     "5120f2bf68f747ce85d32600ab4b2750": {
      "model_module": "jupyter-threejs",
      "model_module_version": "^2.1.0",
      "model_name": "AnimationClipModel",
      "state": {
       "_view_module": null,
       "_view_module_version": "",
       "duration": 3,
       "tracks": [
        "IPY_MODEL_59d4403ba7ea48f4866e7c503b8e531d",
        "IPY_MODEL_b70e7dec08664939b5c3464cf8c68522"
       ]
      }
     },
     "525bb7c8ab5b4e7aae781892c0d15ae8": {
      "model_module": "jupyter-threejs",
      "model_module_version": "^2.1.0",
      "model_name": "TextTextureModel",
      "state": {
       "_view_module": null,
       "_view_module_version": "",
       "size": 100,
       "squareTexture": false,
       "string": "3",
       "version": 2
      }
     },
     "52d62166a1f54c728b4cfe9e1370237b": {
      "buffers": [
       {
        "data": "AAAAAAEAAAA=",
        "encoding": "base64",
        "path": [
         "values",
         "buffer"
        ]
       },
       {
        "data": "AAAAAAMAAAA=",
        "encoding": "base64",
        "path": [
         "times",
         "buffer"
        ]
       }
      ],
      "model_module": "jupyter-threejs",
      "model_module_version": "^2.1.0",
      "model_name": "NumberKeyframeTrackModel",
      "state": {
       "_view_module": null,
       "_view_module_version": "",
       "name": "scene/A.morphTargetInfluences[0]",
       "times": {
        "dtype": "int32",
        "shape": [
         2
        ]
       },
       "values": {
        "dtype": "int32",
        "shape": [
         2
        ]
       }
      }
     },
     "530289b799fe4b77aa9358d2a178cc1e": {
      "model_module": "jupyter-threejs",
      "model_module_version": "^2.1.0",
      "model_name": "SpriteMaterialModel",
      "state": {
       "_view_module": null,
       "_view_module_version": "",
       "map": "IPY_MODEL_f40dfd0feafa4626b2611939746b1e58"
      }
     },
     "53548f85a2234488801e74b243e8bf2c": {
      "buffers": [
       {
        "data": "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",
        "encoding": "base64",
        "path": [
         "array",
         "buffer"
        ]
       }
      ],
      "model_module": "jupyter-threejs",
      "model_module_version": "^2.1.0",
      "model_name": "BufferAttributeModel",
      "state": {
       "_view_module": null,
       "_view_module_version": "",
       "array": {
        "dtype": "float32",
        "shape": [
         486,
         3
        ]
       },
       "normalized": true,
       "version": 2
      }
     },
     "535be1657e4f4f9f8225b530d48dcbb7": {
      "model_module": "jupyter-threejs",
      "model_module_version": "^2.1.0",
      "model_name": "GroupModel",
      "state": {
       "_view_module": null,
       "_view_module_version": "",
       "children": [
        "IPY_MODEL_b80d5868626b4922b015bd4b8d7400bf",
        "IPY_MODEL_0e0d772d75754653ac1364b2fb35ecd7"
       ]
      }
     },
     "54318ca3-b070-4eea-990b-d41af8270365": {
      "model_module": "jupyter-threejs",
      "model_module_version": "^2.1.0",
      "model_name": "OrthographicCameraModel",
      "state": {
       "bottom": -5,
       "far": 500,
       "left": -5,
       "near": 0.5,
       "projectionMatrix": [
        0.2,
        0,
        0,
        0,
        0,
        0.2,
        0,
        0,
        0,
        0,
        -0.004004004004004004,
        0,
        0,
        0,
        -1.002002002002002,
        1
       ],
       "right": 5,
       "top": 5
      }
     },
     "54386123d2b144a5a56b0f98a8e57941": {
      "model_module": "jupyter-threejs",
      "model_module_version": "^2.1.0",
      "model_name": "DirectionalLightModel",
      "state": {
       "_view_module": null,
       "_view_module_version": "",
       "intensity": 0.5,
       "matrixWorldNeedsUpdate": true,
       "position": [
        16,
        12,
        17
       ],
       "shadow": "IPY_MODEL_35a187e9-6696-43c9-ad6d-98e606df98ca",
       "target": "IPY_MODEL_d48b2dd1-f4dd-4a96-b512-e043c6ab4728"
      }
     },
     "55531106c17241229ab2a0f6af870dcf": {
      "model_module": "jupyter-threejs",
      "model_module_version": "^2.1.0",
      "model_name": "SpriteMaterialModel",
      "state": {
       "_view_module": null,
       "_view_module_version": "",
       "map": "IPY_MODEL_70fd1b1f80244d7e9fddb65c8c58a334"
      }
     },
     "558292dfe3df45d6827fbf19dfea311a": {
      "model_module": "jupyter-threejs",
      "model_module_version": "^2.1.0",
      "model_name": "TextTextureModel",
      "state": {
       "_view_module": null,
       "_view_module_version": "",
       "size": 100,
       "squareTexture": false,
       "string": "5",
       "version": 2
      }
     },
     "55a6bcb2cc9c4771bfdcab5bfa7730a7": {
      "model_module": "jupyter-threejs",
      "model_module_version": "^2.1.0",
      "model_name": "AmbientLightModel",
      "state": {
       "_view_module": null,
       "_view_module_version": "",
       "intensity": 0.8
      }
     },
     "55b5e0d8a0784c22b50d637afa1f8d64": {
      "model_module": "jupyter-threejs",
      "model_module_version": "^2.1.0",
      "model_name": "PerspectiveCameraModel",
      "state": {
       "_view_module": null,
       "_view_module_version": "",
       "matrix": [
        1,
        0,
        0,
        0,
        0,
        1,
        0,
        0,
        0,
        0,
        1,
        0,
        3,
        3,
        3,
        1
       ],
       "position": [
        3,
        3,
        3
       ],
       "projectionMatrix": [
        2.1445069205095586,
        0,
        0,
        0,
        0,
        2.1445069205095586,
        0,
        0,
        0,
        0,
        -1.00010000500025,
        -1,
        0,
        0,
        -0.200010000500025,
        0
       ]
      }
     },
     "55bad71521a347f786d906d496ef4950": {
      "model_module": "jupyter-threejs",
      "model_module_version": "^2.1.0",
      "model_name": "AxesHelperModel",
      "state": {
       "_view_module": null,
       "_view_module_version": "",
       "size": 2,
       "type": "LineSegments"
      }
     },
     "56e89032a6ae4b22adab81b821be00e3": {
      "model_module": "@jupyter-widgets/base",
      "model_module_version": "1.2.0",
      "model_name": "LayoutModel",
      "state": {}
     },
     "57abbfb9ec2d45208a07dbcf164da1e4": {
      "model_module": "jupyter-threejs",
      "model_module_version": "^2.1.0",
      "model_name": "RendererModel",
      "state": {
       "_height": 600,
       "_webgl_version": 2,
       "_width": 600,
       "camera": "IPY_MODEL_0b89591dcffa4d1d8cae320586855d5d",
       "controls": [
        "IPY_MODEL_2049725fad2d4c6b94d3e542ff4d39f1"
       ],
       "layout": "IPY_MODEL_c5d32ffa78f04f91ba1f7b75a8fb5dc7",
       "scene": "IPY_MODEL_3f4e0073952d4737b8b7228fe9fbe82d",
       "shadowMap": "IPY_MODEL_b2710af3248347b0a69b30575972eb75"
      }
     },
     "583e5c5b49b9466f870c42aabd874663": {
      "model_module": "jupyter-threejs",
      "model_module_version": "^2.1.0",
      "model_name": "MeshPhongMaterialModel",
      "state": {
       "_view_module": null,
       "_view_module_version": "",
       "color": "#ff3333",
       "morphTargets": true,
       "shininess": 150
      }
     },
     "58ddfe3a-fd40-4a96-8fd3-a436dac827c3": {
      "model_module": "jupyter-threejs",
      "model_module_version": "^2.1.0",
      "model_name": "OrthographicCameraModel",
      "state": {
       "bottom": -5,
       "far": 500,
       "left": -5,
       "near": 0.5,
       "projectionMatrix": [
        0.2,
        0,
        0,
        0,
        0,
        0.2,
        0,
        0,
        0,
        0,
        -0.004004004004004004,
        0,
        0,
        0,
        -1.002002002002002,
        1
       ],
       "right": 5,
       "top": 5
      }
     },
     "58fe5941e68c42aa886df646c53f0b1e": {
      "model_module": "jupyter-threejs",
      "model_module_version": "^2.1.0",
      "model_name": "MeshLambertMaterialModel",
      "state": {
       "_view_module": null,
       "_view_module_version": "",
       "vertexColors": "VertexColors"
      }
     },
     "59d4403ba7ea48f4866e7c503b8e531d": {
      "buffers": [
       {
        "data": "AAAAAAEAAAA=",
        "encoding": "base64",
        "path": [
         "values",
         "buffer"
        ]
       },
       {
        "data": "AAAAAAMAAAA=",
        "encoding": "base64",
        "path": [
         "times",
         "buffer"
        ]
       }
      ],
      "model_module": "jupyter-threejs",
      "model_module_version": "^2.1.0",
      "model_name": "NumberKeyframeTrackModel",
      "state": {
       "_view_module": null,
       "_view_module_version": "",
       "name": "scene/A.morphTargetInfluences[0]",
       "times": {
        "dtype": "int32",
        "shape": [
         2
        ]
       },
       "values": {
        "dtype": "int32",
        "shape": [
         2
        ]
       }
      }
     },
     "5a33c4a9c0a6441b9a20414b610f021a": {
      "buffers": [
       {
        "data": "AAABAAIAAQADAAIABAAFAAYABQAHAAYACAAJAAoACQALAAoADAANAA4ADQAPAA4AEAARABIAEQATABIAFAAVABYAFQAXABYA",
        "encoding": "base64",
        "path": [
         "array",
         "buffer"
        ]
       }
      ],
      "model_module": "jupyter-threejs",
      "model_module_version": "^2.1.0",
      "model_name": "BufferAttributeModel",
      "state": {
       "_view_module": null,
       "_view_module_version": "",
       "array": {
        "dtype": "uint16",
        "shape": [
         36
        ]
       },
       "version": 2
      }
     },
     "5cb0718395604f67b091c27f56d476f0": {
      "model_module": "jupyter-threejs",
      "model_module_version": "^2.1.0",
      "model_name": "SpriteMaterialModel",
      "state": {
       "_view_module": null,
       "_view_module_version": "",
       "map": "IPY_MODEL_02331941b4d24d6cada6e024ac20c9f2"
      }
     },
     "5ddd6d865621400aaafc8f4d000b07eb": {
      "buffers": [
       {
        "data": "AAAAPwAAAD8AAAA/AAAAPwAAAD8AAAA/AAAAPwAAAD8AAAA/AAAAPwAAAD8AAAA/AAAAPwAAAD8AAAA/AAAAPwAAAD8AAAA/AAAAPwAAAD8AAAA/AAAAPwAAAD8AAAA/AAAAPwAAAD8AAAA/AAAAPwAAAD8AAAA/AAAAPwAAAD8AAAA/AAAAPwAAAD8AAAA/AAAAPwAAAD8AAAA/AAAAPwAAAD8AAAA/AAAAPwAAAD8AAAA/AAAAPwAAAD8AAAA/AAAAPwAAAD8AAAA/AAAAPwAAAD8AAAA/AAAAPwAAAD8AAAA/AAAAPwAAAD8AAAA/AAAAPwAAAD8AAAA/AAAAPwAAAD8AAAA/AAAAPwAAAD8AAAA/AAAAPwAAAD8AAAA/AAAAPwAAAD8AAAA/AAAAPwAAAD8AAAA/AAAAPwAAAD8AAAA/AAAAPwAAAD8AAAA/AAAAPwAAAD8AAAA/AAAAPwAAAD8AAAA/AAAAPwAAAD8AAAA/AAAAPwAAAD8AAAA/AAAAPwAAAD8AAAA/AAAAPwAAAD8AAAA/AAAAPwAAAD8AAAA/AAAAPwAAAD8AAAA/AAAAPwAAAD8AAAA/AAAAPwAAAD8AAAA/AAAAPwAAAD8AAAA/AAAAPwAAAD8AAAA/AAAAPwAAAD8AAAA/AAAAPwAAAD8AAAA/AAAAPwAAAD8AAAA/AAAAPwAAAD8AAAA/AAAAPwAAAD8AAAA/AAAAPwAAAD8AAAA/AAAAPwAAAD8AAAA/AAAAPwAAAD8AAAA/AAAAPwAAAD8AAAA/AAAAPwAAAD8AAAA/AAAAPwAAAD8AAAA/AAAAPwAAAD8AAAA/AAAAPwAAAD8AAAA/AAAAPwAAAD8AAAA/AAAAPwAAAD8AAAA/AAAAPwAAAD8AAAA/AAAAPwAAAD8AAAA/AAAAPwAAAD8AAAA/AAAAPwAAAD8AAAA/AAAAPwAAAD8AAAA/AAAAPwAAAD8AAAA/AAAAPwAAAD8AAAA/AAAAPwAAAD8AAAA/AAAAPwAAAD8AAAA/AAAAPwAAAD8AAAA/AAAAPwAAAD8AAAA/AAAAPwAAAD8AAAA/AAAAPwAAAD8AAAA/AAAAPwAAAD8AAAA/AAAAPwAAAD8AAAA/AAAAPwAAAD8AAAA/AAAAPwAAAD8AAAA/AAAAPwAAAD8AAAA/AAAAPwAAAD8AAAA/AAAAPwAAAD8AAAA/AAAAPwAAAD8AAAA/AAAAPwAAAD8AAAA/AAAAPwAAAD8AAAA/AAAAPwAAAD8AAAA/AAAAPwAAAD8AAAA/AAAAPwAAAD8AAAA/AAAAPwAAAD8AAAA/AAAAPwAAAD8AAAA/AAAAPwAAAD8AAAA/AAAAPwAAAD8AAAA/AAAAPwAAAD8AAAA/AAAAPwAAAD8AAAA/AAAAPwAAAD8AAAA/AAAAPwAAAD8AAAA/AAAAPwAAAD8AAAA/AAAAPwAAAD8AAAA/AAAAPwAAAD8AAAA/AAAAPwAAAD8AAAA/AAAAPwAAAD8AAAA/AAAAPwAAAD8AAAA/AAAAPwAAAD8AAAA/AAAAPwAAAD8AAAA/AAAAPwAAAD8AAAA/AAAAPwAAAD8AAAA/AAAAPwAAAD8AAAA/AAAAPwAAAD8AAAA/AAAAPwAAAD8AAAA/AAAAPwAAAD8AAAA/AAAAPwAAAD8AAAA/AAAAPwAAAD8AAAA/AAAAPwAAAD8AAAA/AAAAPwAAAD8AAAA/AAAAPwAAAD8AAAA/AAAAPwAAAD8AAAA/AAAAPwAAAD8AAAA/AAAAPwAAAD8AAAA/AAAAPwAAAD8AAAA/AAAAPwAAAD8AAAA/AAAAPwAAAD8AAAA/AAAAPwAAAD8AAAA/AAAAPwAAAD8AAAA/AAAAPwAAAD8AAAA/AAAAPwAAAD8AAAA/AAAAPwAAAD8AAAA/AAAAPwAAAD8AAAA/AAAAPwAAAD8AAAA/AAAAPwAAAD8AAAA/AAAAPwAAAD8AAAA/AAAAPwAAAD8AAAA/AAAAPwAAAD8AAAA/AAAAPwAAAD8AAAA/AAAAPwAAAD8AAAA/AAAAPwAAAD8AAAA/AAAAPwAAAD8AAAA/AAAAPwAAAD8AAAA/AAAAPwAAAD8AAAA/AAAAPwAAAD8AAAA/AAAAPwAAAD8AAAA/AAAAPwAAAD8AAAA/AAAAPwAAAD8AAAA/AAAAPwAAAD8AAAA/AAAAPwAAAD8AAAA/AAAAPwAAAD8AAAA/AAAAPwAAAD8AAAA/AAAAPwAAAD8AAAA/AAAAPwAAAD8AAAA/AAAAPwAAAD8AAAA/AAAAPwAAAD8AAAA/AAAAPwAAAD8AAAA/AAAAPwAAAD8AAAA/AAAAPwAAAD8AAAA/AAAAPwAAAD8AAAA/AAAAPwAAAD8AAAA/AAAAPwAAAD8AAAA/AAAAPwAAAD8AAAA/AAAAPwAAAD8AAAA/AAAAPwAAAD8AAAA/AAAAPwAAAD8AAAA/AAAAPwAAAD8AAAA/AAAAPwAAAD8AAAA/AAAAPwAAAD8AAAA/AAAAPwAAAD8AAAA/AAAAPwAAAD8AAAA/AAAAPwAAAD8AAAA/AAAAPwAAAD8AAAA/AAAAPwAAAD8AAAA/AAAAPwAAAD8AAAA/AAAAPwAAAD8AAAA/AAAAPwAAAD8AAAA/AAAAPwAAAD8AAAA/AAAAPwAAAD8AAAA/AAAAPwAAAD8AAAA/AAAAPwAAAD8AAAA/AAAAPwAAAD8AAAA/AAAAPwAAAD8AAAA/AAAAPwAAAD8AAAA/AAAAPwAAAD8AAAA/AAAAPwAAAD8AAAA/AAAAPwAAAD8AAAA/AAAAPwAAAD8AAAA/AAAAPwAAAD8AAAA/AAAAPwAAAD8AAAA/AAAAPwAAAD8AAAA/AAAAPwAAAD8AAAA/AAAAPwAAAD8AAAA/AAAAPwAAAD8AAAA/AAAAPwAAAD8AAAA/AAAAPwAAAD8AAAA/AAAAPwAAAD8AAAA/AAAAPwAAAD8AAAA/AAAAPwAAAD8AAAA/AAAAPwAAAD8AAAA/AAAAPwAAAD8AAAA/AAAAPwAAAD8AAAA/AAAAPwAAAD8AAAA/AAAAPwAAAD8AAAA/AAAAPwAAAD8AAAA/AAAAPwAAAD8AAAA/AAAAPwAAAD8AAAA/AAAAPwAAAD8AAAA/AAAAPwAAAD8AAAA/AAAAPwAAAD8AAAA/AAAAPwAAAD8AAAA/AAAAPwAAAD8AAAA/AAAAPwAAAD8AAAA/AAAAPwAAAD8AAAA/AAAAPwAAAD8AAAA/AAAAPwAAAD8AAAA/AAAAPwAAAD8AAAA/AAAAPwAAAD8AAAA/AAAAPwAAAD8AAAA/AAAAPwAAAD8AAAA/AAAAPwAAAD8AAAA/AAAAPwAAAD8AAAA/AAAAPwAAAD8AAAA/AAAAPwAAAD8AAAA/AAAAPwAAAD8AAAA/AAAAPwAAAD8AAAA/AAAAPwAAAD8AAAA/AAAAPwAAAD8AAAA/AAAAPwAAAD8AAAA/AAAAPwAAAD8AAAA/AAAAPwAAAD8AAAA/AAAAPwAAAD8AAAA/AAAAPwAAAD8AAAA/AAAAPwAAAD8AAAA/AAAAPwAAAD8AAAA/AAAAPwAAAD8AAAA/AAAAPwAAAD8AAAA/AAAAPwAAAD8AAAA/AAAAPwAAAD8AAAA/AAAAPwAAAD8AAAA/AAAAPwAAAD8AAAA/AAAAPwAAAD8AAAA/AAAAPwAAAD8AAAA/AAAAPwAAAD8AAAA/AAAAPwAAAD8AAAA/AAAAPwAAAD8AAAA/AAAAPwAAAD8AAAA/AAAAPwAAAD8AAAA/AAAAPwAAAD8AAAA/AAAAPwAAAD8AAAA/AAAAPwAAAD8AAAA/AAAAPwAAAD8AAAA/AAAAPwAAAD8AAAA/AAAAPwAAAD8AAAA/AAAAPwAAAD8AAAA/AAAAPwAAAD8AAAA/AAAAPwAAAD8AAAA/AAAAPwAAAD8AAAA/AAAAPwAAAD8AAAA/AAAAPwAAAD8AAAA/AAAAPwAAAD8AAAA/AAAAPwAAAD8AAAA/AAAAPwAAAD8AAAA/AAAAPwAAAD8AAAA/AAAAPwAAAD8AAAA/AAAAPwAAAD8AAAA/AAAAPwAAAD8AAAA/AAAAPwAAAD8AAAA/AAAAPwAAAD8AAAA/AAAAPwAAAD8AAAA/AAAAPwAAAD8AAAA/AAAAPwAAAD8AAAA/AAAAPwAAAD8AAAA/AAAAPwAAAD8AAAA/AAAAPwAAAD8AAAA/AAAAPwAAAD8AAAA/AAAAPwAAAD8AAAA/AAAAPwAAAD8AAAA/AAAAPwAAAD8AAAA/AAAAPwAAAD8AAAA/AAAAPwAAAD8AAAA/AAAAPwAAAD8AAAA/AAAAPwAAAD8AAAA/AAAAPwAAAD8AAAA/AAAAPwAAAD8AAAA/AAAAPwAAAD8AAAA/AAAAPwAAAD8AAAA/AAAAPwAAAD8AAAA/AAAAPwAAAD8AAAA/AAAAPwAAAD8AAAA/AAAAPwAAAD8AAAA/AAAAPwAAAD8AAAA/AAAAPwAAAD8AAAA/AAAAPwAAAD8AAAA/AAAAPwAAAD8AAAA/AAAAPwAAAD8AAAA/AAAAPwAAAD8AAAA/AAAAPwAAAD8AAAA/AAAAPwAAAD8AAAA/AAAAPwAAAD8AAAA/AAAAPwAAAD8AAAA/AAAAPwAAAD8AAAA/AAAAPwAAAD8AAAA/AAAAPwAAAD8AAAA/AAAAPwAAAD8AAAA/AAAAPwAAAD8AAAA/AAAAPwAAAD8AAAA/AAAAPwAAAD8AAAA/AAAAPwAAAD8AAAA/AAAAPwAAAD8AAAA/AAAAPwAAAD8AAAA/AAAAPwAAAD8AAAA/AAAAPwAAAD8AAAA/AAAAPwAAAD8AAAA/AAAAPwAAAD8AAAA/AAAAPwAAAD8AAAA/AAAAPwAAAD8AAAA/AAAAPwAAAD8AAAA/AAAAPwAAAD8AAAA/AAAAPwAAAD8AAAA/AAAAPwAAAD8AAAA/AAAAPwAAAD8AAAA/AAAAPwAAAD8AAAA/AAAAPwAAAD8AAAA/AAAAPwAAAD8AAAA/AAAAPwAAAD8AAAA/AAAAPwAAAD8AAAA/AAAAPwAAAD8AAAA/AAAAPwAAAD8AAAA/AAAAPwAAAD8AAAA/AAAAPwAAAD8AAAA/AAAAPwAAAD8AAAA/AAAAPwAAAD8AAAA/AAAAPwAAAD8AAAA/AAAAPwAAAD8AAAA/AAAAPwAAAD8AAAA/AAAAPwAAAD8AAAA/AAAAPwAAAD8AAAA/AAAAPwAAAD8AAAA/AAAAPwAAAD8AAAA/AAAAPwAAAD8AAAA/AAAAPwAAAD8AAAA/AAAAPwAAAD8AAAA/AAAAPwAAAD8AAAA/AAAAPwAAAD8AAAA/AAAAPwAAAD8AAAA/AAAAPwAAAD8AAAA/AAAAPwAAAD8AAAA/AAAAPwAAAD8AAAA/AAAAPwAAAD8AAAA/AAAAPwAAAD8AAAA/AAAAPwAAAD8AAAA/AAAAPwAAAD8AAAA/AAAAPwAAAD8AAAA/AAAAPwAAAD8AAAA/AAAAPwAAAD8AAAA/AAAAPwAAAD8AAAA/AAAAPwAAAD8AAAA/AAAAPwAAAD8AAAA/AAAAPwAAAD8AAAA/AAAAPwAAAD8AAAA/AAAAPwAAAD8AAAA/AAAAPwAAAD8AAAA/AAAAPwAAAD8AAAA/AAAAPwAAAD8AAAA/AAAAPwAAAD8AAAA/AAAAPwAAAD8AAAA/AAAAPwAAAD8AAAA/AAAAPwAAAD8AAAA/AAAAPwAAAD8AAAA/AAAAPwAAAD8AAAA/AAAAPwAAAD8AAAA/AAAAPwAAAD8AAAA/AAAAPwAAAD8AAAA/AAAAPwAAAD8AAAA/AAAAPwAAAD8AAAA/AAAAPwAAAD8AAAA/AAAAPwAAAD8AAAA/AAAAPwAAAD8AAAA/AAAAPwAAAD8AAAA/AAAAPwAAAD8AAAA/AAAAPwAAAD8AAAA/AAAAPwAAAD8AAAA/AAAAPwAAAD8AAAA/AAAAPwAAAD8AAAA/AAAAPwAAAD8AAAA/AAAAPwAAAD8AAAA/AAAAPwAAAD8AAAA/AAAAPwAAAD8AAAA/AAAAPwAAAD8AAAA/AAAAPwAAAD8AAAA/AAAAPwAAAD8AAAA/AAAAPwAAAD8AAAA/AAAAPwAAAD8AAAA/AAAAPwAAAD8AAAA/AAAAPwAAAD8AAAA/AAAAPwAAAD8AAAA/AAAAPwAAAD8AAAA/AAAAPwAAAD8AAAA/AAAAPwAAAD8AAAA/AAAAPwAAAD8AAAA/AAAAPwAAAD8AAAA/AAAAPwAAAD8AAAA/AAAAPwAAAD8AAAA/AAAAPwAAAD8AAAA/AAAAPwAAAD8AAAA/AAAAPwAAAD8AAAA/AAAAPwAAAD8AAAA/AAAAPwAAAD8AAAA/AAAAPwAAAD8AAAA/AAAAPwAAAD8AAAA/AAAAPwAAAD8AAAA/AAAAPwAAAD8AAAA/AAAAPwAAAD8AAAA/AAAAPwAAAD8AAAA/AAAAPwAAAD8AAAA/AAAAPwAAAD8AAAA/AAAAPwAAAD8AAAA/AAAAPwAAAD8AAAA/AAAAPwAAAD8AAAA/AAAAPwAAAD8AAAA/AAAAPwAAAD8AAAA/AAAAPwAAAD8AAAA/AAAAPwAAAD8AAAA/AAAAPwAAAD8AAAA/AAAAPwAAAD8AAAA/AAAAPwAAAD8AAAA/AAAAPwAAAD8AAAA/AAAAPwAAAD8AAAA/AAAAPwAAAD8AAAA/AAAAPwAAAD8AAAA/AAAAPwAAAD8AAAA/AAAAPwAAAD8AAAA/AAAAPwAAAD8AAAA/AAAAPwAAAD8AAAA/AAAAPwAAAD8AAAA/AAAAPwAAAD8AAAA/AAAAPwAAAD8AAAA/AAAAPwAAAD8AAAA/AAAAPwAAAD8AAAA/AAAAPwAAAD8AAAA/AAAAPwAAAD8AAAA/AAAAPwAAAD8AAAA/AAAAPwAAAD8AAAA/AAAAPwAAAD8AAAA/AAAAPwAAAD8AAAA/AAAAPwAAAD8AAAA/AAAAPwAAAD8AAAA/AAAAPwAAAD8AAAA/AAAAPwAAAD8AAAA/AAAAPwAAAD8AAAA/AAAAPwAAAD8AAAA/AAAAPwAAAD8AAAA/AAAAPwAAAD8AAAA/AAAAPwAAAD8AAAA/AAAAPwAAAD8AAAA/AAAAPwAAAD8AAAA/AAAAPwAAAD8AAAA/AAAAPwAAAD8AAAA/AAAAPwAAAD8AAAA/AAAAPwAAAD8AAAA/AAAAPwAAAD8AAAA/AAAAPwAAAD8AAAA/AAAAPwAAAD8AAAA/AAAAPwAAAD8AAAA/AAAAPwAAAD8AAAA/AAAAPwAAAD8AAAA/AAAAPwAAAD8AAAA/AAAAPwAAAD8AAAA/AAAAPwAAAD8AAAA/AAAAPwAAAD8AAAA/AAAAPwAAAD8AAAA/AAAAPwAAAD8AAAA/AAAAPwAAAD8AAAA/AAAAPwAAAD8AAAA/AAAAPwAAAD8AAAA/AAAAPwAAAD8AAAA/AAAAPwAAAD8AAAA/AAAAPwAAAD8AAAA/AAAAPwAAAD8AAAA/AAAAPwAAAD8AAAA/AAAAPwAAAD8AAAA/AAAAPwAAAD8AAAA/AAAAPwAAAD8AAAA/AAAAPwAAAD8AAAA/AAAAPwAAAD8AAAA/AAAAPwAAAD8AAAA/AAAAPwAAAD8AAAA/AAAAPwAAAD8AAAA/AAAAPwAAAD8AAAA/AAAAPwAAAD8AAAA/AAAAPwAAAD8AAAA/AAAAPwAAAD8AAAA/AAAAPwAAAD8AAAA/AAAAPwAAAD8AAAA/AAAAPwAAAD8AAAA/AAAAPwAAAD8AAAA/AAAAPwAAAD8AAAA/AAAAPwAAAD8AAAA/",
        "encoding": "base64",
        "path": [
         "array",
         "buffer"
        ]
       }
      ],
      "model_module": "jupyter-threejs",
      "model_module_version": "^2.1.0",
      "model_name": "BufferAttributeModel",
      "state": {
       "_view_module": null,
       "_view_module_version": "",
       "array": {
        "dtype": "float32",
        "shape": [
         486,
         3
        ]
       },
       "normalized": true,
       "version": 2
      }
     },
     "5ec86d456cff48c4abce544952206e3a": {
      "model_module": "jupyter-threejs",
      "model_module_version": "^2.1.0",
      "model_name": "BufferGeometryModel",
      "state": {
       "_view_module": null,
       "_view_module_version": "",
       "attributes": {
        "color": "IPY_MODEL_e7ca4da61ef640f8a6135d08c7a6a2e9",
        "position": "IPY_MODEL_1c4661c12f4b42dd8d993545fa6fa64d"
       },
       "index": "IPY_MODEL_d8d5f1b4c2c14ba9aa6a5c8d79cadee1"
      }
     },
     "5eedd679b91748e6980f173dddbe5e29": {
      "model_module": "jupyter-threejs",
      "model_module_version": "^2.1.0",
      "model_name": "TextTextureModel",
      "state": {
       "_view_module": null,
       "_view_module_version": "",
       "size": 100,
       "squareTexture": false,
       "string": "2",
       "version": 2
      }
     },
     "5f71d3d14d884589a308c5cc5af8d164": {
      "model_module": "jupyter-threejs",
      "model_module_version": "^2.1.0",
      "model_name": "RendererModel",
      "state": {
       "_height": 600,
       "_webgl_version": 2,
       "_width": 600,
       "camera": "IPY_MODEL_8bc69af689534b2bac99bec2545948a7",
       "controls": [
        "IPY_MODEL_028040e4dc364ce886f6e408babe692a"
       ],
       "layout": "IPY_MODEL_6b9c0c253769406882008111bb5b9925",
       "scene": "IPY_MODEL_8ab55041df6a40f9a95ce7cf6ded5bed",
       "shadowMap": "IPY_MODEL_375d4ba4d40c42d9a401167315020df0"
      }
     },
     "60f5c6a67ede4cd9a94e2aac7edbc24b": {
      "model_module": "jupyter-threejs",
      "model_module_version": "^2.1.0",
      "model_name": "SpriteModel",
      "state": {
       "_view_module": null,
       "_view_module_version": "",
       "material": "IPY_MODEL_c30d5e1be8724d32b490d0fdffa4d184",
       "matrix": [
        0.05,
        0,
        0,
        0,
        0,
        0.07500000000000001,
        0,
        0,
        0,
        0,
        0.05,
        0,
        1,
        0,
        0,
        1
       ],
       "position": [
        1,
        0,
        0
       ],
       "scale": [
        0.05,
        0.07500000000000001,
        0.05
       ]
      }
     },
     "63c916189612467a9316cf9cafa69dab": {
      "model_module": "jupyter-threejs",
      "model_module_version": "^2.1.0",
      "model_name": "MeshPhongMaterialModel",
      "state": {
       "_view_module": null,
       "_view_module_version": "",
       "color": "#ff3333",
       "morphTargets": true,
       "shininess": 150,
       "side": "BackSide"
      }
     },
     "67378105c7b448b6906859bdc51cbd68": {
      "model_module": "@jupyter-widgets/base",
      "model_module_version": "1.2.0",
      "model_name": "LayoutModel",
      "state": {}
     },
     "680d229117c6410887a6a5b911978dfd": {
      "buffers": [
       {
        "data": "AAAAAAEAAAA=",
        "encoding": "base64",
        "path": [
         "values",
         "buffer"
        ]
       },
       {
        "data": "AAAAAAMAAAA=",
        "encoding": "base64",
        "path": [
         "times",
         "buffer"
        ]
       }
      ],
      "model_module": "jupyter-threejs",
      "model_module_version": "^2.1.0",
      "model_name": "NumberKeyframeTrackModel",
      "state": {
       "_view_module": null,
       "_view_module_version": "",
       "name": "scene/B.morphTargetInfluences[0]",
       "times": {
        "dtype": "int32",
        "shape": [
         2
        ]
       },
       "values": {
        "dtype": "int32",
        "shape": [
         2
        ]
       }
      }
     },
     "68298251c73449aa84dd814f02446be1": {
      "model_module": "jupyter-threejs",
      "model_module_version": "^2.1.0",
      "model_name": "WebGLShadowMapModel",
      "state": {
       "_view_module": null,
       "_view_module_version": ""
      }
     },
     "6a1d26ce9c1841ff9fceb2a856078070": {
      "model_module": "jupyter-threejs",
      "model_module_version": "^2.1.0",
      "model_name": "SpriteMaterialModel",
      "state": {
       "_view_module": null,
       "_view_module_version": "",
       "map": "IPY_MODEL_82fa3beb9f364085b9b0919d289a5676"
      }
     },
     "6a395b2d31a24b288b86ead4fb8f3b0a": {
      "model_module": "jupyter-threejs",
      "model_module_version": "^2.1.0",
      "model_name": "AmbientLightModel",
      "state": {
       "_view_module": null,
       "_view_module_version": "",
       "intensity": 0.5
      }
     },
     "6b9c0c253769406882008111bb5b9925": {
      "model_module": "@jupyter-widgets/base",
      "model_module_version": "1.2.0",
      "model_name": "LayoutModel",
      "state": {}
     },
     "6ca3f9e224a44873a3b9cf3f99b8048d": {
      "model_module": "jupyter-threejs",
      "model_module_version": "^2.1.0",
      "model_name": "AmbientLightModel",
      "state": {
       "_view_module": null,
       "_view_module_version": "",
       "intensity": 0.5
      }
     },
     "6cbdd547f431427696e8a9eaf4ded2d0": {
      "model_module": "jupyter-threejs",
      "model_module_version": "^2.1.0",
      "model_name": "SpriteModel",
      "state": {
       "_view_module": null,
       "_view_module_version": "",
       "material": "IPY_MODEL_25b862f24b254ec88e3573f8a3afa740",
       "matrix": [
        0.05,
        0,
        0,
        0,
        0,
        0.07500000000000001,
        0,
        0,
        0,
        0,
        0.05,
        0,
        1,
        0,
        1,
        1
       ],
       "position": [
        1,
        0,
        1
       ],
       "scale": [
        0.05,
        0.07500000000000001,
        0.05
       ]
      }
     },
     "6dfcf133-4b62-449a-92c1-48d892e037d9": {
      "model_module": "jupyter-threejs",
      "model_module_version": "^2.1.0",
      "model_name": "OrthographicCameraModel",
      "state": {
       "_view_module": null,
       "_view_module_version": "",
       "bottom": -5,
       "far": 500,
       "left": -5,
       "near": 0.5,
       "projectionMatrix": [
        0.2,
        0,
        0,
        0,
        0,
        0.2,
        0,
        0,
        0,
        0,
        -0.004004004004004004,
        0,
        0,
        0,
        -1.002002002002002,
        1
       ],
       "right": 5,
       "top": 5
      }
     },
     "6ee38b58ca3b4ee883afe221a5c7fe79": {
      "model_module": "jupyter-threejs",
      "model_module_version": "^2.1.0",
      "model_name": "SceneModel",
      "state": {
       "_view_module": null,
       "_view_module_version": "",
       "children": [
        "IPY_MODEL_2dc602cb71b84d40a71536ebef46059b",
        "IPY_MODEL_a67e612929634c2986d89d7f25fbf87e",
        "IPY_MODEL_78b7a7ad31fe4490894c7b04ffbf3031",
        "IPY_MODEL_fe84c1f84888448c88c2694f76408fb5",
        "IPY_MODEL_7acaa599a895443d99e7de1e36e34c29",
        "IPY_MODEL_a1bd858299e145808f0097c2551d0c04",
        "IPY_MODEL_fd5f7d81f7884f1fad77d3d34e088f29",
        "IPY_MODEL_29ade10cb0714a8290f36f2f6c524aba",
        "IPY_MODEL_ad1c87514b8a448f97ceb0c3517f47c8",
        "IPY_MODEL_ef1761002f2446029ebcaad5bb8395e3",
        "IPY_MODEL_394f0ecfaa13479f9e4a22e1bb5e5048",
        "IPY_MODEL_895d9854681243cc8ae9dbd57b02940c",
        "IPY_MODEL_781af2e46a2a4c6ba5c867eba3e29493",
        "IPY_MODEL_18ea5cc69cec4ae59bf3d07ec7dbebe0",
        "IPY_MODEL_2e9c63a72e2749d8967cb8bde67259ee",
        "IPY_MODEL_f8d3987ffc9e4d779fc454e8ced6fed4"
       ]
      }
     },
     "6f1c51b5-014d-4a9b-b92f-ac9c8baca822": {
      "model_module": "jupyter-threejs",
      "model_module_version": "^2.1.0",
      "model_name": "Object3DModel",
      "state": {}
     },
     "6fcd8ae442b14adb872ff14e3f907e21": {
      "model_module": "jupyter-threejs",
      "model_module_version": "^2.1.0",
      "model_name": "TextTextureModel",
      "state": {
       "_view_module": null,
       "_view_module_version": "",
       "size": 100,
       "squareTexture": false,
       "string": "8",
       "version": 2
      }
     },
     "70c201f1a3f8427ebc66731a3543217f": {
      "model_module": "jupyter-threejs",
      "model_module_version": "^2.1.0",
      "model_name": "TextTextureModel",
      "state": {
       "_view_module": null,
       "_view_module_version": "",
       "size": 100,
       "squareTexture": false,
       "string": "6",
       "version": 2
      }
     },
     "70fd1b1f80244d7e9fddb65c8c58a334": {
      "model_module": "jupyter-threejs",
      "model_module_version": "^2.1.0",
      "model_name": "TextTextureModel",
      "state": {
       "_view_module": null,
       "_view_module_version": "",
       "size": 100,
       "squareTexture": false,
       "string": "2",
       "version": 2
      }
     },
     "7120f2849ff04324a798621a84732e11": {
      "buffers": [
       {
        "data": "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",
        "encoding": "base64",
        "path": [
         "array",
         "buffer"
        ]
       }
      ],
      "model_module": "jupyter-threejs",
      "model_module_version": "^2.1.0",
      "model_name": "BufferAttributeModel",
      "state": {
       "_view_module": null,
       "_view_module_version": "",
       "array": {
        "dtype": "float32",
        "shape": [
         486,
         3
        ]
       },
       "version": 2
      }
     },
     "71c16aeafa0645fa8256119af37bf7b3": {
      "model_module": "jupyter-threejs",
      "model_module_version": "^2.1.0",
      "model_name": "AmbientLightModel",
      "state": {
       "_view_module": null,
       "_view_module_version": "",
       "intensity": 0.8
      }
     },
     "72ae3c26bb07434d8e5e5f88d6bbc94c": {
      "model_module": "jupyter-threejs",
      "model_module_version": "^2.1.0",
      "model_name": "TextTextureModel",
      "state": {
       "_view_module": null,
       "_view_module_version": "",
       "size": 100,
       "squareTexture": false,
       "string": "y",
       "version": 2
      }
     },
     "73c6d7a04d0043efbee8b9cee9beb70f": {
      "model_module": "jupyter-threejs",
      "model_module_version": "^2.1.0",
      "model_name": "TextTextureModel",
      "state": {
       "_view_module": null,
       "_view_module_version": "",
       "size": 100,
       "squareTexture": false,
       "string": "x",
       "version": 2
      }
     },
     "7554d09730044059b4170f04d8e9889d": {
      "model_module": "@jupyter-widgets/base",
      "model_module_version": "1.2.0",
      "model_name": "LayoutModel",
      "state": {}
     },
     "763b26dcebd94ccf89219633c310a80d": {
      "model_module": "jupyter-threejs",
      "model_module_version": "^2.1.0",
      "model_name": "SpriteModel",
      "state": {
       "_view_module": null,
       "_view_module_version": "",
       "material": "IPY_MODEL_38a9dc8f1b6d4e9fa14c92c8579117eb",
       "matrix": [
        0.05,
        0,
        0,
        0,
        0,
        0.07500000000000001,
        0,
        0,
        0,
        0,
        0.05,
        0,
        0,
        0,
        0,
        1
       ],
       "scale": [
        0.05,
        0.07500000000000001,
        0.05
       ]
      }
     },
     "76eb9a7242584914b2cee9f48301e6d7": {
      "model_module": "jupyter-threejs",
      "model_module_version": "^2.1.0",
      "model_name": "SpriteMaterialModel",
      "state": {
       "_view_module": null,
       "_view_module_version": "",
       "map": "IPY_MODEL_b3717429af0d420b942125c59b0f70bd"
      }
     },
     "77566ccfed2f4c62b2fb65e5c3f12108": {
      "model_module": "jupyter-threejs",
      "model_module_version": "^2.1.0",
      "model_name": "PerspectiveCameraModel",
      "state": {
       "_view_module": null,
       "_view_module_version": "",
       "matrix": [
        -0.7071067811865475,
        0.7071067811865475,
        5.551115123125783E-17,
        0,
        -0.40824829046386296,
        -0.4082482904638629,
        0.8164965809277259,
        0,
        0.5773502691896257,
        0.5773502691896256,
        0.577350269189626,
        0,
        3,
        3,
        3,
        1
       ],
       "matrixWorld": [
        -0.7071067811865475,
        0.7071067811865475,
        5.551115123125783E-17,
        0,
        -0.40824829046386296,
        -0.4082482904638629,
        0.8164965809277259,
        0,
        0.5773502691896257,
        0.5773502691896256,
        0.577350269189626,
        0,
        3,
        3,
        3,
        1
       ],
       "position": [
        3,
        3,
        3
       ],
       "projectionMatrix": [
        2.1445069205095586,
        0,
        0,
        0,
        0,
        2.1445069205095586,
        0,
        0,
        0,
        0,
        -1.00010000500025,
        -1,
        0,
        0,
        -0.200010000500025,
        0
       ],
       "quaternion": [
        0.17591989660616114,
        0.4247082002778668,
        0.8204732385702833,
        0.3398511429799873
       ],
       "rotation": [
        -0.7853981633974481,
        0.6154797086703874,
        2.6179938779914944,
        "XYZ"
       ],
       "up": [
        0,
        0,
        1
       ]
      }
     },
     "77a33dff4bbb437b87f99cdd9ac0489e": {
      "model_module": "jupyter-threejs",
      "model_module_version": "^2.1.0",
      "model_name": "TextTextureModel",
      "state": {
       "_view_module": null,
       "_view_module_version": "",
       "size": 100,
       "squareTexture": false,
       "string": "4",
       "version": 2
      }
     },
     "77b9c1cf8815472f8d0c5a2208451d1e": {
      "model_module": "jupyter-threejs",
      "model_module_version": "^2.1.0",
      "model_name": "MeshPhongMaterialModel",
      "state": {
       "_view_module": null,
       "_view_module_version": "",
       "color": "#ff3333",
       "morphTargets": true,
       "shininess": 150
      }
     },
     "781af2e46a2a4c6ba5c867eba3e29493": {
      "model_module": "jupyter-threejs",
      "model_module_version": "^2.1.0",
      "model_name": "SpriteModel",
      "state": {
       "_view_module": null,
       "_view_module_version": "",
       "material": "IPY_MODEL_a20fb2560a954875a1c4c1e6c7522771",
       "matrix": [
        0.05,
        0,
        0,
        0,
        0,
        0.07500000000000001,
        0,
        0,
        0,
        0,
        0.05,
        0,
        1,
        1,
        1,
        1
       ],
       "position": [
        1,
        1,
        1
       ],
       "scale": [
        0.05,
        0.07500000000000001,
        0.05
       ]
      }
     },
     "783cae4500d4456bbe0f84e94f43a449": {
      "model_module": "jupyter-threejs",
      "model_module_version": "^2.1.0",
      "model_name": "WebGLShadowMapModel",
      "state": {
       "_view_module": null,
       "_view_module_version": ""
      }
     },
     "78b7a7ad31fe4490894c7b04ffbf3031": {
      "model_module": "jupyter-threejs",
      "model_module_version": "^2.1.0",
      "model_name": "MeshModel",
      "state": {
       "_view_module": null,
       "_view_module_version": "",
       "geometry": "IPY_MODEL_5ec86d456cff48c4abce544952206e3a",
       "material": "IPY_MODEL_d351ac5065ed45acaa11a17eeca23a85",
       "morphTargetInfluences": []
      }
     },
     "7acaa599a895443d99e7de1e36e34c29": {
      "model_module": "jupyter-threejs",
      "model_module_version": "^2.1.0",
      "model_name": "AmbientLightModel",
      "state": {
       "_view_module": null,
       "_view_module_version": "",
       "intensity": 0.8
      }
     },
     "7c9eb7a80d43439c95dba619d17c0850": {
      "model_module": "@jupyter-widgets/base",
      "model_module_version": "1.2.0",
      "model_name": "LayoutModel",
      "state": {}
     },
     "7f16a87e20e14221b19b2597976857f8": {
      "buffers": [
       {
        "data": "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",
        "encoding": "base64",
        "path": [
         "array",
         "buffer"
        ]
       }
      ],
      "model_module": "jupyter-threejs",
      "model_module_version": "^2.1.0",
      "model_name": "BufferAttributeModel",
      "state": {
       "_view_module": null,
       "_view_module_version": "",
       "array": {
        "dtype": "float32",
        "shape": [
         486,
         3
        ]
       },
       "normalized": true,
       "version": 2
      }
     },
     "81aacf5ddbf84b15b523560a4e5414f7": {
      "model_module": "jupyter-threejs",
      "model_module_version": "^2.1.0",
      "model_name": "SpriteMaterialModel",
      "state": {
       "_view_module": null,
       "_view_module_version": "",
       "map": "IPY_MODEL_bd77039d70674c0986402f11b4a36114"
      }
     },
     "82fa3beb9f364085b9b0919d289a5676": {
      "model_module": "jupyter-threejs",
      "model_module_version": "^2.1.0",
      "model_name": "TextTextureModel",
      "state": {
       "_view_module": null,
       "_view_module_version": "",
       "size": 100,
       "squareTexture": false,
       "string": "1",
       "version": 2
      }
     },
     "84a70b55d00040039672096e624fb9fe": {
      "model_module": "jupyter-threejs",
      "model_module_version": "^2.1.0",
      "model_name": "SpriteModel",
      "state": {
       "_view_module": null,
       "_view_module_version": "",
       "material": "IPY_MODEL_c184c881976c49c7b09d4f1bb2b0d1aa",
       "matrix": [
        0.05,
        0,
        0,
        0,
        0,
        0.07500000000000001,
        0,
        0,
        0,
        0,
        0.05,
        0,
        0,
        1,
        0,
        1
       ],
       "position": [
        0,
        1,
        0
       ],
       "scale": [
        0.05,
        0.07500000000000001,
        0.05
       ]
      }
     },
     "85745692-c082-4f30-acac-c6297314b4a9": {
      "model_module": "jupyter-threejs",
      "model_module_version": "^2.1.0",
      "model_name": "OrthographicCameraModel",
      "state": {
       "bottom": -5,
       "far": 500,
       "left": -5,
       "near": 0.5,
       "projectionMatrix": [
        0.2,
        0,
        0,
        0,
        0,
        0.2,
        0,
        0,
        0,
        0,
        -0.004004004004004004,
        0,
        0,
        0,
        -1.002002002002002,
        1
       ],
       "right": 5,
       "top": 5
      }
     },
     "85e1763dc5004b4c8d439d9ed76cb1be": {
      "model_module": "jupyter-threejs",
      "model_module_version": "^2.1.0",
      "model_name": "MeshPhongMaterialModel",
      "state": {
       "_view_module": null,
       "_view_module_version": "",
       "color": "#ff3333",
       "morphTargets": true,
       "shininess": 150,
       "side": "BackSide"
      }
     },
     "864c5ddc948e45ec874a00402a73d70b": {
      "model_module": "jupyter-threejs",
      "model_module_version": "^2.1.0",
      "model_name": "SpriteMaterialModel",
      "state": {
       "_view_module": null,
       "_view_module_version": "",
       "map": "IPY_MODEL_72ae3c26bb07434d8e5e5f88d6bbc94c"
      }
     },
     "8693bcacb70f4bb48ae5846be7c9f77e": {
      "buffers": [
       {
        "data": "AAAAAAAAAAAAAAAAAACAPwAAAAAAAAAAAAAAAAAAgD8AAAAAAACAPwAAgD8AAAAAAAAAAAAAAAAAAIA/AACAPwAAAAAAAIA/AAAAAAAAgD8AAIA/AACAPwAAgD8AAIA/AAAAAAAAAAAAAAAAAACAPwAAAAAAAAAAAAAAAAAAAAAAAIA/AACAPwAAAAAAAIA/AAAAAAAAgD8AAAAAAACAPwAAgD8AAAAAAAAAAAAAgD8AAIA/AACAPwAAgD8AAIA/AAAAAAAAAAAAAAAAAAAAAAAAgD8AAAAAAAAAAAAAAAAAAIA/AAAAAAAAgD8AAIA/AACAPwAAAAAAAAAAAACAPwAAgD8AAAAAAACAPwAAAAAAAIA/AACAPwAAgD8AAIA/",
        "encoding": "base64",
        "path": [
         "array",
         "buffer"
        ]
       }
      ],
      "model_module": "jupyter-threejs",
      "model_module_version": "^2.1.0",
      "model_name": "BufferAttributeModel",
      "state": {
       "_view_module": null,
       "_view_module_version": "",
       "array": {
        "dtype": "float32",
        "shape": [
         24,
         3
        ]
       },
       "version": 2
      }
     },
     "87c855eb5fd448308835b4eacf4b3795": {
      "model_module": "jupyter-threejs",
      "model_module_version": "^2.1.0",
      "model_name": "SpriteMaterialModel",
      "state": {
       "_view_module": null,
       "_view_module_version": "",
       "map": "IPY_MODEL_a6279cba5b7b4b69aa5ea42522f777af"
      }
     },
     "87fbe51c5c864db198e092e4a2b6f14b": {
      "model_module": "jupyter-threejs",
      "model_module_version": "^2.1.0",
      "model_name": "SpriteModel",
      "state": {
       "_view_module": null,
       "_view_module_version": "",
       "material": "IPY_MODEL_ca84292c3c0541f0a04e4752a931defa",
       "matrix": [
        0.05,
        0,
        0,
        0,
        0,
        0.07500000000000001,
        0,
        0,
        0,
        0,
        0.05,
        0,
        0,
        0,
        2,
        1
       ],
       "position": [
        0,
        0,
        2
       ],
       "scale": [
        0.05,
        0.07500000000000001,
        0.05
       ]
      }
     },
     "88425863e6cb4f0c90fc5660ac78853d": {
      "buffers": [
       {
        "data": "AAABAAIAAQADAAIABAAFAAYABQAHAAYACAAJAAoACQALAAoADAANAA4ADQAPAA4AEAARABIAEQATABIAFAAVABYAFQAXABYA",
        "encoding": "base64",
        "path": [
         "array",
         "buffer"
        ]
       }
      ],
      "model_module": "jupyter-threejs",
      "model_module_version": "^2.1.0",
      "model_name": "BufferAttributeModel",
      "state": {
       "_view_module": null,
       "_view_module_version": "",
       "array": {
        "dtype": "uint16",
        "shape": [
         36
        ]
       },
       "version": 2
      }
     },
     "895d9854681243cc8ae9dbd57b02940c": {
      "model_module": "jupyter-threejs",
      "model_module_version": "^2.1.0",
      "model_name": "SpriteModel",
      "state": {
       "_view_module": null,
       "_view_module_version": "",
       "material": "IPY_MODEL_c05b6c0a7bf8462da5284a95fad8f51f",
       "matrix": [
        0.05,
        0,
        0,
        0,
        0,
        0.07500000000000001,
        0,
        0,
        0,
        0,
        0.05,
        0,
        0,
        1,
        1,
        1
       ],
       "position": [
        0,
        1,
        1
       ],
       "scale": [
        0.05,
        0.07500000000000001,
        0.05
       ]
      }
     },
     "8a0c0884ce4041be96c4badc1dbeba26": {
      "model_module": "jupyter-threejs",
      "model_module_version": "^2.1.0",
      "model_name": "SpriteMaterialModel",
      "state": {
       "_view_module": null,
       "_view_module_version": "",
       "map": "IPY_MODEL_5eedd679b91748e6980f173dddbe5e29"
      }
     },
     "8ab55041df6a40f9a95ce7cf6ded5bed": {
      "model_module": "jupyter-threejs",
      "model_module_version": "^2.1.0",
      "model_name": "SceneModel",
      "state": {
       "_view_module": null,
       "_view_module_version": "",
       "children": [
        "IPY_MODEL_b80d5868626b4922b015bd4b8d7400bf",
        "IPY_MODEL_0e0d772d75754653ac1364b2fb35ecd7",
        "IPY_MODEL_8bc69af689534b2bac99bec2545948a7",
        "IPY_MODEL_9dac3cf7a5b1475389edb723007404e9",
        "IPY_MODEL_2a99f8f75698466dba102d57dd6b33b8",
        "IPY_MODEL_037df055650243e7a3da80e2ce81cb4f"
       ]
      }
     },
     "8bc69af689534b2bac99bec2545948a7": {
      "model_module": "jupyter-threejs",
      "model_module_version": "^2.1.0",
      "model_name": "PerspectiveCameraModel",
      "state": {
       "_view_module": null,
       "_view_module_version": "",
       "matrix": [
        -0.7071067811865475,
        0.7071067811865475,
        5.551115123125783E-17,
        0,
        -0.40824829046386296,
        -0.4082482904638629,
        0.8164965809277259,
        0,
        0.5773502691896257,
        0.5773502691896256,
        0.577350269189626,
        0,
        3,
        3,
        3,
        1
       ],
       "matrixWorld": [
        -0.7071067811865475,
        0.7071067811865475,
        5.551115123125783E-17,
        0,
        -0.40824829046386296,
        -0.4082482904638629,
        0.8164965809277259,
        0,
        0.5773502691896257,
        0.5773502691896256,
        0.577350269189626,
        0,
        3,
        3,
        3,
        1
       ],
       "matrixWorldInverse": [
        -0.7071067811865475,
        -0.4082482904638632,
        0.5773502691896257,
        0,
        0.7071067811865476,
        -0.4082482904638633,
        0.5773502691896257,
        0,
        0,
        0.816496580927726,
        0.5773502691896256,
        0,
        -3.3306690738754706E-16,
        1.3322676295501882E-15,
        -5.196152422706632,
        0.9999999999999999
       ],
       "position": [
        3,
        3,
        3
       ],
       "projectionMatrix": [
        2.1445069205095586,
        0,
        0,
        0,
        0,
        2.1445069205095586,
        0,
        0,
        0,
        0,
        -1.00010000500025,
        -1,
        0,
        0,
        -0.200010000500025,
        0
       ],
       "quaternion": [
        0.17591989660616114,
        0.4247082002778668,
        0.8204732385702833,
        0.3398511429799873
       ],
       "rotation": [
        -0.7853981633974481,
        0.6154797086703874,
        2.6179938779914944,
        "XYZ"
       ],
       "up": [
        0,
        0,
        1
       ]
      }
     },
     "8d7845fb53644776a58c1366bf65d11c": {
      "model_module": "jupyter-threejs",
      "model_module_version": "^2.1.0",
      "model_name": "TextTextureModel",
      "state": {
       "_view_module": null,
       "_view_module_version": "",
       "size": 100,
       "squareTexture": false,
       "string": "z",
       "version": 2
      }
     },
     "90f1c8cc5f6b4fe0bab51f90c7b53456": {
      "model_module": "jupyter-threejs",
      "model_module_version": "^2.1.0",
      "model_name": "SpriteMaterialModel",
      "state": {
       "_view_module": null,
       "_view_module_version": "",
       "map": "IPY_MODEL_0b356a5616ff4b9fb19c2865d1875fc3"
      }
     },
     "918cbd9581434bcdbcbb4af38eb20de3": {
      "model_module": "jupyter-threejs",
      "model_module_version": "^2.1.0",
      "model_name": "BufferGeometryModel",
      "state": {
       "_view_module": null,
       "_view_module_version": "",
       "attributes": {
        "color": "IPY_MODEL_50ffcea5576449d9af92e6cef67f82fa",
        "position": "IPY_MODEL_c340ad8649da45b9b7d339b211f33eb7"
       },
       "index": "IPY_MODEL_5a33c4a9c0a6441b9a20414b610f021a"
      }
     },
     "9193abc6a66f46749c7c05f12e68e71a": {
      "model_module": "jupyter-threejs",
      "model_module_version": "^2.1.0",
      "model_name": "OrbitControlsModel",
      "state": {
       "_view_module": null,
       "_view_module_version": "",
       "controlling": "IPY_MODEL_55b5e0d8a0784c22b50d637afa1f8d64",
       "maxAzimuthAngle": "inf",
       "maxDistance": "inf",
       "maxZoom": "inf",
       "minAzimuthAngle": "-inf"
      }
     },
     "9202107a-db71-42b3-999b-77f1e5322adb": {
      "model_module": "jupyter-threejs",
      "model_module_version": "^2.1.0",
      "model_name": "DirectionalLightShadowModel",
      "state": {
       "camera": "IPY_MODEL_a9ae9102-b971-45b6-a39d-37dadf694da6"
      }
     },
     "9292f2fbc32949bfb5225d145486594d": {
      "model_module": "jupyter-threejs",
      "model_module_version": "^2.1.0",
      "model_name": "OrbitControlsModel",
      "state": {
       "_view_module": null,
       "_view_module_version": "",
       "controlling": "IPY_MODEL_dbc2de201cdf4e3d89d3f399fba8b6d7",
       "maxAzimuthAngle": "inf",
       "maxDistance": "inf",
       "maxZoom": "inf",
       "minAzimuthAngle": "-inf",
       "target": [
        0.5,
        0.5,
        0.5
       ]
      }
     },
     "92b4a9a0fd2f45ed846deddaf6c6ee87": {
      "model_module": "jupyter-threejs",
      "model_module_version": "^2.1.0",
      "model_name": "SpriteMaterialModel",
      "state": {
       "_view_module": null,
       "_view_module_version": "",
       "map": "IPY_MODEL_8d7845fb53644776a58c1366bf65d11c"
      }
     },
     "930cb65510f34b84ad50700b2538c527": {
      "model_module": "jupyter-threejs",
      "model_module_version": "^2.1.0",
      "model_name": "RendererModel",
      "state": {
       "_height": 600,
       "_webgl_version": 2,
       "_width": 600,
       "camera": "IPY_MODEL_02856647d7944bcda63049f97b31f5f0",
       "controls": [
        "IPY_MODEL_46388f650ef54132ab976146ad704a8b"
       ],
       "layout": "IPY_MODEL_cbb1b9ed067044dcae09364393442d3b",
       "scene": "IPY_MODEL_6ee38b58ca3b4ee883afe221a5c7fe79",
       "shadowMap": "IPY_MODEL_b7364bb09a1e411fafbdb9b8d23685fd"
      }
     },
     "93c196ecfe2942c883ebe48219df6cbd": {
      "model_module": "jupyter-threejs",
      "model_module_version": "^2.1.0",
      "model_name": "BufferGeometryModel",
      "state": {
       "_view_module": null,
       "_view_module_version": "",
       "attributes": {
        "color": "IPY_MODEL_53548f85a2234488801e74b243e8bf2c",
        "position": "IPY_MODEL_98bdba0eacf2494fa3285efdebb88106"
       },
       "index": "IPY_MODEL_de432bb393d0420d979275ce23279578",
       "morphAttributes": {
        "position": [
         "IPY_MODEL_e51baeadb45b4294ab7aaa5ef0754188"
        ]
       }
      }
     },
     "9714710c4c384e3cb9ca5099278a27ae": {
      "model_module": "jupyter-threejs",
      "model_module_version": "^2.1.0",
      "model_name": "SpriteMaterialModel",
      "state": {
       "_view_module": null,
       "_view_module_version": "",
       "map": "IPY_MODEL_2466645ce40b4b0e922be26992027213"
      }
     },
     "971f1525f09947469b318d28a00e5ea6": {
      "model_module": "@jupyter-widgets/base",
      "model_module_version": "1.2.0",
      "model_name": "LayoutModel",
      "state": {}
     },
     "97667fb015e5404582dc1663fd0cd17c": {
      "model_module": "jupyter-threejs",
      "model_module_version": "^2.1.0",
      "model_name": "SpriteMaterialModel",
      "state": {
       "_view_module": null,
       "_view_module_version": "",
       "map": "IPY_MODEL_a0a09c6a019a49f18fadecfdff812364"
      }
     },
     "97b4458c9dee424eb435c43db7501302": {
      "model_module": "jupyter-threejs",
      "model_module_version": "^2.1.0",
      "model_name": "MeshModel",
      "state": {
       "_view_module": null,
       "_view_module_version": "",
       "geometry": "IPY_MODEL_918cbd9581434bcdbcbb4af38eb20de3",
       "material": "IPY_MODEL_af55d59df2e84d19bfa9c4705d229705",
       "morphTargetInfluences": []
      }
     },
     "97dc1005f06147fbb7007660a9f9187f": {
      "model_module": "jupyter-threejs",
      "model_module_version": "^2.1.0",
      "model_name": "SceneModel",
      "state": {
       "_view_module": null,
       "_view_module_version": "",
       "children": [
        "IPY_MODEL_a9f27030d2bb4c56af51c09a6bdb85e4",
        "IPY_MODEL_1b64ad3075984646833cbf8f6fe4bfb4",
        "IPY_MODEL_f8276ba56d3c41f883723e9330be91bd",
        "IPY_MODEL_af3a39e11ac444c7ac4bd8a8322b276c",
        "IPY_MODEL_71c16aeafa0645fa8256119af37bf7b3",
        "IPY_MODEL_0d196ca51f7047c19f1d6c368a69f268",
        "IPY_MODEL_60f5c6a67ede4cd9a94e2aac7edbc24b",
        "IPY_MODEL_84a70b55d00040039672096e624fb9fe",
        "IPY_MODEL_061938aca7494ee3af6d951e0599e107",
        "IPY_MODEL_2d3c9df978d143ed87c33432c0d2de7c",
        "IPY_MODEL_f02d307f18074d4aa75d966a9e1cc439",
        "IPY_MODEL_3975f4fe0f3c4acc85e0d3bb4d9be767",
        "IPY_MODEL_206dce37d77a4c07864658cb73939260",
        "IPY_MODEL_b3dd6e45dfd84b2d9f2a14eaa56aef77",
        "IPY_MODEL_d540a55663fb4b07941f41d5d68de0ee",
        "IPY_MODEL_87fbe51c5c864db198e092e4a2b6f14b"
       ]
      }
     },
     "98bdba0eacf2494fa3285efdebb88106": {
      "buffers": [
       {
        "data": "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",
        "encoding": "base64",
        "path": [
         "array",
         "buffer"
        ]
       }
      ],
      "model_module": "jupyter-threejs",
      "model_module_version": "^2.1.0",
      "model_name": "BufferAttributeModel",
      "state": {
       "_view_module": null,
       "_view_module_version": "",
       "array": {
        "dtype": "float32",
        "shape": [
         486,
         3
        ]
       },
       "version": 2
      }
     },
     "98deb552-7b17-404b-becd-33c9934d0324": {
      "model_module": "jupyter-threejs",
      "model_module_version": "^2.1.0",
      "model_name": "Object3DModel",
      "state": {}
     },
     "9d13431c954149f2a4a557e3eeb986bb": {
      "model_module": "jupyter-threejs",
      "model_module_version": "^2.1.0",
      "model_name": "WebGLShadowMapModel",
      "state": {
       "_view_module": null,
       "_view_module_version": ""
      }
     },
     "9dac3cf7a5b1475389edb723007404e9": {
      "model_module": "jupyter-threejs",
      "model_module_version": "^2.1.0",
      "model_name": "DirectionalLightModel",
      "state": {
       "_view_module": null,
       "_view_module_version": "",
       "intensity": 0.6,
       "matrixWorldNeedsUpdate": true,
       "position": [
        3,
        5,
        1
       ],
       "shadow": "IPY_MODEL_e6cbd34b-b9ac-436a-bcf8-c5f00d70c738",
       "target": "IPY_MODEL_c0672127-cf6f-4ad0-98b6-177112584763"
      }
     },
     "9de0c03f9dfc4db8989e3f1376bfabd0": {
      "buffers": [
       {
        "data": "AAAAAAAAAAAAAAAAAAAAPgAAAAAAAAAAAACAPgAAAAAAAAAAAADAPgAAAAAAAAAAAAAAPwAAAAAAAAAAAAAgPwAAAAAAAAAAAABAPwAAAAAAAAAAAABgPwAAAAAAAAAAAACAPwAAAAAAAAAAAAAAAAAAAD4AAAAAAAAAPgAAAD4AAAAAAACAPgAAAD4AAAAAAADAPgAAAD4AAAAAAAAAPwAAAD4AAAAAAAAgPwAAAD4AAAAAAABAPwAAAD4AAAAAAABgPwAAAD4AAAAAAACAPwAAAD4AAAAAAAAAAAAAgD4AAAAAAAAAPgAAgD4AAAAAAACAPgAAgD4AAAAAAADAPgAAgD4AAAAAAAAAPwAAgD4AAAAAAAAgPwAAgD4AAAAAAABAPwAAgD4AAAAAAABgPwAAgD4AAAAAAACAPwAAgD4AAAAAAAAAAAAAwD4AAAAAAAAAPgAAwD4AAAAAAACAPgAAwD4AAAAAAADAPgAAwD4AAAAAAAAAPwAAwD4AAAAAAAAgPwAAwD4AAAAAAABAPwAAwD4AAAAAAABgPwAAwD4AAAAAAACAPwAAwD4AAAAAAAAAAAAAAD8AAAAAAAAAPgAAAD8AAAAAAACAPgAAAD8AAAAAAADAPgAAAD8AAAAAAAAAPwAAAD8AAAAAAAAgPwAAAD8AAAAAAABAPwAAAD8AAAAAAABgPwAAAD8AAAAAAACAPwAAAD8AAAAAAAAAAAAAID8AAAAAAAAAPgAAID8AAAAAAACAPgAAID8AAAAAAADAPgAAID8AAAAAAAAAPwAAID8AAAAAAAAgPwAAID8AAAAAAABAPwAAID8AAAAAAABgPwAAID8AAAAAAACAPwAAID8AAAAAAAAAAAAAQD8AAAAAAAAAPgAAQD8AAAAAAACAPgAAQD8AAAAAAADAPgAAQD8AAAAAAAAAPwAAQD8AAAAAAAAgPwAAQD8AAAAAAABAPwAAQD8AAAAAAABgPwAAQD8AAAAAAACAPwAAQD8AAAAAAAAAAAAAYD8AAAAAAAAAPgAAYD8AAAAAAACAPgAAYD8AAAAAAADAPgAAYD8AAAAAAAAAPwAAYD8AAAAAAAAgPwAAYD8AAAAAAABAPwAAYD8AAAAAAABgPwAAYD8AAAAAAACAPwAAYD8AAAAAAAAAAAAAgD8AAAAAAAAAPgAAgD8AAAAAAACAPgAAgD8AAAAAAADAPgAAgD8AAAAAAAAAPwAAgD8AAAAAAAAgPwAAgD8AAAAAAABAPwAAgD8AAAAAAABgPwAAgD8AAAAAAACAPwAAgD8AAAAAAAAAAAAAAAAAAIA/AAAAPgAAAAAAAIA/AACAPgAAAAAAAIA/AADAPgAAAAAAAIA/AAAAPwAAAAAAAIA/AAAgPwAAAAAAAIA/AABAPwAAAAAAAIA/AABgPwAAAAAAAIA/AACAPwAAAAAAAIA/AAAAAAAAAD4AAIA/AAAAPgAAAD4AAIA/AACAPgAAAD4AAIA/AADAPgAAAD4AAIA/AAAAPwAAAD4AAIA/AAAgPwAAAD4AAIA/AABAPwAAAD4AAIA/AABgPwAAAD4AAIA/AACAPwAAAD4AAIA/AAAAAAAAgD4AAIA/AAAAPgAAgD4AAIA/AACAPgAAgD4AAIA/AADAPgAAgD4AAIA/AAAAPwAAgD4AAIA/AAAgPwAAgD4AAIA/AABAPwAAgD4AAIA/AABgPwAAgD4AAIA/AACAPwAAgD4AAIA/AAAAAAAAwD4AAIA/AAAAPgAAwD4AAIA/AACAPgAAwD4AAIA/AADAPgAAwD4AAIA/AAAAPwAAwD4AAIA/AAAgPwAAwD4AAIA/AABAPwAAwD4AAIA/AABgPwAAwD4AAIA/AACAPwAAwD4AAIA/AAAAAAAAAD8AAIA/AAAAPgAAAD8AAIA/AACAPgAAAD8AAIA/AADAPgAAAD8AAIA/AAAAPwAAAD8AAIA/AAAgPwAAAD8AAIA/AABAPwAAAD8AAIA/AABgPwAAAD8AAIA/AACAPwAAAD8AAIA/AAAAAAAAID8AAIA/AAAAPgAAID8AAIA/AACAPgAAID8AAIA/AADAPgAAID8AAIA/AAAAPwAAID8AAIA/AAAgPwAAID8AAIA/AABAPwAAID8AAIA/AABgPwAAID8AAIA/AACAPwAAID8AAIA/AAAAAAAAQD8AAIA/AAAAPgAAQD8AAIA/AACAPgAAQD8AAIA/AADAPgAAQD8AAIA/AAAAPwAAQD8AAIA/AAAgPwAAQD8AAIA/AABAPwAAQD8AAIA/AABgPwAAQD8AAIA/AACAPwAAQD8AAIA/AAAAAAAAYD8AAIA/AAAAPgAAYD8AAIA/AACAPgAAYD8AAIA/AADAPgAAYD8AAIA/AAAAPwAAYD8AAIA/AAAgPwAAYD8AAIA/AABAPwAAYD8AAIA/AABgPwAAYD8AAIA/AACAPwAAYD8AAIA/AAAAAAAAgD8AAIA/AAAAPgAAgD8AAIA/AACAPgAAgD8AAIA/AADAPgAAgD8AAIA/AAAAPwAAgD8AAIA/AAAgPwAAgD8AAIA/AABAPwAAgD8AAIA/AABgPwAAgD8AAIA/AACAPwAAgD8AAIA/AAAAAAAAAAAAAAAAAAAAPgAAAAAAAAAAAACAPgAAAAAAAAAAAADAPgAAAAAAAAAAAAAAPwAAAAAAAAAAAAAgPwAAAAAAAAAAAABAPwAAAAAAAAAAAABgPwAAAAAAAAAAAACAPwAAAAAAAAAAAAAAAAAAAAAAAAA+AAAAPgAAAAAAAAA+AACAPgAAAAAAAAA+AADAPgAAAAAAAAA+AAAAPwAAAAAAAAA+AAAgPwAAAAAAAAA+AABAPwAAAAAAAAA+AABgPwAAAAAAAAA+AACAPwAAAAAAAAA+AAAAAAAAAAAAAIA+AAAAPgAAAAAAAIA+AACAPgAAAAAAAIA+AADAPgAAAAAAAIA+AAAAPwAAAAAAAIA+AAAgPwAAAAAAAIA+AABAPwAAAAAAAIA+AABgPwAAAAAAAIA+AACAPwAAAAAAAIA+AAAAAAAAAAAAAMA+AAAAPgAAAAAAAMA+AACAPgAAAAAAAMA+AADAPgAAAAAAAMA+AAAAPwAAAAAAAMA+AAAgPwAAAAAAAMA+AABAPwAAAAAAAMA+AABgPwAAAAAAAMA+AACAPwAAAAAAAMA+AAAAAAAAAAAAAAA/AAAAPgAAAAAAAAA/AACAPgAAAAAAAAA/AADAPgAAAAAAAAA/AAAAPwAAAAAAAAA/AAAgPwAAAAAAAAA/AABAPwAAAAAAAAA/AABgPwAAAAAAAAA/AACAPwAAAAAAAAA/AAAAAAAAAAAAACA/AAAAPgAAAAAAACA/AACAPgAAAAAAACA/AADAPgAAAAAAACA/AAAAPwAAAAAAACA/AAAgPwAAAAAAACA/AABAPwAAAAAAACA/AABgPwAAAAAAACA/AACAPwAAAAAAACA/AAAAAAAAAAAAAEA/AAAAPgAAAAAAAEA/AACAPgAAAAAAAEA/AADAPgAAAAAAAEA/AAAAPwAAAAAAAEA/AAAgPwAAAAAAAEA/AABAPwAAAAAAAEA/AABgPwAAAAAAAEA/AACAPwAAAAAAAEA/AAAAAAAAAAAAAGA/AAAAPgAAAAAAAGA/AACAPgAAAAAAAGA/AADAPgAAAAAAAGA/AAAAPwAAAAAAAGA/AAAgPwAAAAAAAGA/AABAPwAAAAAAAGA/AABgPwAAAAAAAGA/AACAPwAAAAAAAGA/AAAAAAAAAAAAAIA/AAAAPgAAAAAAAIA/AACAPgAAAAAAAIA/AADAPgAAAAAAAIA/AAAAPwAAAAAAAIA/AAAgPwAAAAAAAIA/AABAPwAAAAAAAIA/AABgPwAAAAAAAIA/AACAPwAAAAAAAIA/AAAAAAAAgD8AAAAAAAAAPgAAgD8AAAAAAACAPgAAgD8AAAAAAADAPgAAgD8AAAAAAAAAPwAAgD8AAAAAAAAgPwAAgD8AAAAAAABAPwAAgD8AAAAAAABgPwAAgD8AAAAAAACAPwAAgD8AAAAAAAAAAAAAgD8AAAA+AAAAPgAAgD8AAAA+AACAPgAAgD8AAAA+AADAPgAAgD8AAAA+AAAAPwAAgD8AAAA+AAAgPwAAgD8AAAA+AABAPwAAgD8AAAA+AABgPwAAgD8AAAA+AACAPwAAgD8AAAA+AAAAAAAAgD8AAIA+AAAAPgAAgD8AAIA+AACAPgAAgD8AAIA+AADAPgAAgD8AAIA+AAAAPwAAgD8AAIA+AAAgPwAAgD8AAIA+AABAPwAAgD8AAIA+AABgPwAAgD8AAIA+AACAPwAAgD8AAIA+AAAAAAAAgD8AAMA+AAAAPgAAgD8AAMA+AACAPgAAgD8AAMA+AADAPgAAgD8AAMA+AAAAPwAAgD8AAMA+AAAgPwAAgD8AAMA+AABAPwAAgD8AAMA+AABgPwAAgD8AAMA+AACAPwAAgD8AAMA+AAAAAAAAgD8AAAA/AAAAPgAAgD8AAAA/AACAPgAAgD8AAAA/AADAPgAAgD8AAAA/AAAAPwAAgD8AAAA/AAAgPwAAgD8AAAA/AABAPwAAgD8AAAA/AABgPwAAgD8AAAA/AACAPwAAgD8AAAA/AAAAAAAAgD8AACA/AAAAPgAAgD8AACA/AACAPgAAgD8AACA/AADAPgAAgD8AACA/AAAAPwAAgD8AACA/AAAgPwAAgD8AACA/AABAPwAAgD8AACA/AABgPwAAgD8AACA/AACAPwAAgD8AACA/AAAAAAAAgD8AAEA/AAAAPgAAgD8AAEA/AACAPgAAgD8AAEA/AADAPgAAgD8AAEA/AAAAPwAAgD8AAEA/AAAgPwAAgD8AAEA/AABAPwAAgD8AAEA/AABgPwAAgD8AAEA/AACAPwAAgD8AAEA/AAAAAAAAgD8AAGA/AAAAPgAAgD8AAGA/AACAPgAAgD8AAGA/AADAPgAAgD8AAGA/AAAAPwAAgD8AAGA/AAAgPwAAgD8AAGA/AABAPwAAgD8AAGA/AABgPwAAgD8AAGA/AACAPwAAgD8AAGA/AAAAAAAAgD8AAIA/AAAAPgAAgD8AAIA/AACAPgAAgD8AAIA/AADAPgAAgD8AAIA/AAAAPwAAgD8AAIA/AAAgPwAAgD8AAIA/AABAPwAAgD8AAIA/AABgPwAAgD8AAIA/AACAPwAAgD8AAIA/AAAAAAAAAAAAAAAAAAAAAAAAAD4AAAAAAAAAAAAAgD4AAAAAAAAAAAAAwD4AAAAAAAAAAAAAAD8AAAAAAAAAAAAAID8AAAAAAAAAAAAAQD8AAAAAAAAAAAAAYD8AAAAAAAAAAAAAgD8AAAAAAAAAAAAAAAAAAAA+AAAAAAAAAD4AAAA+AAAAAAAAgD4AAAA+AAAAAAAAwD4AAAA+AAAAAAAAAD8AAAA+AAAAAAAAID8AAAA+AAAAAAAAQD8AAAA+AAAAAAAAYD8AAAA+AAAAAAAAgD8AAAA+AAAAAAAAAAAAAIA+AAAAAAAAAD4AAIA+AAAAAAAAgD4AAIA+AAAAAAAAwD4AAIA+AAAAAAAAAD8AAIA+AAAAAAAAID8AAIA+AAAAAAAAQD8AAIA+AAAAAAAAYD8AAIA+AAAAAAAAgD8AAIA+AAAAAAAAAAAAAMA+AAAAAAAAAD4AAMA+AAAAAAAAgD4AAMA+AAAAAAAAwD4AAMA+AAAAAAAAAD8AAMA+AAAAAAAAID8AAMA+AAAAAAAAQD8AAMA+AAAAAAAAYD8AAMA+AAAAAAAAgD8AAMA+AAAAAAAAAAAAAAA/AAAAAAAAAD4AAAA/AAAAAAAAgD4AAAA/AAAAAAAAwD4AAAA/AAAAAAAAAD8AAAA/AAAAAAAAID8AAAA/AAAAAAAAQD8AAAA/AAAAAAAAYD8AAAA/AAAAAAAAgD8AAAA/AAAAAAAAAAAAACA/AAAAAAAAAD4AACA/AAAAAAAAgD4AACA/AAAAAAAAwD4AACA/AAAAAAAAAD8AACA/AAAAAAAAID8AACA/AAAAAAAAQD8AACA/AAAAAAAAYD8AACA/AAAAAAAAgD8AACA/AAAAAAAAAAAAAEA/AAAAAAAAAD4AAEA/AAAAAAAAgD4AAEA/AAAAAAAAwD4AAEA/AAAAAAAAAD8AAEA/AAAAAAAAID8AAEA/AAAAAAAAQD8AAEA/AAAAAAAAYD8AAEA/AAAAAAAAgD8AAEA/AAAAAAAAAAAAAGA/AAAAAAAAAD4AAGA/AAAAAAAAgD4AAGA/AAAAAAAAwD4AAGA/AAAAAAAAAD8AAGA/AAAAAAAAID8AAGA/AAAAAAAAQD8AAGA/AAAAAAAAYD8AAGA/AAAAAAAAgD8AAGA/AAAAAAAAAAAAAIA/AAAAAAAAAD4AAIA/AAAAAAAAgD4AAIA/AAAAAAAAwD4AAIA/AAAAAAAAAD8AAIA/AAAAAAAAID8AAIA/AAAAAAAAQD8AAIA/AAAAAAAAYD8AAIA/AAAAAAAAgD8AAIA/AACAPwAAAAAAAAAAAACAPwAAAD4AAAAAAACAPwAAgD4AAAAAAACAPwAAwD4AAAAAAACAPwAAAD8AAAAAAACAPwAAID8AAAAAAACAPwAAQD8AAAAAAACAPwAAYD8AAAAAAACAPwAAgD8AAAAAAACAPwAAAAAAAAA+AACAPwAAAD4AAAA+AACAPwAAgD4AAAA+AACAPwAAwD4AAAA+AACAPwAAAD8AAAA+AACAPwAAID8AAAA+AACAPwAAQD8AAAA+AACAPwAAYD8AAAA+AACAPwAAgD8AAAA+AACAPwAAAAAAAIA+AACAPwAAAD4AAIA+AACAPwAAgD4AAIA+AACAPwAAwD4AAIA+AACAPwAAAD8AAIA+AACAPwAAID8AAIA+AACAPwAAQD8AAIA+AACAPwAAYD8AAIA+AACAPwAAgD8AAIA+AACAPwAAAAAAAMA+AACAPwAAAD4AAMA+AACAPwAAgD4AAMA+AACAPwAAwD4AAMA+AACAPwAAAD8AAMA+AACAPwAAID8AAMA+AACAPwAAQD8AAMA+AACAPwAAYD8AAMA+AACAPwAAgD8AAMA+AACAPwAAAAAAAAA/AACAPwAAAD4AAAA/AACAPwAAgD4AAAA/AACAPwAAwD4AAAA/AACAPwAAAD8AAAA/AACAPwAAID8AAAA/AACAPwAAQD8AAAA/AACAPwAAYD8AAAA/AACAPwAAgD8AAAA/AACAPwAAAAAAACA/AACAPwAAAD4AACA/AACAPwAAgD4AACA/AACAPwAAwD4AACA/AACAPwAAAD8AACA/AACAPwAAID8AACA/AACAPwAAQD8AACA/AACAPwAAYD8AACA/AACAPwAAgD8AACA/AACAPwAAAAAAAEA/AACAPwAAAD4AAEA/AACAPwAAgD4AAEA/AACAPwAAwD4AAEA/AACAPwAAAD8AAEA/AACAPwAAID8AAEA/AACAPwAAQD8AAEA/AACAPwAAYD8AAEA/AACAPwAAgD8AAEA/AACAPwAAAAAAAGA/AACAPwAAAD4AAGA/AACAPwAAgD4AAGA/AACAPwAAwD4AAGA/AACAPwAAAD8AAGA/AACAPwAAID8AAGA/AACAPwAAQD8AAGA/AACAPwAAYD8AAGA/AACAPwAAgD8AAGA/AACAPwAAAAAAAIA/AACAPwAAAD4AAIA/AACAPwAAgD4AAIA/AACAPwAAwD4AAIA/AACAPwAAAD8AAIA/AACAPwAAID8AAIA/AACAPwAAQD8AAIA/AACAPwAAYD8AAIA/AACAPwAAgD8AAIA/",
        "encoding": "base64",
        "path": [
         "array",
         "buffer"
        ]
       }
      ],
      "model_module": "jupyter-threejs",
      "model_module_version": "^2.1.0",
      "model_name": "BufferAttributeModel",
      "state": {
       "_view_module": null,
       "_view_module_version": "",
       "array": {
        "dtype": "float32",
        "shape": [
         486,
         3
        ]
       },
       "version": 2
      }
     },
     "9e0690891bf54542932bd8a067c025c8": {
      "model_module": "jupyter-threejs",
      "model_module_version": "^2.1.0",
      "model_name": "SpriteMaterialModel",
      "state": {
       "_view_module": null,
       "_view_module_version": "",
       "map": "IPY_MODEL_b244059da1b84c1a93b5806430871ef4"
      }
     },
     "9e52ee56442f47e0b842d266d7ca8c1b": {
      "model_module": "jupyter-threejs",
      "model_module_version": "^2.1.0",
      "model_name": "PerspectiveCameraModel",
      "state": {
       "_view_module": null,
       "_view_module_version": "",
       "matrix": [
        0.7071067811865477,
        2.7755575615628914E-17,
        -0.7071067811865474,
        0,
        -0.4082482904638629,
        0.816496580927726,
        -0.40824829046386296,
        0,
        0.5773502691896256,
        0.5773502691896256,
        0.577350269189626,
        0,
        3,
        3,
        3,
        1
       ],
       "matrixWorld": [
        0.7071067811865477,
        2.7755575615628914E-17,
        -0.7071067811865474,
        0,
        -0.4082482904638629,
        0.816496580927726,
        -0.40824829046386296,
        0,
        0.5773502691896256,
        0.5773502691896256,
        0.577350269189626,
        0,
        3,
        3,
        3,
        1
       ],
       "position": [
        3,
        3,
        3
       ],
       "projectionMatrix": [
        2.1445069205095586,
        0,
        0,
        0,
        0,
        2.1445069205095586,
        0,
        0,
        0,
        0,
        -1.00010000500025,
        -1,
        0,
        0,
        -0.200010000500025,
        0
       ],
       "quaternion": [
        -0.2798481423331213,
        0.3647051996310008,
        0.11591689595929511,
        0.8804762392171493
       ],
       "rotation": [
        -0.7853981633974481,
        0.6154797086703871,
        0.5235987755982987,
        "XYZ"
       ]
      }
     },
     "9f099829a1b240b6b9b655c187c2d554": {
      "model_module": "@jupyter-widgets/base",
      "model_module_version": "1.2.0",
      "model_name": "LayoutModel",
      "state": {}
     },
     "9faf3bff205b45b5b01d21d96e5905b0": {
      "model_module": "jupyter-threejs",
      "model_module_version": "^2.1.0",
      "model_name": "AnimationClipModel",
      "state": {
       "_view_module": null,
       "_view_module_version": "",
       "duration": 3,
       "tracks": [
        "IPY_MODEL_299f7afd485f4e85b546605dc1f5230e",
        "IPY_MODEL_d51149410ebe4c36a0ad03bcab258993"
       ]
      }
     },
     "9fafb374cf7740f6a5b23193a8eb81d3": {
      "model_module": "jupyter-threejs",
      "model_module_version": "^2.1.0",
      "model_name": "SpriteModel",
      "state": {
       "_view_module": null,
       "_view_module_version": "",
       "material": "IPY_MODEL_e1eb4d7a16804d668eaafabf00b95e44",
       "matrix": [
        0.05,
        0,
        0,
        0,
        0,
        0.07500000000000001,
        0,
        0,
        0,
        0,
        0.05,
        0,
        0,
        1,
        1,
        1
       ],
       "position": [
        0,
        1,
        1
       ],
       "scale": [
        0.05,
        0.07500000000000001,
        0.05
       ]
      }
     },
     "9fb75c99c5f84933a3a12d999b2a7eba": {
      "model_module": "jupyter-threejs",
      "model_module_version": "^2.1.0",
      "model_name": "MeshModel",
      "state": {
       "_view_module": null,
       "_view_module_version": "",
       "geometry": "IPY_MODEL_4d93c1593a0f42ffa658e49e56219cde",
       "material": "IPY_MODEL_4fecc2f0db0546968d14bafe6140639a",
       "name": "A"
      }
     },
     "a0a09c6a019a49f18fadecfdff812364": {
      "model_module": "jupyter-threejs",
      "model_module_version": "^2.1.0",
      "model_name": "TextTextureModel",
      "state": {
       "_view_module": null,
       "_view_module_version": "",
       "size": 100,
       "squareTexture": false,
       "string": "z",
       "version": 2
      }
     },
     "a138ed9db60149b89cd42ef17d10f97c": {
      "model_module": "jupyter-threejs",
      "model_module_version": "^2.1.0",
      "model_name": "SpriteMaterialModel",
      "state": {
       "_view_module": null,
       "_view_module_version": "",
       "map": "IPY_MODEL_aa25a5b9a47d49369608d462f7e0a670"
      }
     },
     "a1aa8d053c0341339a05dbd49d78507b": {
      "model_module": "jupyter-threejs",
      "model_module_version": "^2.1.0",
      "model_name": "DirectionalLightModel",
      "state": {
       "_view_module": null,
       "_view_module_version": "",
       "intensity": 0.6,
       "matrixWorldNeedsUpdate": true,
       "position": [
        3,
        5,
        1
       ],
       "shadow": "IPY_MODEL_e4196048-e6d2-41da-b023-933242dd2f21",
       "target": "IPY_MODEL_f31b290c-c2a7-487e-959d-204365818e5f"
      }
     },
     "a1bd858299e145808f0097c2551d0c04": {
      "model_module": "jupyter-threejs",
      "model_module_version": "^2.1.0",
      "model_name": "SpriteModel",
      "state": {
       "_view_module": null,
       "_view_module_version": "",
       "material": "IPY_MODEL_f58aed71f0d34d349ff3f005203a1fb4",
       "matrix": [
        0.05,
        0,
        0,
        0,
        0,
        0.07500000000000001,
        0,
        0,
        0,
        0,
        0.05,
        0,
        0,
        0,
        0,
        1
       ],
       "scale": [
        0.05,
        0.07500000000000001,
        0.05
       ]
      }
     },
     "a20fb2560a954875a1c4c1e6c7522771": {
      "model_module": "jupyter-threejs",
      "model_module_version": "^2.1.0",
      "model_name": "SpriteMaterialModel",
      "state": {
       "_view_module": null,
       "_view_module_version": "",
       "map": "IPY_MODEL_23e98c3dcdaf48648a80ab748b1ad489"
      }
     },
     "a211cde538db42b289049062b7701547": {
      "model_module": "jupyter-threejs",
      "model_module_version": "^2.1.0",
      "model_name": "RendererModel",
      "state": {
       "_height": 600,
       "_webgl_version": 2,
       "_width": 600,
       "camera": "IPY_MODEL_9e52ee56442f47e0b842d266d7ca8c1b",
       "controls": [
        "IPY_MODEL_0022f1bd0f8f4e9098194ca43968e0fa"
       ],
       "layout": "IPY_MODEL_7554d09730044059b4170f04d8e9889d",
       "scene": "IPY_MODEL_f7577216187b4d2b8d4f5f6078021826",
       "shadowMap": "IPY_MODEL_68298251c73449aa84dd814f02446be1"
      }
     },
     "a4beeee5e6fb4607884e9a63c280f0e3": {
      "model_module": "jupyter-threejs",
      "model_module_version": "^2.1.0",
      "model_name": "AmbientLightModel",
      "state": {
       "_view_module": null,
       "_view_module_version": "",
       "intensity": 0.5
      }
     },
     "a6279cba5b7b4b69aa5ea42522f777af": {
      "model_module": "jupyter-threejs",
      "model_module_version": "^2.1.0",
      "model_name": "TextTextureModel",
      "state": {
       "_view_module": null,
       "_view_module_version": "",
       "size": 100,
       "squareTexture": false,
       "string": "5",
       "version": 2
      }
     },
     "a67e612929634c2986d89d7f25fbf87e": {
      "model_module": "jupyter-threejs",
      "model_module_version": "^2.1.0",
      "model_name": "MeshModel",
      "state": {
       "_view_module": null,
       "_view_module_version": "",
       "geometry": "IPY_MODEL_5ec86d456cff48c4abce544952206e3a",
       "material": "IPY_MODEL_58fe5941e68c42aa886df646c53f0b1e",
       "morphTargetInfluences": []
      }
     },
     "a7958846fbfe4441b3f76d479cb07ee9": {
      "model_module": "jupyter-threejs",
      "model_module_version": "^2.1.0",
      "model_name": "SpriteMaterialModel",
      "state": {
       "_view_module": null,
       "_view_module_version": "",
       "map": "IPY_MODEL_00c0a00c2184455598df994bb50cfefc"
      }
     },
     "a82283355a214f728c941c2213f69f00": {
      "model_module": "jupyter-threejs",
      "model_module_version": "^2.1.0",
      "model_name": "MeshModel",
      "state": {
       "_view_module": null,
       "_view_module_version": "",
       "geometry": "IPY_MODEL_024d83559212494ebad28444147b0d6d",
       "material": "IPY_MODEL_40a5f64e8a384503bee1bacb35893ffc",
       "morphTargetInfluences": []
      }
     },
     "a9ae9102-b971-45b6-a39d-37dadf694da6": {
      "model_module": "jupyter-threejs",
      "model_module_version": "^2.1.0",
      "model_name": "OrthographicCameraModel",
      "state": {
       "bottom": -5,
       "far": 500,
       "left": -5,
       "near": 0.5,
       "projectionMatrix": [
        0.2,
        0,
        0,
        0,
        0,
        0.2,
        0,
        0,
        0,
        0,
        -0.004004004004004004,
        0,
        0,
        0,
        -1.002002002002002,
        1
       ],
       "right": 5,
       "top": 5
      }
     },
     "a9f27030d2bb4c56af51c09a6bdb85e4": {
      "model_module": "jupyter-threejs",
      "model_module_version": "^2.1.0",
      "model_name": "AxesHelperModel",
      "state": {
       "_view_module": null,
       "_view_module_version": "",
       "size": 2,
       "type": "LineSegments"
      }
     },
     "aa25a5b9a47d49369608d462f7e0a670": {
      "model_module": "jupyter-threejs",
      "model_module_version": "^2.1.0",
      "model_name": "TextTextureModel",
      "state": {
       "_view_module": null,
       "_view_module_version": "",
       "size": 100,
       "squareTexture": false,
       "string": "x",
       "version": 2
      }
     },
     "aa9b72c30ba041ae875e8bcb41a36e45": {
      "model_module": "jupyter-threejs",
      "model_module_version": "^2.1.0",
      "model_name": "SpriteModel",
      "state": {
       "_view_module": null,
       "_view_module_version": "",
       "material": "IPY_MODEL_87c855eb5fd448308835b4eacf4b3795",
       "matrix": [
        0.05,
        0,
        0,
        0,
        0,
        0.07500000000000001,
        0,
        0,
        0,
        0,
        0.05,
        0,
        0,
        0,
        1,
        1
       ],
       "position": [
        0,
        0,
        1
       ],
       "scale": [
        0.05,
        0.07500000000000001,
        0.05
       ]
      }
     },
     "aac9c7807b5d47d1b9b766dee644d3af": {
      "model_module": "jupyter-threejs",
      "model_module_version": "^2.1.0",
      "model_name": "AnimationActionModel",
      "state": {
       "_model_module": "jupyter-threejs",
       "_model_module_version": "^2.1.0",
       "_model_name": "AnimationActionModel",
       "_view_module_version": "^2.1.0",
       "clip": "IPY_MODEL_9faf3bff205b45b5b01d21d96e5905b0",
       "layout": "IPY_MODEL_971f1525f09947469b318d28a00e5ea6",
       "localRoot": "IPY_MODEL_2cf65b6fc9754ee0b84c5a73f8154070",
       "mixer": "IPY_MODEL_e4933239e4c04a898dc24cb2caa8985f",
       "repititions": "inf"
      }
     },
     "abf5e12c24944c929dccf4e1b7107fb8": {
      "model_module": "jupyter-threejs",
      "model_module_version": "^2.1.0",
      "model_name": "SpriteMaterialModel",
      "state": {
       "_view_module": null,
       "_view_module_version": "",
       "map": "IPY_MODEL_c02bd8394018453796cc41b815f03662"
      }
     },
     "ac9fcceb4f7245d3b4e64a7f826b1a46": {
      "model_module": "jupyter-threejs",
      "model_module_version": "^2.1.0",
      "model_name": "MeshModel",
      "state": {
       "_view_module": null,
       "_view_module_version": "",
       "geometry": "IPY_MODEL_f8d09e3bce8f48b9b73f651eddea11b8",
       "material": "IPY_MODEL_63c916189612467a9316cf9cafa69dab",
       "name": "B"
      }
     },
     "ad1c87514b8a448f97ceb0c3517f47c8": {
      "model_module": "jupyter-threejs",
      "model_module_version": "^2.1.0",
      "model_name": "SpriteModel",
      "state": {
       "_view_module": null,
       "_view_module_version": "",
       "material": "IPY_MODEL_5027456ff3994e93b09c47c1c11a6e35",
       "matrix": [
        0.05,
        0,
        0,
        0,
        0,
        0.07500000000000001,
        0,
        0,
        0,
        0,
        0.05,
        0,
        1,
        1,
        0,
        1
       ],
       "position": [
        1,
        1,
        0
       ],
       "scale": [
        0.05,
        0.07500000000000001,
        0.05
       ]
      }
     },
     "ad909ab2d26d4d4184d5ba4c6dbceb20": {
      "model_module": "jupyter-threejs",
      "model_module_version": "^2.1.0",
      "model_name": "MeshModel",
      "state": {
       "_view_module": null,
       "_view_module_version": "",
       "geometry": "IPY_MODEL_918cbd9581434bcdbcbb4af38eb20de3",
       "material": "IPY_MODEL_497f0f762a714a419b5a65f091611f07",
       "morphTargetInfluences": []
      }
     },
     "af3a39e11ac444c7ac4bd8a8322b276c": {
      "model_module": "jupyter-threejs",
      "model_module_version": "^2.1.0",
      "model_name": "DirectionalLightModel",
      "state": {
       "_view_module": null,
       "_view_module_version": "",
       "intensity": 0.5,
       "matrixWorldNeedsUpdate": true,
       "position": [
        16,
        12,
        17
       ],
       "shadow": "IPY_MODEL_f3078f65-d9df-4f69-9c72-b3d40d097d4e",
       "target": "IPY_MODEL_6f1c51b5-014d-4a9b-b92f-ac9c8baca822"
      }
     },
     "af55d59df2e84d19bfa9c4705d229705": {
      "model_module": "jupyter-threejs",
      "model_module_version": "^2.1.0",
      "model_name": "MeshLambertMaterialModel",
      "state": {
       "_view_module": null,
       "_view_module_version": "",
       "side": "BackSide",
       "vertexColors": "VertexColors"
      }
     },
     "afe0ac591bb449da81b75d7c26dc2601": {
      "model_module": "jupyter-threejs",
      "model_module_version": "^2.1.0",
      "model_name": "SpriteModel",
      "state": {
       "_view_module": null,
       "_view_module_version": "",
       "material": "IPY_MODEL_6a1d26ce9c1841ff9fceb2a856078070",
       "matrix": [
        0.05,
        0,
        0,
        0,
        0,
        0.07500000000000001,
        0,
        0,
        0,
        0,
        0.05,
        0,
        0,
        0,
        0,
        1
       ],
       "scale": [
        0.05,
        0.07500000000000001,
        0.05
       ]
      }
     },
     "b0807410b83e4e49a1f3514a90ac47fd": {
      "model_module": "jupyter-threejs",
      "model_module_version": "^2.1.0",
      "model_name": "MeshModel",
      "state": {
       "_view_module": null,
       "_view_module_version": "",
       "geometry": "IPY_MODEL_93c196ecfe2942c883ebe48219df6cbd",
       "material": "IPY_MODEL_b962df21bcc448f1a7725ed7dcce6718",
       "name": "B"
      }
     },
     "b244059da1b84c1a93b5806430871ef4": {
      "model_module": "jupyter-threejs",
      "model_module_version": "^2.1.0",
      "model_name": "TextTextureModel",
      "state": {
       "_view_module": null,
       "_view_module_version": "",
       "size": 100,
       "squareTexture": false,
       "string": "1",
       "version": 2
      }
     },
     "b2710af3248347b0a69b30575972eb75": {
      "model_module": "jupyter-threejs",
      "model_module_version": "^2.1.0",
      "model_name": "WebGLShadowMapModel",
      "state": {
       "_view_module": null,
       "_view_module_version": ""
      }
     },
     "b3717429af0d420b942125c59b0f70bd": {
      "model_module": "jupyter-threejs",
      "model_module_version": "^2.1.0",
      "model_name": "TextTextureModel",
      "state": {
       "_view_module": null,
       "_view_module_version": "",
       "size": 100,
       "squareTexture": false,
       "string": "5",
       "version": 2
      }
     },
     "b3dd6e45dfd84b2d9f2a14eaa56aef77": {
      "model_module": "jupyter-threejs",
      "model_module_version": "^2.1.0",
      "model_name": "SpriteModel",
      "state": {
       "_view_module": null,
       "_view_module_version": "",
       "material": "IPY_MODEL_32f229d2aaf24cb8a0ead0fe212644c3",
       "matrix": [
        0.05,
        0,
        0,
        0,
        0,
        0.07500000000000001,
        0,
        0,
        0,
        0,
        0.05,
        0,
        2,
        0,
        0,
        1
       ],
       "position": [
        2,
        0,
        0
       ],
       "scale": [
        0.05,
        0.07500000000000001,
        0.05
       ]
      }
     },
     "b68d8f3a78d84a9d955134d76217c40a": {
      "model_module": "jupyter-threejs",
      "model_module_version": "^2.1.0",
      "model_name": "GroupModel",
      "state": {
       "_view_module": null,
       "_view_module_version": "",
       "children": [
        "IPY_MODEL_3e41609cce134fbbafdceee71ed44bf6",
        "IPY_MODEL_ac9fcceb4f7245d3b4e64a7f826b1a46"
       ]
      }
     },
     "b70e7dec08664939b5c3464cf8c68522": {
      "buffers": [
       {
        "data": "AAAAAAEAAAA=",
        "encoding": "base64",
        "path": [
         "values",
         "buffer"
        ]
       },
       {
        "data": "AAAAAAMAAAA=",
        "encoding": "base64",
        "path": [
         "times",
         "buffer"
        ]
       }
      ],
      "model_module": "jupyter-threejs",
      "model_module_version": "^2.1.0",
      "model_name": "NumberKeyframeTrackModel",
      "state": {
       "_view_module": null,
       "_view_module_version": "",
       "name": "scene/B.morphTargetInfluences[0]",
       "times": {
        "dtype": "int32",
        "shape": [
         2
        ]
       },
       "values": {
        "dtype": "int32",
        "shape": [
         2
        ]
       }
      }
     },
     "b7364bb09a1e411fafbdb9b8d23685fd": {
      "model_module": "jupyter-threejs",
      "model_module_version": "^2.1.0",
      "model_name": "WebGLShadowMapModel",
      "state": {
       "_view_module": null,
       "_view_module_version": ""
      }
     },
     "b7df5329659147c59ab369be661e7d35": {
      "model_module": "jupyter-threejs",
      "model_module_version": "^2.1.0",
      "model_name": "MeshLambertMaterialModel",
      "state": {
       "_view_module": null,
       "_view_module_version": "",
       "vertexColors": "VertexColors"
      }
     },
     "b80d5868626b4922b015bd4b8d7400bf": {
      "model_module": "jupyter-threejs",
      "model_module_version": "^2.1.0",
      "model_name": "MeshModel",
      "state": {
       "_view_module": null,
       "_view_module_version": "",
       "geometry": "IPY_MODEL_1e72a1dce3034bfda2b162be31f15f20",
       "material": "IPY_MODEL_77b9c1cf8815472f8d0c5a2208451d1e",
       "name": "A"
      }
     },
     "b962df21bcc448f1a7725ed7dcce6718": {
      "model_module": "jupyter-threejs",
      "model_module_version": "^2.1.0",
      "model_name": "MeshPhongMaterialModel",
      "state": {
       "_view_module": null,
       "_view_module_version": "",
       "color": "#ff3333",
       "morphTargets": true,
       "shininess": 150,
       "side": "BackSide"
      }
     },
     "b98a689d4269478ca24f72f00e395c01": {
      "model_module": "jupyter-threejs",
      "model_module_version": "^2.1.0",
      "model_name": "SpriteModel",
      "state": {
       "_view_module": null,
       "_view_module_version": "",
       "material": "IPY_MODEL_5cb0718395604f67b091c27f56d476f0",
       "matrix": [
        0.05,
        0,
        0,
        0,
        0,
        0.07500000000000001,
        0,
        0,
        0,
        0,
        0.05,
        0,
        2,
        0,
        0,
        1
       ],
       "position": [
        2,
        0,
        0
       ],
       "scale": [
        0.05,
        0.07500000000000001,
        0.05
       ]
      }
     },
     "b9fef630329344cfa23a06912b6e2268": {
      "buffers": [
       {
        "data": "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",
        "encoding": "base64",
        "path": [
         "array",
         "buffer"
        ]
       }
      ],
      "model_module": "jupyter-threejs",
      "model_module_version": "^2.1.0",
      "model_name": "BufferAttributeModel",
      "state": {
       "_view_module": null,
       "_view_module_version": "",
       "array": {
        "dtype": "float32",
        "shape": [
         486,
         3
        ]
       },
       "normalized": true,
       "version": 2
      }
     },
     "ba59f69e11194b93a091903fe2630aa1": {
      "buffers": [
       {
        "data": "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",
        "encoding": "base64",
        "path": [
         "array",
         "buffer"
        ]
       }
      ],
      "model_module": "jupyter-threejs",
      "model_module_version": "^2.1.0",
      "model_name": "BufferAttributeModel",
      "state": {
       "_view_module": null,
       "_view_module_version": "",
       "array": {
        "dtype": "float32",
        "shape": [
         486,
         3
        ]
       },
       "normalized": true,
       "version": 2
      }
     },
     "ba5ea57922bb41cb9f4a608bcebb714a": {
      "model_module": "jupyter-threejs",
      "model_module_version": "^2.1.0",
      "model_name": "TextTextureModel",
      "state": {
       "_view_module": null,
       "_view_module_version": "",
       "size": 100,
       "squareTexture": false,
       "string": "1",
       "version": 2
      }
     },
     "bab0d94c2a894959bf23e65d823d783a": {
      "model_module": "jupyter-threejs",
      "model_module_version": "^2.1.0",
      "model_name": "SpriteModel",
      "state": {
       "_view_module": null,
       "_view_module_version": "",
       "material": "IPY_MODEL_c483f31d7abb4957b9f6adf9c41fc139",
       "matrix": [
        0.05,
        0,
        0,
        0,
        0,
        0.07500000000000001,
        0,
        0,
        0,
        0,
        0.05,
        0,
        0,
        2,
        0,
        1
       ],
       "position": [
        0,
        2,
        0
       ],
       "scale": [
        0.05,
        0.07500000000000001,
        0.05
       ]
      }
     },
     "bac68f476e6a4a9a86871e759e6b3c72": {
      "model_module": "jupyter-threejs",
      "model_module_version": "^2.1.0",
      "model_name": "OrbitControlsModel",
      "state": {
       "_view_module": null,
       "_view_module_version": "",
       "controlling": "IPY_MODEL_77566ccfed2f4c62b2fb65e5c3f12108",
       "maxAzimuthAngle": "inf",
       "maxDistance": "inf",
       "maxZoom": "inf",
       "minAzimuthAngle": "-inf",
       "target": [
        0.5,
        0.5,
        0.5
       ]
      }
     },
     "bb480ca4e7fb43b8a043a7bb4c486dc3": {
      "model_module": "jupyter-threejs",
      "model_module_version": "^2.1.0",
      "model_name": "AnimationClipModel",
      "state": {
       "_view_module": null,
       "_view_module_version": "",
       "duration": 3,
       "tracks": [
        "IPY_MODEL_52d62166a1f54c728b4cfe9e1370237b",
        "IPY_MODEL_680d229117c6410887a6a5b911978dfd"
       ]
      }
     },
     "bb5ca15402124a2abf974ca9359da223": {
      "model_module": "jupyter-threejs",
      "model_module_version": "^2.1.0",
      "model_name": "AnimationActionModel",
      "state": {
       "_model_module": "jupyter-threejs",
       "_model_module_version": "^2.1.0",
       "_model_name": "AnimationActionModel",
       "_view_module_version": "^2.1.0",
       "clip": "IPY_MODEL_1d45bc765a414c618c4269a89293a771",
       "layout": "IPY_MODEL_19f191f8a8b04d0dafaa622f5870f085",
       "localRoot": "IPY_MODEL_059f35511b5f439f863abca538ca43ba",
       "mixer": "IPY_MODEL_378d02a4a3234be0ab6a2c524ca3419e",
       "repititions": "inf",
       "time": 3.549999964889139E-4
      }
     },
     "bc73ae1d0bf14b4eb64e008a0b8e3e5a": {
      "model_module": "jupyter-threejs",
      "model_module_version": "^2.1.0",
      "model_name": "BufferGeometryModel",
      "state": {
       "_view_module": null,
       "_view_module_version": "",
       "attributes": {
        "color": "IPY_MODEL_2f43c0a80f444440a6d7bc3de69fbd73",
        "position": "IPY_MODEL_8693bcacb70f4bb48ae5846be7c9f77e"
       },
       "index": "IPY_MODEL_88425863e6cb4f0c90fc5660ac78853d"
      }
     },
     "bd1c79588e0a4e739499c0c273ca45df": {
      "buffers": [
       {
        "data": "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",
        "encoding": "base64",
        "path": [
         "array",
         "buffer"
        ]
       }
      ],
      "model_module": "jupyter-threejs",
      "model_module_version": "^2.1.0",
      "model_name": "BufferAttributeModel",
      "state": {
       "_view_module": null,
       "_view_module_version": "",
       "array": {
        "dtype": "uint16",
        "shape": [
         2304
        ]
       },
       "version": 2
      }
     },
     "bd77039d70674c0986402f11b4a36114": {
      "model_module": "jupyter-threejs",
      "model_module_version": "^2.1.0",
      "model_name": "TextTextureModel",
      "state": {
       "_view_module": null,
       "_view_module_version": "",
       "size": 100,
       "squareTexture": false,
       "string": "2",
       "version": 2
      }
     },
     "bdc36c1c0b1b4fe59bc3d3c0e660da6a": {
      "model_module": "jupyter-threejs",
      "model_module_version": "^2.1.0",
      "model_name": "AxesHelperModel",
      "state": {
       "_view_module": null,
       "_view_module_version": "",
       "size": 2,
       "type": "LineSegments"
      }
     },
     "bf84f430-64a0-4346-b3e9-547688e063c5": {
      "model_module": "jupyter-threejs",
      "model_module_version": "^2.1.0",
      "model_name": "Object3DModel",
      "state": {}
     },
     "c02bd8394018453796cc41b815f03662": {
      "model_module": "jupyter-threejs",
      "model_module_version": "^2.1.0",
      "model_name": "TextTextureModel",
      "state": {
       "_view_module": null,
       "_view_module_version": "",
       "size": 100,
       "squareTexture": false,
       "string": "4",
       "version": 2
      }
     },
     "c05b6c0a7bf8462da5284a95fad8f51f": {
      "model_module": "jupyter-threejs",
      "model_module_version": "^2.1.0",
      "model_name": "SpriteMaterialModel",
      "state": {
       "_view_module": null,
       "_view_module_version": "",
       "map": "IPY_MODEL_c681170c41884ab681efcd41bbe8bf22"
      }
     },
     "c0672127-cf6f-4ad0-98b6-177112584763": {
      "model_module": "jupyter-threejs",
      "model_module_version": "^2.1.0",
      "model_name": "Object3DModel",
      "state": {}
     },
     "c0860af3b8a142059c9c2b4e9a99f1e7": {
      "model_module": "jupyter-threejs",
      "model_module_version": "^2.1.0",
      "model_name": "SpriteMaterialModel",
      "state": {
       "_view_module": null,
       "_view_module_version": "",
       "map": "IPY_MODEL_70c201f1a3f8427ebc66731a3543217f"
      }
     },
     "c184c881976c49c7b09d4f1bb2b0d1aa": {
      "model_module": "jupyter-threejs",
      "model_module_version": "^2.1.0",
      "model_name": "SpriteMaterialModel",
      "state": {
       "_view_module": null,
       "_view_module_version": "",
       "map": "IPY_MODEL_525bb7c8ab5b4e7aae781892c0d15ae8"
      }
     },
     "c235a4e0ce264b55aa51747e1fafef73": {
      "model_module": "jupyter-threejs",
      "model_module_version": "^2.1.0",
      "model_name": "TextTextureModel",
      "state": {
       "_view_module": null,
       "_view_module_version": "",
       "size": 100,
       "squareTexture": false,
       "string": "y",
       "version": 2
      }
     },
     "c2637e67-9b55-4de8-8667-8090cdb43bb2": {
      "model_module": "jupyter-threejs",
      "model_module_version": "^2.1.0",
      "model_name": "OrthographicCameraModel",
      "state": {
       "bottom": -5,
       "far": 500,
       "left": -5,
       "near": 0.5,
       "projectionMatrix": [
        0.2,
        0,
        0,
        0,
        0,
        0.2,
        0,
        0,
        0,
        0,
        -0.004004004004004004,
        0,
        0,
        0,
        -1.002002002002002,
        1
       ],
       "right": 5,
       "top": 5
      }
     },
     "c30d5e1be8724d32b490d0fdffa4d184": {
      "model_module": "jupyter-threejs",
      "model_module_version": "^2.1.0",
      "model_name": "SpriteMaterialModel",
      "state": {
       "_view_module": null,
       "_view_module_version": "",
       "map": "IPY_MODEL_d9ef2d6f317f4c5e89e2cf3b46f4e8ee"
      }
     },
     "c340ad8649da45b9b7d339b211f33eb7": {
      "buffers": [
       {
        "data": "AAAAAAAAAAAAAAAAAACAPwAAAAAAAAAAAAAAAAAAgD8AAAAAAACAPwAAgD8AAAAAAAAAAAAAAAAAAIA/AACAPwAAAAAAAIA/AAAAAAAAgD8AAIA/AACAPwAAgD8AAIA/AAAAAAAAAAAAAAAAAACAPwAAAAAAAAAAAAAAAAAAAAAAAIA/AACAPwAAAAAAAIA/AAAAAAAAgD8AAAAAAACAPwAAgD8AAAAAAAAAAAAAgD8AAIA/AACAPwAAgD8AAIA/AAAAAAAAAAAAAAAAAAAAAAAAgD8AAAAAAAAAAAAAAAAAAIA/AAAAAAAAgD8AAIA/AACAPwAAAAAAAAAAAACAPwAAgD8AAAAAAACAPwAAAAAAAIA/AACAPwAAgD8AAIA/",
        "encoding": "base64",
        "path": [
         "array",
         "buffer"
        ]
       }
      ],
      "model_module": "jupyter-threejs",
      "model_module_version": "^2.1.0",
      "model_name": "BufferAttributeModel",
      "state": {
       "_view_module": null,
       "_view_module_version": "",
       "array": {
        "dtype": "float32",
        "shape": [
         24,
         3
        ]
       },
       "version": 2
      }
     },
     "c483f31d7abb4957b9f6adf9c41fc139": {
      "model_module": "jupyter-threejs",
      "model_module_version": "^2.1.0",
      "model_name": "SpriteMaterialModel",
      "state": {
       "_view_module": null,
       "_view_module_version": "",
       "map": "IPY_MODEL_e7e50e45ebaf425881d8261689c3b31a"
      }
     },
     "c4d53ecb589744af9479d286436b6a7e": {
      "buffers": [
       {
        "data": "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",
        "encoding": "base64",
        "path": [
         "array",
         "buffer"
        ]
       }
      ],
      "model_module": "jupyter-threejs",
      "model_module_version": "^2.1.0",
      "model_name": "BufferAttributeModel",
      "state": {
       "_view_module": null,
       "_view_module_version": "",
       "array": {
        "dtype": "float32",
        "shape": [
         486,
         3
        ]
       },
       "normalized": true,
       "version": 2
      }
     },
     "c587b44c103b4bb180f2c41cbeea0289": {
      "buffers": [
       {
        "data": "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",
        "encoding": "base64",
        "path": [
         "array",
         "buffer"
        ]
       }
      ],
      "model_module": "jupyter-threejs",
      "model_module_version": "^2.1.0",
      "model_name": "BufferAttributeModel",
      "state": {
       "_view_module": null,
       "_view_module_version": "",
       "array": {
        "dtype": "uint16",
        "shape": [
         2304
        ]
       },
       "version": 2
      }
     },
     "c5d32ffa78f04f91ba1f7b75a8fb5dc7": {
      "model_module": "@jupyter-widgets/base",
      "model_module_version": "1.2.0",
      "model_name": "LayoutModel",
      "state": {}
     },
     "c681170c41884ab681efcd41bbe8bf22": {
      "model_module": "jupyter-threejs",
      "model_module_version": "^2.1.0",
      "model_name": "TextTextureModel",
      "state": {
       "_view_module": null,
       "_view_module_version": "",
       "size": 100,
       "squareTexture": false,
       "string": "7",
       "version": 2
      }
     },
     "c6fd5257502943999ccfc2ee2690a249": {
      "model_module": "jupyter-threejs",
      "model_module_version": "^2.1.0",
      "model_name": "SpriteModel",
      "state": {
       "_view_module": null,
       "_view_module_version": "",
       "material": "IPY_MODEL_258c6004934b4cf7b9a481f62aa6734d",
       "matrix": [
        0.05,
        0,
        0,
        0,
        0,
        0.07500000000000001,
        0,
        0,
        0,
        0,
        0.05,
        0,
        1,
        1,
        1,
        1
       ],
       "position": [
        1,
        1,
        1
       ],
       "scale": [
        0.05,
        0.07500000000000001,
        0.05
       ]
      }
     },
     "c76b80a6f36b4c3287ac5692f316a3d3": {
      "model_module": "jupyter-threejs",
      "model_module_version": "^2.1.0",
      "model_name": "AnimationMixerModel",
      "state": {
       "_view_module": null,
       "_view_module_version": "",
       "rootObject": "IPY_MODEL_8ab55041df6a40f9a95ce7cf6ded5bed"
      }
     },
     "ca78fb21a9764310a40c683e8f407244": {
      "model_module": "jupyter-threejs",
      "model_module_version": "^2.1.0",
      "model_name": "TextTextureModel",
      "state": {
       "_view_module": null,
       "_view_module_version": "",
       "size": 100,
       "squareTexture": false,
       "string": "8",
       "version": 2
      }
     },
     "ca84292c3c0541f0a04e4752a931defa": {
      "model_module": "jupyter-threejs",
      "model_module_version": "^2.1.0",
      "model_name": "SpriteMaterialModel",
      "state": {
       "_view_module": null,
       "_view_module_version": "",
       "map": "IPY_MODEL_dda89a4ca0104c2dbccdc349cacb9e28"
      }
     },
     "caa03b0c37044653b75f752467b026ac": {
      "model_module": "jupyter-threejs",
      "model_module_version": "^2.1.0",
      "model_name": "AnimationMixerModel",
      "state": {
       "_view_module": null,
       "_view_module_version": "",
       "rootObject": "IPY_MODEL_3f4e0073952d4737b8b7228fe9fbe82d"
      }
     },
     "cbb1b9ed067044dcae09364393442d3b": {
      "model_module": "@jupyter-widgets/base",
      "model_module_version": "1.2.0",
      "model_name": "LayoutModel",
      "state": {}
     },
     "cccbfc28820245a791bf900bc697ca5a": {
      "model_module": "jupyter-threejs",
      "model_module_version": "^2.1.0",
      "model_name": "TextTextureModel",
      "state": {
       "_view_module": null,
       "_view_module_version": "",
       "size": 100,
       "squareTexture": false,
       "string": "3",
       "version": 2
      }
     },
     "ce9164e8f8464e26b465cb7b3ef966f5": {
      "model_module": "jupyter-threejs",
      "model_module_version": "^2.1.0",
      "model_name": "SpriteMaterialModel",
      "state": {
       "_view_module": null,
       "_view_module_version": "",
       "map": "IPY_MODEL_f22b5e774e8b4739ae9462d19f2a8fee"
      }
     },
     "cf11cf34ff4045709cda6e4f795f86b5": {
      "model_module": "jupyter-threejs",
      "model_module_version": "^2.1.0",
      "model_name": "SpriteMaterialModel",
      "state": {
       "_view_module": null,
       "_view_module_version": "",
       "map": "IPY_MODEL_ffab9d6cc14e44e28227df06c306da33"
      }
     },
     "d146159381b14968ba365789236a0dac": {
      "model_module": "jupyter-threejs",
      "model_module_version": "^2.1.0",
      "model_name": "MeshLambertMaterialModel",
      "state": {
       "_view_module": null,
       "_view_module_version": "",
       "side": "BackSide",
       "vertexColors": "VertexColors"
      }
     },
     "d17e9040e801448ea8d8a2f4dabc3c54": {
      "model_module": "jupyter-threejs",
      "model_module_version": "^2.1.0",
      "model_name": "AmbientLightModel",
      "state": {
       "_view_module": null,
       "_view_module_version": "",
       "intensity": 0.8
      }
     },
     "d1c3a524fff641cc85dc812c831db514": {
      "buffers": [
       {
        "data": "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",
        "encoding": "base64",
        "path": [
         "array",
         "buffer"
        ]
       }
      ],
      "model_module": "jupyter-threejs",
      "model_module_version": "^2.1.0",
      "model_name": "BufferAttributeModel",
      "state": {
       "_view_module": null,
       "_view_module_version": "",
       "array": {
        "dtype": "float32",
        "shape": [
         486,
         3
        ]
       },
       "normalized": true,
       "version": 2
      }
     },
     "d351ac5065ed45acaa11a17eeca23a85": {
      "model_module": "jupyter-threejs",
      "model_module_version": "^2.1.0",
      "model_name": "MeshLambertMaterialModel",
      "state": {
       "_view_module": null,
       "_view_module_version": "",
       "side": "BackSide",
       "vertexColors": "VertexColors"
      }
     },
     "d427b15d229744b8a0d8bf15953ae122": {
      "model_module": "jupyter-threejs",
      "model_module_version": "^2.1.0",
      "model_name": "AxesHelperModel",
      "state": {
       "_view_module": null,
       "_view_module_version": "",
       "size": 2,
       "type": "LineSegments"
      }
     },
     "d48b2dd1-f4dd-4a96-b512-e043c6ab4728": {
      "model_module": "jupyter-threejs",
      "model_module_version": "^2.1.0",
      "model_name": "Object3DModel",
      "state": {
       "_view_module": null,
       "_view_module_version": ""
      }
     },
     "d496d858ccb14c509e8a8725162170cd": {
      "model_module": "jupyter-threejs",
      "model_module_version": "^2.1.0",
      "model_name": "SpriteMaterialModel",
      "state": {
       "_view_module": null,
       "_view_module_version": "",
       "map": "IPY_MODEL_4382611eb224457981220c40651f797e"
      }
     },
     "d51149410ebe4c36a0ad03bcab258993": {
      "buffers": [
       {
        "data": "AAAAAAEAAAA=",
        "encoding": "base64",
        "path": [
         "values",
         "buffer"
        ]
       },
       {
        "data": "AAAAAAMAAAA=",
        "encoding": "base64",
        "path": [
         "times",
         "buffer"
        ]
       }
      ],
      "model_module": "jupyter-threejs",
      "model_module_version": "^2.1.0",
      "model_name": "NumberKeyframeTrackModel",
      "state": {
       "_view_module": null,
       "_view_module_version": "",
       "name": "scene/B.morphTargetInfluences[0]",
       "times": {
        "dtype": "int32",
        "shape": [
         2
        ]
       },
       "values": {
        "dtype": "int32",
        "shape": [
         2
        ]
       }
      }
     },
     "d540a55663fb4b07941f41d5d68de0ee": {
      "model_module": "jupyter-threejs",
      "model_module_version": "^2.1.0",
      "model_name": "SpriteModel",
      "state": {
       "_view_module": null,
       "_view_module_version": "",
       "material": "IPY_MODEL_864c5ddc948e45ec874a00402a73d70b",
       "matrix": [
        0.05,
        0,
        0,
        0,
        0,
        0.07500000000000001,
        0,
        0,
        0,
        0,
        0.05,
        0,
        0,
        2,
        0,
        1
       ],
       "position": [
        0,
        2,
        0
       ],
       "scale": [
        0.05,
        0.07500000000000001,
        0.05
       ]
      }
     },
     "d8d5f1b4c2c14ba9aa6a5c8d79cadee1": {
      "buffers": [
       {
        "data": "AAABAAIAAQADAAIABAAFAAYABQAHAAYACAAJAAoACQALAAoADAANAA4ADQAPAA4AEAARABIAEQATABIAFAAVABYAFQAXABYA",
        "encoding": "base64",
        "path": [
         "array",
         "buffer"
        ]
       }
      ],
      "model_module": "jupyter-threejs",
      "model_module_version": "^2.1.0",
      "model_name": "BufferAttributeModel",
      "state": {
       "_view_module": null,
       "_view_module_version": "",
       "array": {
        "dtype": "uint16",
        "shape": [
         36
        ]
       },
       "version": 2
      }
     },
     "d9ef2d6f317f4c5e89e2cf3b46f4e8ee": {
      "model_module": "jupyter-threejs",
      "model_module_version": "^2.1.0",
      "model_name": "TextTextureModel",
      "state": {
       "_view_module": null,
       "_view_module_version": "",
       "size": 100,
       "squareTexture": false,
       "string": "2",
       "version": 2
      }
     },
     "dbc2de201cdf4e3d89d3f399fba8b6d7": {
      "model_module": "jupyter-threejs",
      "model_module_version": "^2.1.0",
      "model_name": "PerspectiveCameraModel",
      "state": {
       "_view_module": null,
       "_view_module_version": "",
       "matrix": [
        -0.7071067811865475,
        0.7071067811865475,
        5.551115123125783E-17,
        0,
        -0.40824829046386296,
        -0.4082482904638629,
        0.8164965809277259,
        0,
        0.5773502691896257,
        0.5773502691896256,
        0.577350269189626,
        0,
        3,
        3,
        3,
        1
       ],
       "matrixWorld": [
        -0.7071067811865475,
        0.7071067811865475,
        5.551115123125783E-17,
        0,
        -0.40824829046386296,
        -0.4082482904638629,
        0.8164965809277259,
        0,
        0.5773502691896257,
        0.5773502691896256,
        0.577350269189626,
        0,
        3,
        3,
        3,
        1
       ],
       "matrixWorldInverse": [
        -0.7071067811865475,
        -0.4082482904638632,
        0.5773502691896257,
        0,
        0.7071067811865476,
        -0.4082482904638633,
        0.5773502691896257,
        0,
        0,
        0.816496580927726,
        0.5773502691896256,
        0,
        -3.3306690738754706E-16,
        1.3322676295501882E-15,
        -5.196152422706632,
        0.9999999999999999
       ],
       "position": [
        3,
        3,
        3
       ],
       "projectionMatrix": [
        2.1445069205095586,
        0,
        0,
        0,
        0,
        2.1445069205095586,
        0,
        0,
        0,
        0,
        -1.00010000500025,
        -1,
        0,
        0,
        -0.200010000500025,
        0
       ],
       "quaternion": [
        0.17591989660616114,
        0.4247082002778668,
        0.8204732385702833,
        0.3398511429799873
       ],
       "rotation": [
        -0.7853981633974481,
        0.6154797086703874,
        2.6179938779914944,
        "XYZ"
       ],
       "up": [
        0,
        0,
        1
       ]
      }
     },
     "dcc48686b25944039fe7c2e2708b5684": {
      "model_module": "jupyter-threejs",
      "model_module_version": "^2.1.0",
      "model_name": "GroupModel",
      "state": {
       "_view_module": null,
       "_view_module_version": "",
       "children": [
        "IPY_MODEL_a67e612929634c2986d89d7f25fbf87e",
        "IPY_MODEL_78b7a7ad31fe4490894c7b04ffbf3031"
       ]
      }
     },
     "dda89a4ca0104c2dbccdc349cacb9e28": {
      "model_module": "jupyter-threejs",
      "model_module_version": "^2.1.0",
      "model_name": "TextTextureModel",
      "state": {
       "_view_module": null,
       "_view_module_version": "",
       "size": 100,
       "squareTexture": false,
       "string": "z",
       "version": 2
      }
     },
     "de432bb393d0420d979275ce23279578": {
      "buffers": [
       {
        "data": "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",
        "encoding": "base64",
        "path": [
         "array",
         "buffer"
        ]
       }
      ],
      "model_module": "jupyter-threejs",
      "model_module_version": "^2.1.0",
      "model_name": "BufferAttributeModel",
      "state": {
       "_view_module": null,
       "_view_module_version": "",
       "array": {
        "dtype": "uint16",
        "shape": [
         2304
        ]
       },
       "version": 2
      }
     },
     "e1eb4d7a16804d668eaafabf00b95e44": {
      "model_module": "jupyter-threejs",
      "model_module_version": "^2.1.0",
      "model_name": "SpriteMaterialModel",
      "state": {
       "_view_module": null,
       "_view_module_version": "",
       "map": "IPY_MODEL_389abd7d99b74ba2bb9592754cd2d711"
      }
     },
     "e3b5b3dcfaf446618f5027fae2e35da9": {
      "model_module": "jupyter-threejs",
      "model_module_version": "^2.1.0",
      "model_name": "TextTextureModel",
      "state": {
       "_view_module": null,
       "_view_module_version": "",
       "size": 100,
       "squareTexture": false,
       "string": "6",
       "version": 2
      }
     },
     "e4196048-e6d2-41da-b023-933242dd2f21": {
      "model_module": "jupyter-threejs",
      "model_module_version": "^2.1.0",
      "model_name": "DirectionalLightShadowModel",
      "state": {
       "camera": "IPY_MODEL_85745692-c082-4f30-acac-c6297314b4a9"
      }
     },
     "e4933239e4c04a898dc24cb2caa8985f": {
      "model_module": "jupyter-threejs",
      "model_module_version": "^2.1.0",
      "model_name": "AnimationMixerModel",
      "state": {
       "_view_module": null,
       "_view_module_version": "",
       "rootObject": "IPY_MODEL_2cf65b6fc9754ee0b84c5a73f8154070"
      }
     },
     "e51baeadb45b4294ab7aaa5ef0754188": {
      "buffers": [
       {
        "data": "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",
        "encoding": "base64",
        "path": [
         "array",
         "buffer"
        ]
       }
      ],
      "model_module": "jupyter-threejs",
      "model_module_version": "^2.1.0",
      "model_name": "BufferAttributeModel",
      "state": {
       "_view_module": null,
       "_view_module_version": "",
       "array": {
        "dtype": "float32",
        "shape": [
         486,
         3
        ]
       },
       "normalized": true,
       "version": 2
      }
     },
     "e57cf8d9-2eb6-4b51-9364-6ef40858fbcf": {
      "model_module": "jupyter-threejs",
      "model_module_version": "^2.1.0",
      "model_name": "Object3DModel",
      "state": {}
     },
     "e6cbd34b-b9ac-436a-bcf8-c5f00d70c738": {
      "model_module": "jupyter-threejs",
      "model_module_version": "^2.1.0",
      "model_name": "DirectionalLightShadowModel",
      "state": {
       "camera": "IPY_MODEL_374048d9-bcbd-432d-a9e7-4a699d4f07f1"
      }
     },
     "e7af6a6118d8458ab1ce69bb127371ee": {
      "model_module": "jupyter-threejs",
      "model_module_version": "^2.1.0",
      "model_name": "MeshModel",
      "state": {
       "_view_module": null,
       "_view_module_version": "",
       "geometry": "IPY_MODEL_4d93c1593a0f42ffa658e49e56219cde",
       "material": "IPY_MODEL_1bb3b05795ab48b9b53b9151b4292a7c",
       "name": "B"
      }
     },
     "e7ca4da61ef640f8a6135d08c7a6a2e9": {
      "buffers": [
       {
        "data": "AAAAPwAAAD8AAAA/AAAAPwAAAD8AAAA/AAAAPwAAAD8AAAA/AAAAPwAAAD8AAAA/AAAAPwAAAD8AAAA/AAAAPwAAAD8AAAA/AAAAPwAAAD8AAAA/AAAAPwAAAD8AAAA/AAAAPwAAAD8AAAA/AAAAPwAAAD8AAAA/AAAAPwAAAD8AAAA/AAAAPwAAAD8AAAA/AAAAPwAAAD8AAAA/AAAAPwAAAD8AAAA/AAAAPwAAAD8AAAA/AAAAPwAAAD8AAAA/AAAAPwAAAD8AAAA/AAAAPwAAAD8AAAA/AAAAPwAAAD8AAAA/AAAAPwAAAD8AAAA/AAAAPwAAAD8AAAA/AAAAPwAAAD8AAAA/AAAAPwAAAD8AAAA/AAAAPwAAAD8AAAA/",
        "encoding": "base64",
        "path": [
         "array",
         "buffer"
        ]
       }
      ],
      "model_module": "jupyter-threejs",
      "model_module_version": "^2.1.0",
      "model_name": "BufferAttributeModel",
      "state": {
       "_view_module": null,
       "_view_module_version": "",
       "array": {
        "dtype": "float32",
        "shape": [
         24,
         3
        ]
       },
       "normalized": true,
       "version": 2
      }
     },
     "e7d3fa10f53e4624b89a642119fcb357": {
      "model_module": "jupyter-threejs",
      "model_module_version": "^2.1.0",
      "model_name": "AxesHelperModel",
      "state": {
       "_view_module": null,
       "_view_module_version": "",
       "size": 2,
       "type": "LineSegments"
      }
     },
     "e7e50e45ebaf425881d8261689c3b31a": {
      "model_module": "jupyter-threejs",
      "model_module_version": "^2.1.0",
      "model_name": "TextTextureModel",
      "state": {
       "_view_module": null,
       "_view_module_version": "",
       "size": 100,
       "squareTexture": false,
       "string": "y",
       "version": 2
      }
     },
     "eb11b3a0-df03-41cb-90a9-85357611afff": {
      "model_module": "jupyter-threejs",
      "model_module_version": "^2.1.0",
      "model_name": "Object3DModel",
      "state": {}
     },
     "ef008762f726418ab39073700d9a8cc1": {
      "model_module": "jupyter-threejs",
      "model_module_version": "^2.1.0",
      "model_name": "SpriteModel",
      "state": {
       "_view_module": null,
       "_view_module_version": "",
       "material": "IPY_MODEL_2a2d00b9b5b24a2987443bc06fb4ba32",
       "matrix": [
        0.05,
        0,
        0,
        0,
        0,
        0.07500000000000001,
        0,
        0,
        0,
        0,
        0.05,
        0,
        0,
        1,
        0,
        1
       ],
       "position": [
        0,
        1,
        0
       ],
       "scale": [
        0.05,
        0.07500000000000001,
        0.05
       ]
      }
     },
     "ef1761002f2446029ebcaad5bb8395e3": {
      "model_module": "jupyter-threejs",
      "model_module_version": "^2.1.0",
      "model_name": "SpriteModel",
      "state": {
       "_view_module": null,
       "_view_module_version": "",
       "material": "IPY_MODEL_76eb9a7242584914b2cee9f48301e6d7",
       "matrix": [
        0.05,
        0,
        0,
        0,
        0,
        0.07500000000000001,
        0,
        0,
        0,
        0,
        0.05,
        0,
        0,
        0,
        1,
        1
       ],
       "position": [
        0,
        0,
        1
       ],
       "scale": [
        0.05,
        0.07500000000000001,
        0.05
       ]
      }
     },
     "f02d307f18074d4aa75d966a9e1cc439": {
      "model_module": "jupyter-threejs",
      "model_module_version": "^2.1.0",
      "model_name": "SpriteModel",
      "state": {
       "_view_module": null,
       "_view_module_version": "",
       "material": "IPY_MODEL_90f1c8cc5f6b4fe0bab51f90c7b53456",
       "matrix": [
        0.05,
        0,
        0,
        0,
        0,
        0.07500000000000001,
        0,
        0,
        0,
        0,
        0.05,
        0,
        1,
        0,
        1,
        1
       ],
       "position": [
        1,
        0,
        1
       ],
       "scale": [
        0.05,
        0.07500000000000001,
        0.05
       ]
      }
     },
     "f22b5e774e8b4739ae9462d19f2a8fee": {
      "model_module": "jupyter-threejs",
      "model_module_version": "^2.1.0",
      "model_name": "TextTextureModel",
      "state": {
       "_view_module": null,
       "_view_module_version": "",
       "size": 100,
       "squareTexture": false,
       "string": "3",
       "version": 2
      }
     },
     "f3078f65-d9df-4f69-9c72-b3d40d097d4e": {
      "model_module": "jupyter-threejs",
      "model_module_version": "^2.1.0",
      "model_name": "DirectionalLightShadowModel",
      "state": {
       "camera": "IPY_MODEL_58ddfe3a-fd40-4a96-8fd3-a436dac827c3"
      }
     },
     "f31b290c-c2a7-487e-959d-204365818e5f": {
      "model_module": "jupyter-threejs",
      "model_module_version": "^2.1.0",
      "model_name": "Object3DModel",
      "state": {}
     },
     "f383674e7c8340efbb878410133ab2f8": {
      "model_module": "jupyter-threejs",
      "model_module_version": "^2.1.0",
      "model_name": "TextTextureModel",
      "state": {
       "_view_module": null,
       "_view_module_version": "",
       "size": 100,
       "squareTexture": false,
       "string": "6",
       "version": 2
      }
     },
     "f40d092142384d24a86e362dae4e8234": {
      "model_module": "jupyter-threejs",
      "model_module_version": "^2.1.0",
      "model_name": "WebGLShadowMapModel",
      "state": {
       "_view_module": null,
       "_view_module_version": ""
      }
     },
     "f40dfd0feafa4626b2611939746b1e58": {
      "model_module": "jupyter-threejs",
      "model_module_version": "^2.1.0",
      "model_name": "TextTextureModel",
      "state": {
       "_view_module": null,
       "_view_module_version": "",
       "size": 100,
       "squareTexture": false,
       "string": "3",
       "version": 2
      }
     },
     "f5762eeaf01e418798f9e068d36c5771": {
      "model_module": "jupyter-threejs",
      "model_module_version": "^2.1.0",
      "model_name": "SpriteMaterialModel",
      "state": {
       "_view_module": null,
       "_view_module_version": "",
       "map": "IPY_MODEL_558292dfe3df45d6827fbf19dfea311a"
      }
     },
     "f58aed71f0d34d349ff3f005203a1fb4": {
      "model_module": "jupyter-threejs",
      "model_module_version": "^2.1.0",
      "model_name": "SpriteMaterialModel",
      "state": {
       "_view_module": null,
       "_view_module_version": "",
       "map": "IPY_MODEL_31c25b64b1ff4cd2b491a02534179f09"
      }
     },
     "f58d1ec01b394f0f894e97ddae7b526a": {
      "model_module": "jupyter-threejs",
      "model_module_version": "^2.1.0",
      "model_name": "AnimationActionModel",
      "state": {
       "_model_module": "jupyter-threejs",
       "_model_module_version": "^2.1.0",
       "_model_name": "AnimationActionModel",
       "_view_module_version": "^2.1.0",
       "clip": "IPY_MODEL_5120f2bf68f747ce85d32600ab4b2750",
       "layout": "IPY_MODEL_7c9eb7a80d43439c95dba619d17c0850",
       "localRoot": "IPY_MODEL_3f4e0073952d4737b8b7228fe9fbe82d",
       "mixer": "IPY_MODEL_caa03b0c37044653b75f752467b026ac",
       "repititions": "inf"
      }
     },
     "f6a79cd18f62428e89ee72d562e208a3": {
      "buffers": [
       {
        "data": "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",
        "encoding": "base64",
        "path": [
         "array",
         "buffer"
        ]
       }
      ],
      "model_module": "jupyter-threejs",
      "model_module_version": "^2.1.0",
      "model_name": "BufferAttributeModel",
      "state": {
       "_view_module": null,
       "_view_module_version": "",
       "array": {
        "dtype": "uint16",
        "shape": [
         2304
        ]
       },
       "version": 2
      }
     },
     "f72b7b8d6aeb43a1b94e1e7a43113269": {
      "model_module": "jupyter-threejs",
      "model_module_version": "^2.1.0",
      "model_name": "GroupModel",
      "state": {
       "_view_module": null,
       "_view_module_version": "",
       "children": [
        "IPY_MODEL_ad909ab2d26d4d4184d5ba4c6dbceb20",
        "IPY_MODEL_97b4458c9dee424eb435c43db7501302"
       ]
      }
     },
     "f7577216187b4d2b8d4f5f6078021826": {
      "model_module": "jupyter-threejs",
      "model_module_version": "^2.1.0",
      "model_name": "SceneModel",
      "state": {
       "_view_module": null,
       "_view_module_version": "",
       "children": [
        "IPY_MODEL_bdc36c1c0b1b4fe59bc3d3c0e660da6a",
        "IPY_MODEL_ad909ab2d26d4d4184d5ba4c6dbceb20",
        "IPY_MODEL_97b4458c9dee424eb435c43db7501302",
        "IPY_MODEL_3ea78598cf9a464dbcab8594c8e4ace0",
        "IPY_MODEL_55a6bcb2cc9c4771bfdcab5bfa7730a7",
        "IPY_MODEL_763b26dcebd94ccf89219633c310a80d",
        "IPY_MODEL_271c35b32f0640b88346a57883d30e17",
        "IPY_MODEL_ef008762f726418ab39073700d9a8cc1",
        "IPY_MODEL_08d41788a3c1408a951c533059199b37",
        "IPY_MODEL_341e67b8530a4fd1a930ce497d00e04d",
        "IPY_MODEL_6cbdd547f431427696e8a9eaf4ded2d0",
        "IPY_MODEL_9fafb374cf7740f6a5b23193a8eb81d3",
        "IPY_MODEL_46b34b78e24c48a8b94e923a20359ec5",
        "IPY_MODEL_1d5fdcc370c348e6b0bed38a1e38c053",
        "IPY_MODEL_bab0d94c2a894959bf23e65d823d783a",
        "IPY_MODEL_1d3b06a499ab4e77a55d8bf48bd01786"
       ]
      }
     },
     "f7fe6190dac14945b5847be63da12f63": {
      "model_module": "jupyter-threejs",
      "model_module_version": "^2.1.0",
      "model_name": "SpriteMaterialModel",
      "state": {
       "_view_module": null,
       "_view_module_version": "",
       "map": "IPY_MODEL_c235a4e0ce264b55aa51747e1fafef73"
      }
     },
     "f8276ba56d3c41f883723e9330be91bd": {
      "model_module": "jupyter-threejs",
      "model_module_version": "^2.1.0",
      "model_name": "MeshModel",
      "state": {
       "_view_module": null,
       "_view_module_version": "",
       "geometry": "IPY_MODEL_bc73ae1d0bf14b4eb64e008a0b8e3e5a",
       "material": "IPY_MODEL_d146159381b14968ba365789236a0dac",
       "morphTargetInfluences": []
      }
     },
     "f8d09e3bce8f48b9b73f651eddea11b8": {
      "model_module": "jupyter-threejs",
      "model_module_version": "^2.1.0",
      "model_name": "BufferGeometryModel",
      "state": {
       "_view_module": null,
       "_view_module_version": "",
       "attributes": {
        "color": "IPY_MODEL_5ddd6d865621400aaafc8f4d000b07eb",
        "position": "IPY_MODEL_28ad941fc6a2420ebb716cfc52dc3446"
       },
       "index": "IPY_MODEL_c587b44c103b4bb180f2c41cbeea0289",
       "morphAttributes": {
        "position": [
         "IPY_MODEL_d1c3a524fff641cc85dc812c831db514"
        ]
       }
      }
     },
     "f8d3987ffc9e4d779fc454e8ced6fed4": {
      "model_module": "jupyter-threejs",
      "model_module_version": "^2.1.0",
      "model_name": "SpriteModel",
      "state": {
       "_view_module": null,
       "_view_module_version": "",
       "material": "IPY_MODEL_92b4a9a0fd2f45ed846deddaf6c6ee87",
       "matrix": [
        0.05,
        0,
        0,
        0,
        0,
        0.07500000000000001,
        0,
        0,
        0,
        0,
        0.05,
        0,
        0,
        0,
        2,
        1
       ],
       "position": [
        0,
        0,
        2
       ],
       "scale": [
        0.05,
        0.07500000000000001,
        0.05
       ]
      }
     },
     "fd5f7d81f7884f1fad77d3d34e088f29": {
      "model_module": "jupyter-threejs",
      "model_module_version": "^2.1.0",
      "model_name": "SpriteModel",
      "state": {
       "_view_module": null,
       "_view_module_version": "",
       "material": "IPY_MODEL_55531106c17241229ab2a0f6af870dcf",
       "matrix": [
        0.05,
        0,
        0,
        0,
        0,
        0.07500000000000001,
        0,
        0,
        0,
        0,
        0.05,
        0,
        1,
        0,
        0,
        1
       ],
       "position": [
        1,
        0,
        0
       ],
       "scale": [
        0.05,
        0.07500000000000001,
        0.05
       ]
      }
     },
     "fe84c1f84888448c88c2694f76408fb5": {
      "model_module": "jupyter-threejs",
      "model_module_version": "^2.1.0",
      "model_name": "DirectionalLightModel",
      "state": {
       "_view_module": null,
       "_view_module_version": "",
       "intensity": 0.5,
       "matrixWorldNeedsUpdate": true,
       "position": [
        16,
        12,
        17
       ],
       "shadow": "IPY_MODEL_0ee9f979-bf6f-42b4-8b6b-59c06b707269",
       "target": "IPY_MODEL_bf84f430-64a0-4346-b3e9-547688e063c5"
      }
     },
     "ffab9d6cc14e44e28227df06c306da33": {
      "model_module": "jupyter-threejs",
      "model_module_version": "^2.1.0",
      "model_name": "TextTextureModel",
      "state": {
       "_view_module": null,
       "_view_module_version": "",
       "size": 100,
       "squareTexture": false,
       "string": "4",
       "version": 2
      }
     }
    },
    "version_major": 2,
    "version_minor": 0
   }
  }
 },
 "nbformat": 4,
 "nbformat_minor": 4
}
